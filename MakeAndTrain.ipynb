{
 "cells": [
  {
   "cell_type": "code",
   "execution_count": 1,
   "id": "746220b2",
   "metadata": {},
   "outputs": [
    {
     "data": {
      "text/html": [
       "<style>.container { width:100% !important; }</style>"
      ],
      "text/plain": [
       "<IPython.core.display.HTML object>"
      ]
     },
     "metadata": {},
     "output_type": "display_data"
    }
   ],
   "source": [
    "from IPython.display import display, HTML\n",
    "display(HTML(\"<style>.container { width:100% !important; }</style>\"))\n"
   ]
  },
  {
   "cell_type": "code",
   "execution_count": 2,
   "id": "3edc4564",
   "metadata": {
    "scrolled": false
   },
   "outputs": [
    {
     "name": "stdout",
     "output_type": "stream",
     "text": [
      "\n",
      "*** Using device=mps ***\n",
      "\n",
      "Jupyter=True, MatPlotLib.isinteractive()=False\n",
      "Unique ID: g3R9xGeLTiqPgFr2aIV_FQ\n",
      "PlotVideoMaker: Hyper-Training, auto-save=True\n",
      "middle-C=261.63 Hz\n",
      "PlotVideoMaker: STFT_Video, auto-save=True\n",
      "Using sample rate=44100 Hz, FFT=2048 buckets, hop=1024 samples, duration=2.0 sec = 86 time steps\n",
      "Max frequency=22050 Hz --> freq_buckets=1025\n",
      "STFT file already created: STFT 44100 Hz, size=1024, hop=1024.pkl\n",
      "1 sample = 1,025 x 86 = 88,150\n",
      "fail_loss=100, last_saved_loss=33.333333333333336\n",
      "\n",
      "*** Using device=cpu ***\n",
      "\n"
     ]
    }
   ],
   "source": [
    "from HyperParameterTuning import *\n",
    "\n",
    "\n",
    "#set_display_hiddens(True) # interesting but annoying\n",
    "\n",
    "#hypertrain_AudioConv_VAE()\n",
    "set_fail_loss(100)\n",
    "set_device('cpu')\n",
    "#optimise_hyper_parameters(\"AudioConv_AE\", None)\n",
    "\n",
    "# train_best_params(\"AudioConv_AE\", [5, -5, 3, 25, 40, 2.354596222354966]) # 326 epochs in 582.9 sec (1.79 sec/epoch), sample duration=2.0 sec, test loss=1.02, train loss=0.92, overfit=1.11\n",
    "# train_best_params(\"AudioConv_AE\", [5, -5, 3, 37, 40, 2.4362885363062032])\n",
    "# train_best_params(\"AudioConv_AE\", [5, -5, 3, 29, 41, 2.637848188932538])\n",
    "\n",
    "# for layers in range(2, 8):\n",
    "#     train_best_params(\"AudioConv_VAE_Incremental\", [4, -6, 12, layers, 10.0], None)\n",
    "\n",
    "#optimise_hyper_parameters(\"AudioConv_VAE_Incremental\", None)\n",
    "# train_best_params(\"AudioConv_VAE_Incremental\", [5, -5, 99, 3, 0.9917580468122362])\n",
    "# train_best_params(\"AudioConv_VAE_Incremental\", [4, -6, 200, 3, 3.1446861213325397])\n",
    "train_best_params(\"AudioConv_VAE_Incremental\", [6, -6, 41, 3, 4.792731073307729])\n",
    "\n",
    "\n",
    "\n",
    "# from MakeSTFTs import *\n",
    "# from Train import *\n",
    "# from AudioUtils import *\n",
    "\n",
    "# Load a demo sample, convert to STFT and back and play the sound.\n",
    "#demo_stft(\"Samples/Piano C4 Major 13.wav\", 2048, 2048*3//4)\n",
    "\n"
   ]
  },
  {
   "cell_type": "code",
   "execution_count": 3,
   "id": "e0542eb5",
   "metadata": {
    "scrolled": false
   },
   "outputs": [],
   "source": [
    "# Read all available samples and convert to STFTs\n",
    "# This is performed automatically in the back-ground, but you can force it manually here with plots of the rejected audio files.\n",
    "#make_STFTs(True)\n",
    "\n",
    "#test_stft_conversions(\"Samples/Piano C4 Major 13 - 44.1 kHz.wav\")\n",
    "#stop()"
   ]
  },
  {
   "cell_type": "code",
   "execution_count": 4,
   "id": "9ff999e2",
   "metadata": {},
   "outputs": [],
   "source": [
    "# Find out the best hyper-parameters to train this model (typically needs to run overnight)\n",
    "#model = \"StepWiseMLP\" # or \"RNNAutoEncoder\" and RNN_VAE_Incremental\", or \"StepWiseMLP\" and \"MLPVAE_Incremental\"\n",
    "\n",
    "\n",
    "#model = \"RNNAutoEncoder\"\n",
    "#model = \"RNN_VAE\"\n",
    "#model = \"RNN_VAE_Incremental\"\n",
    "\n",
    "#model = \"StepWiseMLP\"\n",
    "#model = \"MLP_VAE\"\n",
    "#model = \"MLPVAE_Incremental\"\n",
    "\n",
    "#model = \"RNN_F&T\"\n",
    "\n",
    "#model = \"STFT_VAE\"\n",
    "\n",
    "#model = \"Conv2D_AE\"\n",
    "#model = \"Conv2D_VAE_Incremental\"\n",
    "\n",
    "model = \"AudioConv_AE\"\n",
    "#model = \"AudioConv_VAE_Incremental\"\n",
    "#model = \"AudioConv_VAE\"\n",
    "\n",
    "# First optimise the hyper-parameters for this model\n",
    "#optimise_hyper_parameters(model)\n",
    "\n",
    "# Then train using the best hyper-parameters\n",
    "#train_best_params(model)\n",
    "\n",
    "\n",
    "# Alternatively, refine the training for the best set of hyper-parameters we've found\n"
   ]
  },
  {
   "cell_type": "code",
   "execution_count": 5,
   "id": "f31a5095",
   "metadata": {
    "scrolled": false
   },
   "outputs": [
    {
     "name": "stdout",
     "output_type": "stream",
     "text": [
      "AudioConv_AE: stored params=[5, -5, 3, 25, 40, 2.354596222354966]\n",
      "AudioConv_AE layers=3, kernels=25, size=40, stride_ratio=2.354596222354966\n",
      "\tlayer 1: kernel= 40, stride=16, length=5,511, compression=  16.0x\n",
      "\tlayer 2: kernel= 28, stride=11, length=  499, compression=  11.0x\n",
      "\tlayer 3: kernel= 20, stride= 8, length=   60, compression=   8.3x\n",
      "\tencoded shape=(25, 61), size=1525\n",
      "\tdecoded shape=(1, 86888), size=86888\n",
      "AudioConv_AE 62,126 parameters, compression=57.8\n",
      "AudioConv_AE(\n",
      "  (encoder): Sequential(\n",
      "    (0): Conv1d(1, 25, kernel_size=(40,), stride=(16,))\n",
      "    (1): Conv1d(25, 25, kernel_size=(28,), stride=(11,))\n",
      "    (2): Conv1d(25, 25, kernel_size=(20,), stride=(8,))\n",
      "    (3): NormalizeWithAmplitudes()\n",
      "  )\n",
      "  (decoder): Sequential(\n",
      "    (0): ReverseNormalizeWithAmplitudes()\n",
      "    (1): ConvTranspose1d(25, 25, kernel_size=(20,), stride=(8,))\n",
      "    (2): ConvTranspose1d(25, 25, kernel_size=(28,), stride=(11,))\n",
      "    (3): ConvTranspose1d(25, 1, kernel_size=(40,), stride=(16,))\n",
      "  )\n",
      ")\n",
      "model=AudioConv_AE(\n",
      "  (encoder): Sequential(\n",
      "    (0): Conv1d(1, 25, kernel_size=(40,), stride=(16,))\n",
      "    (1): Conv1d(25, 25, kernel_size=(28,), stride=(11,))\n",
      "    (2): Conv1d(25, 25, kernel_size=(20,), stride=(8,))\n",
      "    (3): NormalizeWithAmplitudes()\n",
      "  )\n",
      "  (decoder): Sequential(\n",
      "    (0): ReverseNormalizeWithAmplitudes()\n",
      "    (1): ConvTranspose1d(25, 25, kernel_size=(20,), stride=(8,))\n",
      "    (2): ConvTranspose1d(25, 25, kernel_size=(28,), stride=(11,))\n",
      "    (3): ConvTranspose1d(25, 1, kernel_size=(40,), stride=(16,))\n",
      "  )\n",
      ")\n",
      "Loading weights & biases from file 'Models/AudioConv_AE.wab'\n",
      "AudioConv_AE has 62,126 weights & biases, using device=cpu\n",
      "Generate samples using {model_text}\n",
      "Loaded 1017 samples from Audio 44100.pkl\n",
      "Samples by Category:\n",
      " 231 =  22.7% : Vocal\n",
      " 176 =  17.3% : Synth\n",
      " 127 =  12.5% : Guitar\n",
      " 119 =  11.7% : No Category\n",
      "  62 =   6.1% : Bass\n",
      "  62 =   6.1% : Synth Makes\n",
      "  49 =   4.8% : Plucked\n",
      "  31 =   3.0% : Bell\n",
      "  30 =   2.9% : Strings\n",
      "  29 =   2.9% : Pad\n",
      "  23 =   2.3% : Piano\n",
      "  20 =   2.0% : Brass\n",
      "  19 =   1.9% : E-Piano\n",
      "  17 =   1.7% : Wind\n",
      "   8 =   0.8% : Organ\n",
      "   8 =   0.8% : Percussion\n",
      "   6 =   0.6% : Pulsing\n"
     ]
    },
    {
     "data": {
      "image/png": "[encoded data removed]",
      "text/plain": [
       "<Figure size 1000x600 with 1 Axes>"
      ]
     },
     "metadata": {},
     "output_type": "display_data"
    },
    {
     "data": {
      "text/html": [
       "<a href=\"Results/Casio-CZ-5000-Human-Voice-C4 - resynth.wav\" target=\"_blank\">Casio-CZ-5000-Human-Voice-C4: loss=1.81%</a>"
      ],
      "text/plain": [
       "<IPython.core.display.HTML object>"
      ]
     },
     "metadata": {},
     "output_type": "display_data"
    },
    {
     "data": {
      "text/html": [
       "<a href=\"Results/Cheap Rompler Pad 13 C3 - resynth.wav\" target=\"_blank\">Cheap Rompler Pad 13 C3: loss=2.36%</a>"
      ],
      "text/plain": [
       "<IPython.core.display.HTML object>"
      ]
     },
     "metadata": {},
     "output_type": "display_data"
    },
    {
     "data": {
      "text/html": [
       "<a href=\"Results/Casio-VZ-10M-Soft-Glass-C4 - resynth.wav\" target=\"_blank\">Casio-VZ-10M-Soft-Glass-C4: loss=2.49%</a>"
      ],
      "text/plain": [
       "<IPython.core.display.HTML object>"
      ]
     },
     "metadata": {},
     "output_type": "display_data"
    },
    {
     "data": {
      "text/html": [
       "<a href=\"Results/Anastacia Stacc Aa RR3 C4 - resynth.wav\" target=\"_blank\">Anastacia Stacc Aa RR3 C4: loss=2.99%</a>"
      ],
      "text/plain": [
       "<IPython.core.display.HTML object>"
      ]
     },
     "metadata": {},
     "output_type": "display_data"
    },
    {
     "data": {
      "text/html": [
       "<a href=\"Results/Alesis-S4-Plus-FlugelSolo-C4 - resynth.wav\" target=\"_blank\">Alesis-S4-Plus-FlugelSolo-C4: loss=3.09%</a>"
      ],
      "text/plain": [
       "<IPython.core.display.HTML object>"
      ]
     },
     "metadata": {},
     "output_type": "display_data"
    },
    {
     "data": {
      "text/html": [
       "<a href=\"Results/Alesis-Fusion-Voice-Oohs-C4 - resynth.wav\" target=\"_blank\">Alesis-Fusion-Voice-Oohs-C4: loss=3.71%</a>"
      ],
      "text/plain": [
       "<IPython.core.display.HTML object>"
      ]
     },
     "metadata": {},
     "output_type": "display_data"
    },
    {
     "data": {
      "text/html": [
       "<a href=\"Results/Anastacia Stacc La 1 C4 - resynth.wav\" target=\"_blank\">Anastacia Stacc La 1 C4: loss=4.06%</a>"
      ],
      "text/plain": [
       "<IPython.core.display.HTML object>"
      ]
     },
     "metadata": {},
     "output_type": "display_data"
    },
    {
     "data": {
      "text/html": [
       "<a href=\"Results/Anastacia Stacc La 3 C4 - resynth.wav\" target=\"_blank\">Anastacia Stacc La 3 C4: loss=4.47%</a>"
      ],
      "text/plain": [
       "<IPython.core.display.HTML object>"
      ]
     },
     "metadata": {},
     "output_type": "display_data"
    },
    {
     "data": {
      "text/html": [
       "<a href=\"Results/Anastacia Stacc La 2 C4 - resynth.wav\" target=\"_blank\">Anastacia Stacc La 2 C4: loss=4.75%</a>"
      ],
      "text/plain": [
       "<IPython.core.display.HTML object>"
      ]
     },
     "metadata": {},
     "output_type": "display_data"
    },
    {
     "data": {
      "text/html": [
       "<a href=\"Results/Alesis-Sanctuary-QCard-Tonewheel-C3 - resynth.wav\" target=\"_blank\">Alesis-Sanctuary-QCard-Tonewheel-C3: loss=5.15%</a>"
      ],
      "text/plain": [
       "<IPython.core.display.HTML object>"
      ]
     },
     "metadata": {},
     "output_type": "display_data"
    },
    {
     "data": {
      "text/html": [
       "<a href=\"Results/Anastacia Stacc Pa 3 C4 - resynth.wav\" target=\"_blank\">Anastacia Stacc Pa 3 C4: loss=5.58%</a>"
      ],
      "text/plain": [
       "<IPython.core.display.HTML object>"
      ]
     },
     "metadata": {},
     "output_type": "display_data"
    },
    {
     "data": {
      "text/html": [
       "<a href=\"Results/Anastacia Stacc Aa RR1 C4 - resynth.wav\" target=\"_blank\">Anastacia Stacc Aa RR1 C4: loss=5.65%</a>"
      ],
      "text/plain": [
       "<IPython.core.display.HTML object>"
      ]
     },
     "metadata": {},
     "output_type": "display_data"
    },
    {
     "data": {
      "text/html": [
       "<a href=\"Results/FM Voice Nearly Vocal C3 - resynth.wav\" target=\"_blank\">FM Voice Nearly Vocal C3: loss=6.07%</a>"
      ],
      "text/plain": [
       "<IPython.core.display.HTML object>"
      ]
     },
     "metadata": {},
     "output_type": "display_data"
    },
    {
     "data": {
      "text/html": [
       "<a href=\"Results/Anastacia Stacc Oh 3 C4 - resynth.wav\" target=\"_blank\">Anastacia Stacc Oh 3 C4: loss=6.14%</a>"
      ],
      "text/plain": [
       "<IPython.core.display.HTML object>"
      ]
     },
     "metadata": {},
     "output_type": "display_data"
    },
    {
     "data": {
      "text/html": [
       "<a href=\"Results/Alesis-Sanctuary-QCard-Promenade-C3 - resynth.wav\" target=\"_blank\">Alesis-Sanctuary-QCard-Promenade-C3: loss=6.44%</a>"
      ],
      "text/plain": [
       "<IPython.core.display.HTML object>"
      ]
     },
     "metadata": {},
     "output_type": "display_data"
    },
    {
     "data": {
      "text/html": [
       "<a href=\"Results/Pad Wave C3 - resynth.wav\" target=\"_blank\">Pad Wave C3: loss=6.51%</a>"
      ],
      "text/plain": [
       "<IPython.core.display.HTML object>"
      ]
     },
     "metadata": {},
     "output_type": "display_data"
    },
    {
     "data": {
      "text/html": [
       "<a href=\"Results/Ensoniq-SQ-1-Clarinet-C4 - resynth.wav\" target=\"_blank\">Ensoniq-SQ-1-Clarinet-C4: loss=6.61%</a>"
      ],
      "text/plain": [
       "<IPython.core.display.HTML object>"
      ]
     },
     "metadata": {},
     "output_type": "display_data"
    },
    {
     "data": {
      "text/html": [
       "<a href=\"Results/Alesis-S4-Plus-Calliope-C4 - resynth.wav\" target=\"_blank\">Alesis-S4-Plus-Calliope-C4: loss=6.73%</a>"
      ],
      "text/plain": [
       "<IPython.core.display.HTML object>"
      ]
     },
     "metadata": {},
     "output_type": "display_data"
    },
    {
     "data": {
      "text/html": [
       "<a href=\"Results/Casio-CZ-5000-Vibraphone-C3 - resynth.wav\" target=\"_blank\">Casio-CZ-5000-Vibraphone-C3: loss=6.79%</a>"
      ],
      "text/plain": [
       "<IPython.core.display.HTML object>"
      ]
     },
     "metadata": {},
     "output_type": "display_data"
    },
    {
     "data": {
      "text/html": [
       "<a href=\"Results/Casio-MT-45-Piano-C4 - resynth.wav\" target=\"_blank\">Casio-MT-45-Piano-C4: loss=7.21%</a>"
      ],
      "text/plain": [
       "<IPython.core.display.HTML object>"
      ]
     },
     "metadata": {},
     "output_type": "display_data"
    },
    {
     "data": {
      "text/html": [
       "<a href=\"Results/Basic Electric Bass C4 - resynth.wav\" target=\"_blank\">Basic Electric Bass C4: loss=7.23%</a>"
      ],
      "text/plain": [
       "<IPython.core.display.HTML object>"
      ]
     },
     "metadata": {},
     "output_type": "display_data"
    },
    {
     "data": {
      "text/html": [
       "<a href=\"Results/80s Digital Synth Dirty Sine C3 - resynth.wav\" target=\"_blank\">80s Digital Synth Dirty Sine C3: loss=7.26%</a>"
      ],
      "text/plain": [
       "<IPython.core.display.HTML object>"
      ]
     },
     "metadata": {},
     "output_type": "display_data"
    },
    {
     "data": {
      "text/html": [
       "<a href=\"Results/Ensoniq-ESQ-1-Steel-Drum-C3 - resynth.wav\" target=\"_blank\">Ensoniq-ESQ-1-Steel-Drum-C3: loss=7.29%</a>"
      ],
      "text/plain": [
       "<IPython.core.display.HTML object>"
      ]
     },
     "metadata": {},
     "output_type": "display_data"
    },
    {
     "data": {
      "text/html": [
       "<a href=\"Results/Anastacia Stacc Da 1 C4 - resynth.wav\" target=\"_blank\">Anastacia Stacc Da 1 C4: loss=7.35%</a>"
      ],
      "text/plain": [
       "<IPython.core.display.HTML object>"
      ]
     },
     "metadata": {},
     "output_type": "display_data"
    },
    {
     "data": {
      "text/html": [
       "<a href=\"Results/Kawai-PHm-Real-Rodes-C4 - resynth.wav\" target=\"_blank\">Kawai-PHm-Real-Rodes-C4: loss=7.44%</a>"
      ],
      "text/plain": [
       "<IPython.core.display.HTML object>"
      ]
     },
     "metadata": {},
     "output_type": "display_data"
    },
    {
     "data": {
      "text/html": [
       "<a href=\"Results/E-Mu-Proteus-FX-Kalimba-C4 - resynth.wav\" target=\"_blank\">E-Mu-Proteus-FX-Kalimba-C4: loss=7.48%</a>"
      ],
      "text/plain": [
       "<IPython.core.display.HTML object>"
      ]
     },
     "metadata": {},
     "output_type": "display_data"
    },
    {
     "data": {
      "text/html": [
       "<a href=\"Results/Anastacia Stacc Pa 1 C4 - resynth.wav\" target=\"_blank\">Anastacia Stacc Pa 1 C4: loss=7.53%</a>"
      ],
      "text/plain": [
       "<IPython.core.display.HTML object>"
      ]
     },
     "metadata": {},
     "output_type": "display_data"
    },
    {
     "data": {
      "text/html": [
       "<a href=\"Results/Electric Fat Fingers 2 C4 - resynth.wav\" target=\"_blank\">Electric Fat Fingers 2 C4: loss=7.78%</a>"
      ],
      "text/plain": [
       "<IPython.core.display.HTML object>"
      ]
     },
     "metadata": {},
     "output_type": "display_data"
    },
    {
     "data": {
      "text/html": [
       "<a href=\"Results/M1 Style Organ C4 - resynth.wav\" target=\"_blank\">M1 Style Organ C4: loss=8.06%</a>"
      ],
      "text/plain": [
       "<IPython.core.display.HTML object>"
      ]
     },
     "metadata": {},
     "output_type": "display_data"
    },
    {
     "data": {
      "text/html": [
       "<a href=\"Results/High Granular Harmonic C4 - resynth.wav\" target=\"_blank\">High Granular Harmonic C4: loss=8.19%</a>"
      ],
      "text/plain": [
       "<IPython.core.display.HTML object>"
      ]
     },
     "metadata": {},
     "output_type": "display_data"
    },
    {
     "data": {
      "text/html": [
       "<a href=\"Results/Anastacia Stacc Da 2 C4 - resynth.wav\" target=\"_blank\">Anastacia Stacc Da 2 C4: loss=8.25%</a>"
      ],
      "text/plain": [
       "<IPython.core.display.HTML object>"
      ]
     },
     "metadata": {},
     "output_type": "display_data"
    },
    {
     "data": {
      "text/html": [
       "<a href=\"Results/Anastacia Stacc Ee 3 C4 - resynth.wav\" target=\"_blank\">Anastacia Stacc Ee 3 C4: loss=8.52%</a>"
      ],
      "text/plain": [
       "<IPython.core.display.HTML object>"
      ]
     },
     "metadata": {},
     "output_type": "display_data"
    },
    {
     "data": {
      "text/html": [
       "<a href=\"Results/Anastacia Stacc Pa 2 C4 - resynth.wav\" target=\"_blank\">Anastacia Stacc Pa 2 C4: loss=8.69%</a>"
      ],
      "text/plain": [
       "<IPython.core.display.HTML object>"
      ]
     },
     "metadata": {},
     "output_type": "display_data"
    },
    {
     "data": {
      "text/html": [
       "<a href=\"Results/Voxtron mf C3 - resynth.wav\" target=\"_blank\">Voxtron mf C3: loss=8.79%</a>"
      ],
      "text/plain": [
       "<IPython.core.display.HTML object>"
      ]
     },
     "metadata": {},
     "output_type": "display_data"
    },
    {
     "data": {
      "text/html": [
       "<a href=\"Results/80s Analog Solid Bass C3 - resynth.wav\" target=\"_blank\">80s Analog Solid Bass C3: loss=8.98%</a>"
      ],
      "text/plain": [
       "<IPython.core.display.HTML object>"
      ]
     },
     "metadata": {},
     "output_type": "display_data"
    },
    {
     "data": {
      "text/html": [
       "<a href=\"Results/Kalimba C4 - resynth.wav\" target=\"_blank\">Kalimba C4: loss=9.19%</a>"
      ],
      "text/plain": [
       "<IPython.core.display.HTML object>"
      ]
     },
     "metadata": {},
     "output_type": "display_data"
    },
    {
     "data": {
      "text/html": [
       "<a href=\"Results/Acoustic Guitar 2 Plect 3 C3 - resynth.wav\" target=\"_blank\">Acoustic Guitar 2 Plect 3 C3: loss=9.23%</a>"
      ],
      "text/plain": [
       "<IPython.core.display.HTML object>"
      ]
     },
     "metadata": {},
     "output_type": "display_data"
    },
    {
     "data": {
      "text/html": [
       "<a href=\"Results/80s Analog Solid Bass C4 - resynth.wav\" target=\"_blank\">80s Analog Solid Bass C4: loss=9.24%</a>"
      ],
      "text/plain": [
       "<IPython.core.display.HTML object>"
      ]
     },
     "metadata": {},
     "output_type": "display_data"
    },
    {
     "data": {
      "text/html": [
       "<a href=\"Results/1974 Dark Bass C4 - resynth.wav\" target=\"_blank\">1974 Dark Bass C4: loss=9.38%</a>"
      ],
      "text/plain": [
       "<IPython.core.display.HTML object>"
      ]
     },
     "metadata": {},
     "output_type": "display_data"
    },
    {
     "data": {
      "text/html": [
       "<a href=\"Results/E-Piano C4 - resynth.wav\" target=\"_blank\">E-Piano C4: loss=9.48%</a>"
      ],
      "text/plain": [
       "<IPython.core.display.HTML object>"
      ]
     },
     "metadata": {},
     "output_type": "display_data"
    },
    {
     "data": {
      "text/html": [
       "<a href=\"Results/Electric Fat Fingers 2 C3 - resynth.wav\" target=\"_blank\">Electric Fat Fingers 2 C3: loss=9.76%</a>"
      ],
      "text/plain": [
       "<IPython.core.display.HTML object>"
      ]
     },
     "metadata": {},
     "output_type": "display_data"
    },
    {
     "data": {
      "text/html": [
       "<a href=\"Results/Ensoniq-ZR-76-Flugelhorn-C4 - resynth.wav\" target=\"_blank\">Ensoniq-ZR-76-Flugelhorn-C4: loss=9.78%</a>"
      ],
      "text/plain": [
       "<IPython.core.display.HTML object>"
      ]
     },
     "metadata": {},
     "output_type": "display_data"
    },
    {
     "data": {
      "text/html": [
       "<a href=\"Results/Anastacia Stacc Pa 1 C3 - resynth.wav\" target=\"_blank\">Anastacia Stacc Pa 1 C3: loss=9.97%</a>"
      ],
      "text/plain": [
       "<IPython.core.display.HTML object>"
      ]
     },
     "metadata": {},
     "output_type": "display_data"
    },
    {
     "data": {
      "text/html": [
       "<a href=\"Results/Anastacia Stacc La 1 C3 - resynth.wav\" target=\"_blank\">Anastacia Stacc La 1 C3: loss=10.11%</a>"
      ],
      "text/plain": [
       "<IPython.core.display.HTML object>"
      ]
     },
     "metadata": {},
     "output_type": "display_data"
    },
    {
     "data": {
      "text/html": [
       "<a href=\"Results/Ensoniq-ESQ-1-FM-Piano-C4 - resynth.wav\" target=\"_blank\">Ensoniq-ESQ-1-FM-Piano-C4: loss=10.17%</a>"
      ],
      "text/plain": [
       "<IPython.core.display.HTML object>"
      ]
     },
     "metadata": {},
     "output_type": "display_data"
    },
    {
     "data": {
      "text/html": [
       "<a href=\"Results/12 String Pluck 2 C3 - resynth.wav\" target=\"_blank\">12 String Pluck 2 C3: loss=10.34%</a>"
      ],
      "text/plain": [
       "<IPython.core.display.HTML object>"
      ]
     },
     "metadata": {},
     "output_type": "display_data"
    },
    {
     "data": {
      "text/html": [
       "<a href=\"Results/Digital Voice C3 - resynth.wav\" target=\"_blank\">Digital Voice C3: loss=10.35%</a>"
      ],
      "text/plain": [
       "<IPython.core.display.HTML object>"
      ]
     },
     "metadata": {},
     "output_type": "display_data"
    },
    {
     "data": {
      "text/html": [
       "<a href=\"Results/12 String Pluck 4 C3 - resynth.wav\" target=\"_blank\">12 String Pluck 4 C3: loss=10.56%</a>"
      ],
      "text/plain": [
       "<IPython.core.display.HTML object>"
      ]
     },
     "metadata": {},
     "output_type": "display_data"
    },
    {
     "data": {
      "text/html": [
       "<a href=\"Results/Electric Fat Plect 3 C3 - resynth.wav\" target=\"_blank\">Electric Fat Plect 3 C3: loss=10.78%</a>"
      ],
      "text/plain": [
       "<IPython.core.display.HTML object>"
      ]
     },
     "metadata": {},
     "output_type": "display_data"
    },
    {
     "data": {
      "text/html": [
       "<a href=\"Results/Amanda Stacc Oh 1 C3 - resynth.wav\" target=\"_blank\">Amanda Stacc Oh 1 C3: loss=10.78%</a>"
      ],
      "text/plain": [
       "<IPython.core.display.HTML object>"
      ]
     },
     "metadata": {},
     "output_type": "display_data"
    },
    {
     "data": {
      "text/html": [
       "<a href=\"Results/EPiano Mrk II C3 - resynth.wav\" target=\"_blank\">EPiano Mrk II C3: loss=10.80%</a>"
      ],
      "text/plain": [
       "<IPython.core.display.HTML object>"
      ]
     },
     "metadata": {},
     "output_type": "display_data"
    },
    {
     "data": {
      "text/html": [
       "<a href=\"Results/Anastacia Stacc Oh 2 C4 - resynth.wav\" target=\"_blank\">Anastacia Stacc Oh 2 C4: loss=10.92%</a>"
      ],
      "text/plain": [
       "<IPython.core.display.HTML object>"
      ]
     },
     "metadata": {},
     "output_type": "display_data"
    },
    {
     "data": {
      "text/html": [
       "<a href=\"Results/Korg-01W-MuteGuitar-C3 - resynth.wav\" target=\"_blank\">Korg-01W-MuteGuitar-C3: loss=10.94%</a>"
      ],
      "text/plain": [
       "<IPython.core.display.HTML object>"
      ]
     },
     "metadata": {},
     "output_type": "display_data"
    },
    {
     "data": {
      "text/html": [
       "<a href=\"Results/FM Human Voice Ooh C3 - resynth.wav\" target=\"_blank\">FM Human Voice Ooh C3: loss=11.01%</a>"
      ],
      "text/plain": [
       "<IPython.core.display.HTML object>"
      ]
     },
     "metadata": {},
     "output_type": "display_data"
    },
    {
     "data": {
      "text/html": [
       "<a href=\"Results/Cherry Stacc Oh 1 C3 - resynth.wav\" target=\"_blank\">Cherry Stacc Oh 1 C3: loss=11.13%</a>"
      ],
      "text/plain": [
       "<IPython.core.display.HTML object>"
      ]
     },
     "metadata": {},
     "output_type": "display_data"
    },
    {
     "data": {
      "text/html": [
       "<a href=\"Results/Anastacia Stacc Ee 1 C4 - resynth.wav\" target=\"_blank\">Anastacia Stacc Ee 1 C4: loss=11.26%</a>"
      ],
      "text/plain": [
       "<IPython.core.display.HTML object>"
      ]
     },
     "metadata": {},
     "output_type": "display_data"
    },
    {
     "data": {
      "text/html": [
       "<a href=\"Results/Classic Synth Bass C4 - resynth.wav\" target=\"_blank\">Classic Synth Bass C4: loss=11.37%</a>"
      ],
      "text/plain": [
       "<IPython.core.display.HTML object>"
      ]
     },
     "metadata": {},
     "output_type": "display_data"
    },
    {
     "data": {
      "text/html": [
       "<a href=\"Results/Electric Fat Plect 1 C3 - resynth.wav\" target=\"_blank\">Electric Fat Plect 1 C3: loss=11.41%</a>"
      ],
      "text/plain": [
       "<IPython.core.display.HTML object>"
      ]
     },
     "metadata": {},
     "output_type": "display_data"
    },
    {
     "data": {
      "text/html": [
       "<a href=\"Results/Korg-01W-Sweet-Oboe-C4 - resynth.wav\" target=\"_blank\">Korg-01W-Sweet-Oboe-C4: loss=11.45%</a>"
      ],
      "text/plain": [
       "<IPython.core.display.HTML object>"
      ]
     },
     "metadata": {},
     "output_type": "display_data"
    },
    {
     "data": {
      "text/html": [
       "<a href=\"Results/Acoustic Guitar 2 Plect 2 C3 - resynth.wav\" target=\"_blank\">Acoustic Guitar 2 Plect 2 C3: loss=11.64%</a>"
      ],
      "text/plain": [
       "<IPython.core.display.HTML object>"
      ]
     },
     "metadata": {},
     "output_type": "display_data"
    },
    {
     "data": {
      "text/html": [
       "<a href=\"Results/High Granular Harmonic C3 - resynth.wav\" target=\"_blank\">High Granular Harmonic C3: loss=11.67%</a>"
      ],
      "text/plain": [
       "<IPython.core.display.HTML object>"
      ]
     },
     "metadata": {},
     "output_type": "display_data"
    },
    {
     "data": {
      "text/html": [
       "<a href=\"Results/Anastacia Stacc La 2 C3 - resynth.wav\" target=\"_blank\">Anastacia Stacc La 2 C3: loss=11.71%</a>"
      ],
      "text/plain": [
       "<IPython.core.display.HTML object>"
      ]
     },
     "metadata": {},
     "output_type": "display_data"
    },
    {
     "data": {
      "text/html": [
       "<a href=\"Results/Electric Fat Plect 2 C3 - resynth.wav\" target=\"_blank\">Electric Fat Plect 2 C3: loss=11.81%</a>"
      ],
      "text/plain": [
       "<IPython.core.display.HTML object>"
      ]
     },
     "metadata": {},
     "output_type": "display_data"
    },
    {
     "data": {
      "text/html": [
       "<a href=\"Results/Ensoniq-ZR-76-Lute-C3 - resynth.wav\" target=\"_blank\">Ensoniq-ZR-76-Lute-C3: loss=11.84%</a>"
      ],
      "text/plain": [
       "<IPython.core.display.HTML object>"
      ]
     },
     "metadata": {},
     "output_type": "display_data"
    },
    {
     "data": {
      "text/html": [
       "<a href=\"Results/FM Voice Breathy C4 - resynth.wav\" target=\"_blank\">FM Voice Breathy C4: loss=12.05%</a>"
      ],
      "text/plain": [
       "<IPython.core.display.HTML object>"
      ]
     },
     "metadata": {},
     "output_type": "display_data"
    },
    {
     "data": {
      "text/html": [
       "<a href=\"Results/Fat Pluck C4 - resynth.wav\" target=\"_blank\">Fat Pluck C4: loss=12.15%</a>"
      ],
      "text/plain": [
       "<IPython.core.display.HTML object>"
      ]
     },
     "metadata": {},
     "output_type": "display_data"
    },
    {
     "data": {
      "text/html": [
       "<a href=\"Results/FM Voice Breathy C3 - resynth.wav\" target=\"_blank\">FM Voice Breathy C3: loss=12.25%</a>"
      ],
      "text/plain": [
       "<IPython.core.display.HTML object>"
      ]
     },
     "metadata": {},
     "output_type": "display_data"
    },
    {
     "data": {
      "text/html": [
       "<a href=\"Results/Casio-MT-600-Elec-Piano-1-C4 - resynth.wav\" target=\"_blank\">Casio-MT-600-Elec-Piano-1-C4: loss=12.26%</a>"
      ],
      "text/plain": [
       "<IPython.core.display.HTML object>"
      ]
     },
     "metadata": {},
     "output_type": "display_data"
    },
    {
     "data": {
      "text/html": [
       "<a href=\"Results/Electric Guitar Plect 1 C3 - resynth.wav\" target=\"_blank\">Electric Guitar Plect 1 C3: loss=12.38%</a>"
      ],
      "text/plain": [
       "<IPython.core.display.HTML object>"
      ]
     },
     "metadata": {},
     "output_type": "display_data"
    },
    {
     "data": {
      "text/html": [
       "<a href=\"Results/Electric Fat Fingers 1 C4 - resynth.wav\" target=\"_blank\">Electric Fat Fingers 1 C4: loss=12.46%</a>"
      ],
      "text/plain": [
       "<IPython.core.display.HTML object>"
      ]
     },
     "metadata": {},
     "output_type": "display_data"
    },
    {
     "data": {
      "text/html": [
       "<a href=\"Results/Electric Guitar Plect 4 C3 - resynth.wav\" target=\"_blank\">Electric Guitar Plect 4 C3: loss=12.50%</a>"
      ],
      "text/plain": [
       "<IPython.core.display.HTML object>"
      ]
     },
     "metadata": {},
     "output_type": "display_data"
    },
    {
     "data": {
      "text/html": [
       "<a href=\"Results/Marimba C3 - resynth.wav\" target=\"_blank\">Marimba C3: loss=12.52%</a>"
      ],
      "text/plain": [
       "<IPython.core.display.HTML object>"
      ]
     },
     "metadata": {},
     "output_type": "display_data"
    },
    {
     "data": {
      "text/html": [
       "<a href=\"Results/Piano Baby G C3 - resynth.wav\" target=\"_blank\">Piano Baby G C3: loss=12.58%</a>"
      ],
      "text/plain": [
       "<IPython.core.display.HTML object>"
      ]
     },
     "metadata": {},
     "output_type": "display_data"
    },
    {
     "data": {
      "text/html": [
       "<a href=\"Results/Kawai-PHm-Contrabass-C3 - resynth.wav\" target=\"_blank\">Kawai-PHm-Contrabass-C3: loss=12.76%</a>"
      ],
      "text/plain": [
       "<IPython.core.display.HTML object>"
      ]
     },
     "metadata": {},
     "output_type": "display_data"
    },
    {
     "data": {
      "text/html": [
       "<a href=\"Results/80s Analog 52 B C3 - resynth.wav\" target=\"_blank\">80s Analog 52 B C3: loss=12.80%</a>"
      ],
      "text/plain": [
       "<IPython.core.display.HTML object>"
      ]
     },
     "metadata": {},
     "output_type": "display_data"
    },
    {
     "data": {
      "text/html": [
       "<a href=\"Results/Cherry Stacc Oh 2 C3 - resynth.wav\" target=\"_blank\">Cherry Stacc Oh 2 C3: loss=12.92%</a>"
      ],
      "text/plain": [
       "<IPython.core.display.HTML object>"
      ]
     },
     "metadata": {},
     "output_type": "display_data"
    },
    {
     "data": {
      "text/html": [
       "<a href=\"Results/Korg-01W-ChamberEns-C3 - resynth.wav\" target=\"_blank\">Korg-01W-ChamberEns-C3: loss=12.96%</a>"
      ],
      "text/plain": [
       "<IPython.core.display.HTML object>"
      ]
     },
     "metadata": {},
     "output_type": "display_data"
    },
    {
     "data": {
      "text/html": [
       "<a href=\"Results/Vibraphone C3 - resynth.wav\" target=\"_blank\">Vibraphone C3: loss=12.98%</a>"
      ],
      "text/plain": [
       "<IPython.core.display.HTML object>"
      ]
     },
     "metadata": {},
     "output_type": "display_data"
    },
    {
     "data": {
      "text/html": [
       "<a href=\"Results/High Additive Harmonic C3 - resynth.wav\" target=\"_blank\">High Additive Harmonic C3: loss=13.18%</a>"
      ],
      "text/plain": [
       "<IPython.core.display.HTML object>"
      ]
     },
     "metadata": {},
     "output_type": "display_data"
    },
    {
     "data": {
      "text/html": [
       "<a href=\"Results/Mute Guitar C3 - resynth.wav\" target=\"_blank\">Mute Guitar C3: loss=13.24%</a>"
      ],
      "text/plain": [
       "<IPython.core.display.HTML object>"
      ]
     },
     "metadata": {},
     "output_type": "display_data"
    },
    {
     "data": {
      "text/html": [
       "<a href=\"Results/80s Digital Synth Dirty Sine C4 - resynth.wav\" target=\"_blank\">80s Digital Synth Dirty Sine C4: loss=13.29%</a>"
      ],
      "text/plain": [
       "<IPython.core.display.HTML object>"
      ]
     },
     "metadata": {},
     "output_type": "display_data"
    },
    {
     "data": {
      "text/html": [
       "<a href=\"Results/Electric Fat Fingers 3 C3 - resynth.wav\" target=\"_blank\">Electric Fat Fingers 3 C3: loss=13.55%</a>"
      ],
      "text/plain": [
       "<IPython.core.display.HTML object>"
      ]
     },
     "metadata": {},
     "output_type": "display_data"
    },
    {
     "data": {
      "text/html": [
       "<a href=\"Results/Masterpiece Pluck C3 - resynth.wav\" target=\"_blank\">Masterpiece Pluck C3: loss=13.56%</a>"
      ],
      "text/plain": [
       "<IPython.core.display.HTML object>"
      ]
     },
     "metadata": {},
     "output_type": "display_data"
    },
    {
     "data": {
      "text/html": [
       "<a href=\"Results/Trad E Bass C3 - resynth.wav\" target=\"_blank\">Trad E Bass C3: loss=13.57%</a>"
      ],
      "text/plain": [
       "<IPython.core.display.HTML object>"
      ]
     },
     "metadata": {},
     "output_type": "display_data"
    },
    {
     "data": {
      "text/html": [
       "<a href=\"Results/Anastacia Stacc Aa RR2 C4 - resynth.wav\" target=\"_blank\">Anastacia Stacc Aa RR2 C4: loss=13.57%</a>"
      ],
      "text/plain": [
       "<IPython.core.display.HTML object>"
      ]
     },
     "metadata": {},
     "output_type": "display_data"
    },
    {
     "data": {
      "text/html": [
       "<a href=\"Results/Anastacia Oh 1 C4 - resynth.wav\" target=\"_blank\">Anastacia Oh 1 C4: loss=13.58%</a>"
      ],
      "text/plain": [
       "<IPython.core.display.HTML object>"
      ]
     },
     "metadata": {},
     "output_type": "display_data"
    },
    {
     "data": {
      "text/html": [
       "<a href=\"Results/Mute Guitar C4 - resynth.wav\" target=\"_blank\">Mute Guitar C4: loss=13.60%</a>"
      ],
      "text/plain": [
       "<IPython.core.display.HTML object>"
      ]
     },
     "metadata": {},
     "output_type": "display_data"
    },
    {
     "data": {
      "text/html": [
       "<a href=\"Results/Cheap Rompler Pad 17 C4 - resynth.wav\" target=\"_blank\">Cheap Rompler Pad 17 C4: loss=13.73%</a>"
      ],
      "text/plain": [
       "<IPython.core.display.HTML object>"
      ]
     },
     "metadata": {},
     "output_type": "display_data"
    },
    {
     "data": {
      "text/html": [
       "<a href=\"Results/Piano Baby G C4 - resynth.wav\" target=\"_blank\">Piano Baby G C4: loss=13.74%</a>"
      ],
      "text/plain": [
       "<IPython.core.display.HTML object>"
      ]
     },
     "metadata": {},
     "output_type": "display_data"
    },
    {
     "data": {
      "text/html": [
       "<a href=\"Results/M1 Style Organ C3 - resynth.wav\" target=\"_blank\">M1 Style Organ C3: loss=13.80%</a>"
      ],
      "text/plain": [
       "<IPython.core.display.HTML object>"
      ]
     },
     "metadata": {},
     "output_type": "display_data"
    },
    {
     "data": {
      "text/html": [
       "<a href=\"Results/Soft Attack Bass C3 - resynth.wav\" target=\"_blank\">Soft Attack Bass C3: loss=13.85%</a>"
      ],
      "text/plain": [
       "<IPython.core.display.HTML object>"
      ]
     },
     "metadata": {},
     "output_type": "display_data"
    },
    {
     "data": {
      "text/html": [
       "<a href=\"Results/Anastacia Stacc Da 3 C4 - resynth.wav\" target=\"_blank\">Anastacia Stacc Da 3 C4: loss=13.91%</a>"
      ],
      "text/plain": [
       "<IPython.core.display.HTML object>"
      ]
     },
     "metadata": {},
     "output_type": "display_data"
    },
    {
     "data": {
      "text/html": [
       "<a href=\"Results/Kawai-K1r-Aah-C4 - resynth.wav\" target=\"_blank\">Kawai-K1r-Aah-C4: loss=13.98%</a>"
      ],
      "text/plain": [
       "<IPython.core.display.HTML object>"
      ]
     },
     "metadata": {},
     "output_type": "display_data"
    },
    {
     "data": {
      "text/html": [
       "<a href=\"Results/Anastacia Stacc Oh 1 C3 - resynth.wav\" target=\"_blank\">Anastacia Stacc Oh 1 C3: loss=14.04%</a>"
      ],
      "text/plain": [
       "<IPython.core.display.HTML object>"
      ]
     },
     "metadata": {},
     "output_type": "display_data"
    },
    {
     "data": {
      "text/html": [
       "<a href=\"Results/EPiano Dirty C3 - resynth.wav\" target=\"_blank\">EPiano Dirty C3: loss=14.08%</a>"
      ],
      "text/plain": [
       "<IPython.core.display.HTML object>"
      ]
     },
     "metadata": {},
     "output_type": "display_data"
    },
    {
     "data": {
      "text/html": [
       "<a href=\"Results/Vocalize 0006 C3 - resynth.wav\" target=\"_blank\">Vocalize 0006 C3: loss=14.11%</a>"
      ],
      "text/plain": [
       "<IPython.core.display.HTML object>"
      ]
     },
     "metadata": {},
     "output_type": "display_data"
    },
    {
     "data": {
      "text/html": [
       "<a href=\"Results/Clean Chorus Guitar C4 - resynth.wav\" target=\"_blank\">Clean Chorus Guitar C4: loss=14.26%</a>"
      ],
      "text/plain": [
       "<IPython.core.display.HTML object>"
      ]
     },
     "metadata": {},
     "output_type": "display_data"
    },
    {
     "data": {
      "text/html": [
       "<a href=\"Results/12 String Pluck 3 C3 - resynth.wav\" target=\"_blank\">12 String Pluck 3 C3: loss=14.30%</a>"
      ],
      "text/plain": [
       "<IPython.core.display.HTML object>"
      ]
     },
     "metadata": {},
     "output_type": "display_data"
    },
    {
     "data": {
      "text/html": [
       "<a href=\"Results/Anastacia Stacc Ee 2 C4 - resynth.wav\" target=\"_blank\">Anastacia Stacc Ee 2 C4: loss=14.33%</a>"
      ],
      "text/plain": [
       "<IPython.core.display.HTML object>"
      ]
     },
     "metadata": {},
     "output_type": "display_data"
    },
    {
     "data": {
      "text/html": [
       "<a href=\"Results/FM Voice Nearly Vocal C4 - resynth.wav\" target=\"_blank\">FM Voice Nearly Vocal C4: loss=14.37%</a>"
      ],
      "text/plain": [
       "<IPython.core.display.HTML object>"
      ]
     },
     "metadata": {},
     "output_type": "display_data"
    },
    {
     "data": {
      "text/html": [
       "<a href=\"Results/Clean Chorus Guitar C3 - resynth.wav\" target=\"_blank\">Clean Chorus Guitar C3: loss=14.37%</a>"
      ],
      "text/plain": [
       "<IPython.core.display.HTML object>"
      ]
     },
     "metadata": {},
     "output_type": "display_data"
    },
    {
     "data": {
      "text/html": [
       "<a href=\"Results/Alesis-Fusion-Clean-Guitar-C3 - resynth.wav\" target=\"_blank\">Alesis-Fusion-Clean-Guitar-C3: loss=14.46%</a>"
      ],
      "text/plain": [
       "<IPython.core.display.HTML object>"
      ]
     },
     "metadata": {},
     "output_type": "display_data"
    },
    {
     "data": {
      "text/html": [
       "<a href=\"Results/Amanda Stacc Oh 2 C3 - resynth.wav\" target=\"_blank\">Amanda Stacc Oh 2 C3: loss=14.52%</a>"
      ],
      "text/plain": [
       "<IPython.core.display.HTML object>"
      ]
     },
     "metadata": {},
     "output_type": "display_data"
    },
    {
     "data": {
      "text/html": [
       "<a href=\"Results/Dual Triangles C3 - resynth.wav\" target=\"_blank\">Dual Triangles C3: loss=14.64%</a>"
      ],
      "text/plain": [
       "<IPython.core.display.HTML object>"
      ]
     },
     "metadata": {},
     "output_type": "display_data"
    },
    {
     "data": {
      "text/html": [
       "<a href=\"Results/Alesis-S4-Plus-Night-Vox-C3 - resynth.wav\" target=\"_blank\">Alesis-S4-Plus-Night-Vox-C3: loss=14.96%</a>"
      ],
      "text/plain": [
       "<IPython.core.display.HTML object>"
      ]
     },
     "metadata": {},
     "output_type": "display_data"
    },
    {
     "data": {
      "text/html": [
       "<a href=\"Results/Trad E Bass C4 - resynth.wav\" target=\"_blank\">Trad E Bass C4: loss=15.21%</a>"
      ],
      "text/plain": [
       "<IPython.core.display.HTML object>"
      ]
     },
     "metadata": {},
     "output_type": "display_data"
    },
    {
     "data": {
      "text/html": [
       "<a href=\"Results/1974 Sawtooth C3 - resynth.wav\" target=\"_blank\">1974 Sawtooth C3: loss=15.23%</a>"
      ],
      "text/plain": [
       "<IPython.core.display.HTML object>"
      ]
     },
     "metadata": {},
     "output_type": "display_data"
    },
    {
     "data": {
      "text/html": [
       "<a href=\"Results/Korg-01W-JazzGuitar-C4 - resynth.wav\" target=\"_blank\">Korg-01W-JazzGuitar-C4: loss=15.28%</a>"
      ],
      "text/plain": [
       "<IPython.core.display.HTML object>"
      ]
     },
     "metadata": {},
     "output_type": "display_data"
    },
    {
     "data": {
      "text/html": [
       "<a href=\"Results/Electric Guitar Plect 3 C3 - resynth.wav\" target=\"_blank\">Electric Guitar Plect 3 C3: loss=15.28%</a>"
      ],
      "text/plain": [
       "<IPython.core.display.HTML object>"
      ]
     },
     "metadata": {},
     "output_type": "display_data"
    },
    {
     "data": {
      "text/html": [
       "<a href=\"Results/PM Pluck 2 C4 - resynth.wav\" target=\"_blank\">PM Pluck 2 C4: loss=15.41%</a>"
      ],
      "text/plain": [
       "<IPython.core.display.HTML object>"
      ]
     },
     "metadata": {},
     "output_type": "display_data"
    },
    {
     "data": {
      "text/html": [
       "<a href=\"Results/Guitar Attack C3 - resynth.wav\" target=\"_blank\">Guitar Attack C3: loss=15.55%</a>"
      ],
      "text/plain": [
       "<IPython.core.display.HTML object>"
      ]
     },
     "metadata": {},
     "output_type": "display_data"
    },
    {
     "data": {
      "text/html": [
       "<a href=\"Results/Acoustic Guitar 2 Plect 1 C3 - resynth.wav\" target=\"_blank\">Acoustic Guitar 2 Plect 1 C3: loss=15.56%</a>"
      ],
      "text/plain": [
       "<IPython.core.display.HTML object>"
      ]
     },
     "metadata": {},
     "output_type": "display_data"
    },
    {
     "data": {
      "text/html": [
       "<a href=\"Results/Amanda Stacc Ee 1 C3 - resynth.wav\" target=\"_blank\">Amanda Stacc Ee 1 C3: loss=15.56%</a>"
      ],
      "text/plain": [
       "<IPython.core.display.HTML object>"
      ]
     },
     "metadata": {},
     "output_type": "display_data"
    },
    {
     "data": {
      "text/html": [
       "<a href=\"Results/Masterpiece Pluck C4 - resynth.wav\" target=\"_blank\">Masterpiece Pluck C4: loss=15.64%</a>"
      ],
      "text/plain": [
       "<IPython.core.display.HTML object>"
      ]
     },
     "metadata": {},
     "output_type": "display_data"
    },
    {
     "data": {
      "text/html": [
       "<a href=\"Results/12 String Pluck 2 C4 - resynth.wav\" target=\"_blank\">12 String Pluck 2 C4: loss=15.94%</a>"
      ],
      "text/plain": [
       "<IPython.core.display.HTML object>"
      ]
     },
     "metadata": {},
     "output_type": "display_data"
    },
    {
     "data": {
      "text/html": [
       "<a href=\"Results/Kawai-K11-Dulcimer-C4 - resynth.wav\" target=\"_blank\">Kawai-K11-Dulcimer-C4: loss=15.94%</a>"
      ],
      "text/plain": [
       "<IPython.core.display.HTML object>"
      ]
     },
     "metadata": {},
     "output_type": "display_data"
    },
    {
     "data": {
      "text/html": [
       "<a href=\"Results/Fat Pluck C3 - resynth.wav\" target=\"_blank\">Fat Pluck C3: loss=15.96%</a>"
      ],
      "text/plain": [
       "<IPython.core.display.HTML object>"
      ]
     },
     "metadata": {},
     "output_type": "display_data"
    },
    {
     "data": {
      "text/html": [
       "<a href=\"Results/Casio-VZ-10M-Pizzicato-Bell-C4 - resynth.wav\" target=\"_blank\">Casio-VZ-10M-Pizzicato-Bell-C4: loss=16.11%</a>"
      ],
      "text/plain": [
       "<IPython.core.display.HTML object>"
      ]
     },
     "metadata": {},
     "output_type": "display_data"
    },
    {
     "data": {
      "text/html": [
       "<a href=\"Results/Soft Attack Bass C4 - resynth.wav\" target=\"_blank\">Soft Attack Bass C4: loss=16.22%</a>"
      ],
      "text/plain": [
       "<IPython.core.display.HTML object>"
      ]
     },
     "metadata": {},
     "output_type": "display_data"
    },
    {
     "data": {
      "text/html": [
       "<a href=\"Results/High Additive Harmonic C4 - resynth.wav\" target=\"_blank\">High Additive Harmonic C4: loss=16.22%</a>"
      ],
      "text/plain": [
       "<IPython.core.display.HTML object>"
      ]
     },
     "metadata": {},
     "output_type": "display_data"
    },
    {
     "data": {
      "text/html": [
       "<a href=\"Results/12 String Pluck 3 C4 - resynth.wav\" target=\"_blank\">12 String Pluck 3 C4: loss=16.25%</a>"
      ],
      "text/plain": [
       "<IPython.core.display.HTML object>"
      ]
     },
     "metadata": {},
     "output_type": "display_data"
    },
    {
     "data": {
      "text/html": [
       "<a href=\"Results/Ensoniq-SQ-1-Trombone-C4 - resynth.wav\" target=\"_blank\">Ensoniq-SQ-1-Trombone-C4: loss=16.35%</a>"
      ],
      "text/plain": [
       "<IPython.core.display.HTML object>"
      ]
     },
     "metadata": {},
     "output_type": "display_data"
    },
    {
     "data": {
      "text/html": [
       "<a href=\"Results/Ensoniq-ZR-76-Syn-Vox-GM-C4 - resynth.wav\" target=\"_blank\">Ensoniq-ZR-76-Syn-Vox-GM-C4: loss=16.37%</a>"
      ],
      "text/plain": [
       "<IPython.core.display.HTML object>"
      ]
     },
     "metadata": {},
     "output_type": "display_data"
    },
    {
     "data": {
      "text/html": [
       "<a href=\"Results/Acoustic Guitar 2 Plect 4 C3 - resynth.wav\" target=\"_blank\">Acoustic Guitar 2 Plect 4 C3: loss=16.38%</a>"
      ],
      "text/plain": [
       "<IPython.core.display.HTML object>"
      ]
     },
     "metadata": {},
     "output_type": "display_data"
    },
    {
     "data": {
      "text/html": [
       "<a href=\"Results/Trad Harp C4 - resynth.wav\" target=\"_blank\">Trad Harp C4: loss=16.49%</a>"
      ],
      "text/plain": [
       "<IPython.core.display.HTML object>"
      ]
     },
     "metadata": {},
     "output_type": "display_data"
    },
    {
     "data": {
      "text/html": [
       "<a href=\"Results/Waveshaped Sines C4 - resynth.wav\" target=\"_blank\">Waveshaped Sines C4: loss=16.54%</a>"
      ],
      "text/plain": [
       "<IPython.core.display.HTML object>"
      ]
     },
     "metadata": {},
     "output_type": "display_data"
    },
    {
     "data": {
      "text/html": [
       "<a href=\"Results/Forgotten Harp Gu C3 - resynth.wav\" target=\"_blank\">Forgotten Harp Gu C3: loss=16.68%</a>"
      ],
      "text/plain": [
       "<IPython.core.display.HTML object>"
      ]
     },
     "metadata": {},
     "output_type": "display_data"
    },
    {
     "data": {
      "text/html": [
       "<a href=\"Results/Grand Piano C3 - resynth.wav\" target=\"_blank\">Grand Piano C3: loss=16.74%</a>"
      ],
      "text/plain": [
       "<IPython.core.display.HTML object>"
      ]
     },
     "metadata": {},
     "output_type": "display_data"
    },
    {
     "data": {
      "text/html": [
       "<a href=\"Results/Sharp Bass C3 - resynth.wav\" target=\"_blank\">Sharp Bass C3: loss=16.90%</a>"
      ],
      "text/plain": [
       "<IPython.core.display.HTML object>"
      ]
     },
     "metadata": {},
     "output_type": "display_data"
    },
    {
     "data": {
      "text/html": [
       "<a href=\"Results/Trad Harp C3 - resynth.wav\" target=\"_blank\">Trad Harp C3: loss=16.91%</a>"
      ],
      "text/plain": [
       "<IPython.core.display.HTML object>"
      ]
     },
     "metadata": {},
     "output_type": "display_data"
    },
    {
     "data": {
      "text/html": [
       "<a href=\"Results/Anastacia Stacc Oh 1 C4 - resynth.wav\" target=\"_blank\">Anastacia Stacc Oh 1 C4: loss=16.98%</a>"
      ],
      "text/plain": [
       "<IPython.core.display.HTML object>"
      ]
     },
     "metadata": {},
     "output_type": "display_data"
    },
    {
     "data": {
      "text/html": [
       "<a href=\"Results/Electric Fat Plect 4 C3 - resynth.wav\" target=\"_blank\">Electric Fat Plect 4 C3: loss=17.01%</a>"
      ],
      "text/plain": [
       "<IPython.core.display.HTML object>"
      ]
     },
     "metadata": {},
     "output_type": "display_data"
    },
    {
     "data": {
      "text/html": [
       "<a href=\"Results/Metallic Vox Strings C4 - resynth.wav\" target=\"_blank\">Metallic Vox Strings C4: loss=17.01%</a>"
      ],
      "text/plain": [
       "<IPython.core.display.HTML object>"
      ]
     },
     "metadata": {},
     "output_type": "display_data"
    },
    {
     "data": {
      "text/html": [
       "<a href=\"Results/Morte Pickbass C3 - resynth.wav\" target=\"_blank\">Morte Pickbass C3: loss=17.03%</a>"
      ],
      "text/plain": [
       "<IPython.core.display.HTML object>"
      ]
     },
     "metadata": {},
     "output_type": "display_data"
    },
    {
     "data": {
      "text/html": [
       "<a href=\"Results/Anastacia Stacc Aa RR3 C3 - resynth.wav\" target=\"_blank\">Anastacia Stacc Aa RR3 C3: loss=17.28%</a>"
      ],
      "text/plain": [
       "<IPython.core.display.HTML object>"
      ]
     },
     "metadata": {},
     "output_type": "display_data"
    },
    {
     "data": {
      "text/html": [
       "<a href=\"Results/12 String Pluck 1 C3 - resynth.wav\" target=\"_blank\">12 String Pluck 1 C3: loss=17.28%</a>"
      ],
      "text/plain": [
       "<IPython.core.display.HTML object>"
      ]
     },
     "metadata": {},
     "output_type": "display_data"
    },
    {
     "data": {
      "text/html": [
       "<a href=\"Results/Anastacia Stacc Aa RR2 C3 - resynth.wav\" target=\"_blank\">Anastacia Stacc Aa RR2 C3: loss=17.33%</a>"
      ],
      "text/plain": [
       "<IPython.core.display.HTML object>"
      ]
     },
     "metadata": {},
     "output_type": "display_data"
    },
    {
     "data": {
      "text/html": [
       "<a href=\"Results/Conical C3 - resynth.wav\" target=\"_blank\">Conical C3: loss=17.48%</a>"
      ],
      "text/plain": [
       "<IPython.core.display.HTML object>"
      ]
     },
     "metadata": {},
     "output_type": "display_data"
    },
    {
     "data": {
      "text/html": [
       "<a href=\"Results/Cherry Stacc Pa 3 C3 - resynth.wav\" target=\"_blank\">Cherry Stacc Pa 3 C3: loss=17.57%</a>"
      ],
      "text/plain": [
       "<IPython.core.display.HTML object>"
      ]
     },
     "metadata": {},
     "output_type": "display_data"
    },
    {
     "data": {
      "text/html": [
       "<a href=\"Results/Digital Voice C4 - resynth.wav\" target=\"_blank\">Digital Voice C4: loss=17.85%</a>"
      ],
      "text/plain": [
       "<IPython.core.display.HTML object>"
      ]
     },
     "metadata": {},
     "output_type": "display_data"
    },
    {
     "data": {
      "text/html": [
       "<a href=\"Results/Alesis-Fusion-Pizzicato-Strings-C4 - resynth.wav\" target=\"_blank\">Alesis-Fusion-Pizzicato-Strings-C4: loss=18.13%</a>"
      ],
      "text/plain": [
       "<IPython.core.display.HTML object>"
      ]
     },
     "metadata": {},
     "output_type": "display_data"
    },
    {
     "data": {
      "text/html": [
       "<a href=\"Results/Hydrophone In Bath Vox FX C4 - resynth.wav\" target=\"_blank\">Hydrophone In Bath Vox FX C4: loss=18.31%</a>"
      ],
      "text/plain": [
       "<IPython.core.display.HTML object>"
      ]
     },
     "metadata": {},
     "output_type": "display_data"
    },
    {
     "data": {
      "text/html": [
       "<a href=\"Results/Electric Fat Fingers 4 C3 - resynth.wav\" target=\"_blank\">Electric Fat Fingers 4 C3: loss=18.36%</a>"
      ],
      "text/plain": [
       "<IPython.core.display.HTML object>"
      ]
     },
     "metadata": {},
     "output_type": "display_data"
    },
    {
     "data": {
      "text/html": [
       "<a href=\"Results/Mono Clean C3 - resynth.wav\" target=\"_blank\">Mono Clean C3: loss=18.38%</a>"
      ],
      "text/plain": [
       "<IPython.core.display.HTML object>"
      ]
     },
     "metadata": {},
     "output_type": "display_data"
    },
    {
     "data": {
      "text/html": [
       "<a href=\"Results/12 String Pluck 1 C4 - resynth.wav\" target=\"_blank\">12 String Pluck 1 C4: loss=18.45%</a>"
      ],
      "text/plain": [
       "<IPython.core.display.HTML object>"
      ]
     },
     "metadata": {},
     "output_type": "display_data"
    },
    {
     "data": {
      "text/html": [
       "<a href=\"Results/Anastacia Stacc Ee 3 C3 - resynth.wav\" target=\"_blank\">Anastacia Stacc Ee 3 C3: loss=18.59%</a>"
      ],
      "text/plain": [
       "<IPython.core.display.HTML object>"
      ]
     },
     "metadata": {},
     "output_type": "display_data"
    },
    {
     "data": {
      "text/html": [
       "<a href=\"Results/Cherry Stacc Oh 3 C3 - resynth.wav\" target=\"_blank\">Cherry Stacc Oh 3 C3: loss=18.63%</a>"
      ],
      "text/plain": [
       "<IPython.core.display.HTML object>"
      ]
     },
     "metadata": {},
     "output_type": "display_data"
    },
    {
     "data": {
      "text/html": [
       "<a href=\"Results/Choir - Ooh C3 - resynth.wav\" target=\"_blank\">Choir - Ooh C3: loss=18.83%</a>"
      ],
      "text/plain": [
       "<IPython.core.display.HTML object>"
      ]
     },
     "metadata": {},
     "output_type": "display_data"
    },
    {
     "data": {
      "text/html": [
       "<a href=\"Results/E-Piano C3 - resynth.wav\" target=\"_blank\">E-Piano C3: loss=18.98%</a>"
      ],
      "text/plain": [
       "<IPython.core.display.HTML object>"
      ]
     },
     "metadata": {},
     "output_type": "display_data"
    },
    {
     "data": {
      "text/html": [
       "<a href=\"Results/Cherry Stacc Pa 1 C3 - resynth.wav\" target=\"_blank\">Cherry Stacc Pa 1 C3: loss=19.05%</a>"
      ],
      "text/plain": [
       "<IPython.core.display.HTML object>"
      ]
     },
     "metadata": {},
     "output_type": "display_data"
    },
    {
     "data": {
      "text/html": [
       "<a href=\"Results/Low Additive Harmonic C3 - resynth.wav\" target=\"_blank\">Low Additive Harmonic C3: loss=19.06%</a>"
      ],
      "text/plain": [
       "<IPython.core.display.HTML object>"
      ]
     },
     "metadata": {},
     "output_type": "display_data"
    },
    {
     "data": {
      "text/html": [
       "<a href=\"Results/Basic Electric Bass C3 - resynth.wav\" target=\"_blank\">Basic Electric Bass C3: loss=19.10%</a>"
      ],
      "text/plain": [
       "<IPython.core.display.HTML object>"
      ]
     },
     "metadata": {},
     "output_type": "display_data"
    },
    {
     "data": {
      "text/html": [
       "<a href=\"Results/Kawai-K5000W-Banjo-C4 - resynth.wav\" target=\"_blank\">Kawai-K5000W-Banjo-C4: loss=19.24%</a>"
      ],
      "text/plain": [
       "<IPython.core.display.HTML object>"
      ]
     },
     "metadata": {},
     "output_type": "display_data"
    },
    {
     "data": {
      "text/html": [
       "<a href=\"Results/Amanda Stacc Ee 3 C3 - resynth.wav\" target=\"_blank\">Amanda Stacc Ee 3 C3: loss=19.31%</a>"
      ],
      "text/plain": [
       "<IPython.core.display.HTML object>"
      ]
     },
     "metadata": {},
     "output_type": "display_data"
    },
    {
     "data": {
      "text/html": [
       "<a href=\"Results/EPiano Mrk 1 C4 - resynth.wav\" target=\"_blank\">EPiano Mrk 1 C4: loss=19.34%</a>"
      ],
      "text/plain": [
       "<IPython.core.display.HTML object>"
      ]
     },
     "metadata": {},
     "output_type": "display_data"
    },
    {
     "data": {
      "text/html": [
       "<a href=\"Results/Electric Synth Keys V127 C3 - resynth.wav\" target=\"_blank\">Electric Synth Keys V127 C3: loss=19.47%</a>"
      ],
      "text/plain": [
       "<IPython.core.display.HTML object>"
      ]
     },
     "metadata": {},
     "output_type": "display_data"
    },
    {
     "data": {
      "text/html": [
       "<a href=\"Results/Bottle Hit 17 C4 - resynth.wav\" target=\"_blank\">Bottle Hit 17 C4: loss=19.60%</a>"
      ],
      "text/plain": [
       "<IPython.core.display.HTML object>"
      ]
     },
     "metadata": {},
     "output_type": "display_data"
    },
    {
     "data": {
      "text/html": [
       "<a href=\"Results/Ensoniq-SQ-1-French-Horn-C4 - resynth.wav\" target=\"_blank\">Ensoniq-SQ-1-French-Horn-C4: loss=19.70%</a>"
      ],
      "text/plain": [
       "<IPython.core.display.HTML object>"
      ]
     },
     "metadata": {},
     "output_type": "display_data"
    },
    {
     "data": {
      "text/html": [
       "<a href=\"Results/Trad Classical Guitar C4 - resynth.wav\" target=\"_blank\">Trad Classical Guitar C4: loss=19.77%</a>"
      ],
      "text/plain": [
       "<IPython.core.display.HTML object>"
      ]
     },
     "metadata": {},
     "output_type": "display_data"
    },
    {
     "data": {
      "text/html": [
       "<a href=\"Results/Bandura Soft C4 - resynth.wav\" target=\"_blank\">Bandura Soft C4: loss=19.77%</a>"
      ],
      "text/plain": [
       "<IPython.core.display.HTML object>"
      ]
     },
     "metadata": {},
     "output_type": "display_data"
    },
    {
     "data": {
      "text/html": [
       "<a href=\"Results/Cherry Stacc Pa 2 C3 - resynth.wav\" target=\"_blank\">Cherry Stacc Pa 2 C3: loss=19.79%</a>"
      ],
      "text/plain": [
       "<IPython.core.display.HTML object>"
      ]
     },
     "metadata": {},
     "output_type": "display_data"
    },
    {
     "data": {
      "text/html": [
       "<a href=\"Results/Anastacia Stacc Oh 3 C3 - resynth.wav\" target=\"_blank\">Anastacia Stacc Oh 3 C3: loss=20.12%</a>"
      ],
      "text/plain": [
       "<IPython.core.display.HTML object>"
      ]
     },
     "metadata": {},
     "output_type": "display_data"
    },
    {
     "data": {
      "text/html": [
       "<a href=\"Results/Seaward Piano ppp C4 - resynth.wav\" target=\"_blank\">Seaward Piano ppp C4: loss=20.13%</a>"
      ],
      "text/plain": [
       "<IPython.core.display.HTML object>"
      ]
     },
     "metadata": {},
     "output_type": "display_data"
    },
    {
     "data": {
      "text/html": [
       "<a href=\"Results/Acoustic Guitar 2 Finger 4 C4 - resynth.wav\" target=\"_blank\">Acoustic Guitar 2 Finger 4 C4: loss=20.19%</a>"
      ],
      "text/plain": [
       "<IPython.core.display.HTML object>"
      ]
     },
     "metadata": {},
     "output_type": "display_data"
    },
    {
     "data": {
      "text/html": [
       "<a href=\"Results/Anastacia Oo 3 C4 - resynth.wav\" target=\"_blank\">Anastacia Oo 3 C4: loss=20.45%</a>"
      ],
      "text/plain": [
       "<IPython.core.display.HTML object>"
      ]
     },
     "metadata": {},
     "output_type": "display_data"
    },
    {
     "data": {
      "text/html": [
       "<a href=\"Results/EPiano Wurly C3 - resynth.wav\" target=\"_blank\">EPiano Wurly C3: loss=20.47%</a>"
      ],
      "text/plain": [
       "<IPython.core.display.HTML object>"
      ]
     },
     "metadata": {},
     "output_type": "display_data"
    },
    {
     "data": {
      "text/html": [
       "<a href=\"Results/Ensoniq-SQ-1-Encore-C4 - resynth.wav\" target=\"_blank\">Ensoniq-SQ-1-Encore-C4: loss=20.55%</a>"
      ],
      "text/plain": [
       "<IPython.core.display.HTML object>"
      ]
     },
     "metadata": {},
     "output_type": "display_data"
    },
    {
     "data": {
      "text/html": [
       "<a href=\"Results/Metallic Vox Strings C3 - resynth.wav\" target=\"_blank\">Metallic Vox Strings C3: loss=20.57%</a>"
      ],
      "text/plain": [
       "<IPython.core.display.HTML object>"
      ]
     },
     "metadata": {},
     "output_type": "display_data"
    },
    {
     "data": {
      "text/html": [
       "<a href=\"Results/80s Digital Bass ff C3 - resynth.wav\" target=\"_blank\">80s Digital Bass ff C3: loss=20.58%</a>"
      ],
      "text/plain": [
       "<IPython.core.display.HTML object>"
      ]
     },
     "metadata": {},
     "output_type": "display_data"
    },
    {
     "data": {
      "text/html": [
       "<a href=\"Results/PM Pluck 2 C3 - resynth.wav\" target=\"_blank\">PM Pluck 2 C3: loss=20.66%</a>"
      ],
      "text/plain": [
       "<IPython.core.display.HTML object>"
      ]
     },
     "metadata": {},
     "output_type": "display_data"
    },
    {
     "data": {
      "text/html": [
       "<a href=\"Results/Electric Fat Fingers 3 C4 - resynth.wav\" target=\"_blank\">Electric Fat Fingers 3 C4: loss=20.66%</a>"
      ],
      "text/plain": [
       "<IPython.core.display.HTML object>"
      ]
     },
     "metadata": {},
     "output_type": "display_data"
    },
    {
     "data": {
      "text/html": [
       "<a href=\"Results/Kawai-K5000W-Dulcimer-C4 - resynth.wav\" target=\"_blank\">Kawai-K5000W-Dulcimer-C4: loss=20.68%</a>"
      ],
      "text/plain": [
       "<IPython.core.display.HTML object>"
      ]
     },
     "metadata": {},
     "output_type": "display_data"
    },
    {
     "data": {
      "text/html": [
       "<a href=\"Results/CO 3 Picked C3 - resynth.wav\" target=\"_blank\">CO 3 Picked C3: loss=20.77%</a>"
      ],
      "text/plain": [
       "<IPython.core.display.HTML object>"
      ]
     },
     "metadata": {},
     "output_type": "display_data"
    },
    {
     "data": {
      "text/html": [
       "<a href=\"Results/Anastacia Ba Da Eh Oh 2 C4 - resynth.wav\" target=\"_blank\">Anastacia Ba Da Eh Oh 2 C4: loss=20.87%</a>"
      ],
      "text/plain": [
       "<IPython.core.display.HTML object>"
      ]
     },
     "metadata": {},
     "output_type": "display_data"
    },
    {
     "data": {
      "text/html": [
       "<a href=\"Results/Anastacia Stacc Ta 2 C3 - resynth.wav\" target=\"_blank\">Anastacia Stacc Ta 2 C3: loss=20.95%</a>"
      ],
      "text/plain": [
       "<IPython.core.display.HTML object>"
      ]
     },
     "metadata": {},
     "output_type": "display_data"
    },
    {
     "data": {
      "text/html": [
       "<a href=\"Results/Zither C3 - resynth.wav\" target=\"_blank\">Zither C3: loss=21.04%</a>"
      ],
      "text/plain": [
       "<IPython.core.display.HTML object>"
      ]
     },
     "metadata": {},
     "output_type": "display_data"
    },
    {
     "data": {
      "text/html": [
       "<a href=\"Results/Amanda Stacc La 1 C3 - resynth.wav\" target=\"_blank\">Amanda Stacc La 1 C3: loss=21.16%</a>"
      ],
      "text/plain": [
       "<IPython.core.display.HTML object>"
      ]
     },
     "metadata": {},
     "output_type": "display_data"
    },
    {
     "data": {
      "text/html": [
       "<a href=\"Results/Mini m Dark Decay C4 - resynth.wav\" target=\"_blank\">Mini m Dark Decay C4: loss=21.27%</a>"
      ],
      "text/plain": [
       "<IPython.core.display.HTML object>"
      ]
     },
     "metadata": {},
     "output_type": "display_data"
    },
    {
     "data": {
      "text/html": [
       "<a href=\"Results/Electric Fat Fingers 1 C3 - resynth.wav\" target=\"_blank\">Electric Fat Fingers 1 C3: loss=21.28%</a>"
      ],
      "text/plain": [
       "<IPython.core.display.HTML object>"
      ]
     },
     "metadata": {},
     "output_type": "display_data"
    },
    {
     "data": {
      "text/html": [
       "<a href=\"Results/Alesis-Sanctuary-QCard-Choir-Ooh-C4 - resynth.wav\" target=\"_blank\">Alesis-Sanctuary-QCard-Choir-Ooh-C4: loss=21.29%</a>"
      ],
      "text/plain": [
       "<IPython.core.display.HTML object>"
      ]
     },
     "metadata": {},
     "output_type": "display_data"
    },
    {
     "data": {
      "text/html": [
       "<a href=\"Results/Ensoniq-VFX-SD-Steel-Drum-C4 - resynth.wav\" target=\"_blank\">Ensoniq-VFX-SD-Steel-Drum-C4: loss=21.42%</a>"
      ],
      "text/plain": [
       "<IPython.core.display.HTML object>"
      ]
     },
     "metadata": {},
     "output_type": "display_data"
    },
    {
     "data": {
      "text/html": [
       "<a href=\"Results/E-Mu-Proteus-FX-FrHorns2-C4 - resynth.wav\" target=\"_blank\">E-Mu-Proteus-FX-FrHorns2-C4: loss=21.48%</a>"
      ],
      "text/plain": [
       "<IPython.core.display.HTML object>"
      ]
     },
     "metadata": {},
     "output_type": "display_data"
    },
    {
     "data": {
      "text/html": [
       "<a href=\"Results/Guitar Attack C4 - resynth.wav\" target=\"_blank\">Guitar Attack C4: loss=21.57%</a>"
      ],
      "text/plain": [
       "<IPython.core.display.HTML object>"
      ]
     },
     "metadata": {},
     "output_type": "display_data"
    },
    {
     "data": {
      "text/html": [
       "<a href=\"Results/Electric Fat Plect 1 C4 - resynth.wav\" target=\"_blank\">Electric Fat Plect 1 C4: loss=21.68%</a>"
      ],
      "text/plain": [
       "<IPython.core.display.HTML object>"
      ]
     },
     "metadata": {},
     "output_type": "display_data"
    },
    {
     "data": {
      "text/html": [
       "<a href=\"Results/Casio-MT-600-Harpsichord-C3 - resynth.wav\" target=\"_blank\">Casio-MT-600-Harpsichord-C3: loss=21.83%</a>"
      ],
      "text/plain": [
       "<IPython.core.display.HTML object>"
      ]
     },
     "metadata": {},
     "output_type": "display_data"
    },
    {
     "data": {
      "text/html": [
       "<a href=\"Results/Anastacia Stacc Ta 3 C4 - resynth.wav\" target=\"_blank\">Anastacia Stacc Ta 3 C4: loss=21.91%</a>"
      ],
      "text/plain": [
       "<IPython.core.display.HTML object>"
      ]
     },
     "metadata": {},
     "output_type": "display_data"
    },
    {
     "data": {
      "text/html": [
       "<a href=\"Results/Casio-MT-45-Accordion-C3 - resynth.wav\" target=\"_blank\">Casio-MT-45-Accordion-C3: loss=22.07%</a>"
      ],
      "text/plain": [
       "<IPython.core.display.HTML object>"
      ]
     },
     "metadata": {},
     "output_type": "display_data"
    },
    {
     "data": {
      "text/html": [
       "<a href=\"Results/Big Multi Layer C4 - resynth.wav\" target=\"_blank\">Big Multi Layer C4: loss=22.10%</a>"
      ],
      "text/plain": [
       "<IPython.core.display.HTML object>"
      ]
     },
     "metadata": {},
     "output_type": "display_data"
    },
    {
     "data": {
      "text/html": [
       "<a href=\"Results/Casio-MT-600-Fantasy-C3 - resynth.wav\" target=\"_blank\">Casio-MT-600-Fantasy-C3: loss=22.25%</a>"
      ],
      "text/plain": [
       "<IPython.core.display.HTML object>"
      ]
     },
     "metadata": {},
     "output_type": "display_data"
    },
    {
     "data": {
      "text/html": [
       "<a href=\"Results/Kawai-PHm-Glassy-C4 - resynth.wav\" target=\"_blank\">Kawai-PHm-Glassy-C4: loss=22.51%</a>"
      ],
      "text/plain": [
       "<IPython.core.display.HTML object>"
      ]
     },
     "metadata": {},
     "output_type": "display_data"
    },
    {
     "data": {
      "text/html": [
       "<a href=\"Results/Modular Strings C3 - resynth.wav\" target=\"_blank\">Modular Strings C3: loss=22.80%</a>"
      ],
      "text/plain": [
       "<IPython.core.display.HTML object>"
      ]
     },
     "metadata": {},
     "output_type": "display_data"
    },
    {
     "data": {
      "text/html": [
       "<a href=\"Results/Electric Fat Fingers 4 C4 - resynth.wav\" target=\"_blank\">Electric Fat Fingers 4 C4: loss=22.90%</a>"
      ],
      "text/plain": [
       "<IPython.core.display.HTML object>"
      ]
     },
     "metadata": {},
     "output_type": "display_data"
    },
    {
     "data": {
      "text/html": [
       "<a href=\"Results/Shocking Wave C3 - resynth.wav\" target=\"_blank\">Shocking Wave C3: loss=23.27%</a>"
      ],
      "text/plain": [
       "<IPython.core.display.HTML object>"
      ]
     },
     "metadata": {},
     "output_type": "display_data"
    },
    {
     "data": {
      "text/html": [
       "<a href=\"Results/Cherry Stacc Aa 3 C3 - resynth.wav\" target=\"_blank\">Cherry Stacc Aa 3 C3: loss=23.37%</a>"
      ],
      "text/plain": [
       "<IPython.core.display.HTML object>"
      ]
     },
     "metadata": {},
     "output_type": "display_data"
    },
    {
     "data": {
      "text/html": [
       "<a href=\"Results/Korg-M3R-Rock-Mutes-C3 - resynth.wav\" target=\"_blank\">Korg-M3R-Rock-Mutes-C3: loss=23.54%</a>"
      ],
      "text/plain": [
       "<IPython.core.display.HTML object>"
      ]
     },
     "metadata": {},
     "output_type": "display_data"
    },
    {
     "data": {
      "text/html": [
       "<a href=\"Results/Lovely Stone C4 - resynth.wav\" target=\"_blank\">Lovely Stone C4: loss=23.56%</a>"
      ],
      "text/plain": [
       "<IPython.core.display.HTML object>"
      ]
     },
     "metadata": {},
     "output_type": "display_data"
    },
    {
     "data": {
      "text/html": [
       "<a href=\"Results/Anastacia Stacc Da 2 C3 - resynth.wav\" target=\"_blank\">Anastacia Stacc Da 2 C3: loss=23.59%</a>"
      ],
      "text/plain": [
       "<IPython.core.display.HTML object>"
      ]
     },
     "metadata": {},
     "output_type": "display_data"
    },
    {
     "data": {
      "text/html": [
       "<a href=\"Results/Acoustic Guitar 2 Finger 1 C3 - resynth.wav\" target=\"_blank\">Acoustic Guitar 2 Finger 1 C3: loss=23.68%</a>"
      ],
      "text/plain": [
       "<IPython.core.display.HTML object>"
      ]
     },
     "metadata": {},
     "output_type": "display_data"
    },
    {
     "data": {
      "text/html": [
       "<a href=\"Results/Piano St C4 - resynth.wav\" target=\"_blank\">Piano St C4: loss=23.69%</a>"
      ],
      "text/plain": [
       "<IPython.core.display.HTML object>"
      ]
     },
     "metadata": {},
     "output_type": "display_data"
    },
    {
     "data": {
      "text/html": [
       "<a href=\"Results/Acoustic Guitar 2 Pchord 4 C4 - resynth.wav\" target=\"_blank\">Acoustic Guitar 2 Pchord 4 C4: loss=23.72%</a>"
      ],
      "text/plain": [
       "<IPython.core.display.HTML object>"
      ]
     },
     "metadata": {},
     "output_type": "display_data"
    },
    {
     "data": {
      "text/html": [
       "<a href=\"Results/EPiano Mrk 1 C3 - resynth.wav\" target=\"_blank\">EPiano Mrk 1 C3: loss=23.78%</a>"
      ],
      "text/plain": [
       "<IPython.core.display.HTML object>"
      ]
     },
     "metadata": {},
     "output_type": "display_data"
    },
    {
     "data": {
      "text/html": [
       "<a href=\"Results/80s Analog 52 B C4 - resynth.wav\" target=\"_blank\">80s Analog 52 B C4: loss=23.80%</a>"
      ],
      "text/plain": [
       "<IPython.core.display.HTML object>"
      ]
     },
     "metadata": {},
     "output_type": "display_data"
    },
    {
     "data": {
      "text/html": [
       "<a href=\"Results/1974 Square C3 - resynth.wav\" target=\"_blank\">1974 Square C3: loss=23.84%</a>"
      ],
      "text/plain": [
       "<IPython.core.display.HTML object>"
      ]
     },
     "metadata": {},
     "output_type": "display_data"
    },
    {
     "data": {
      "text/html": [
       "<a href=\"Results/Cherry Stacc Da 3 C3 - resynth.wav\" target=\"_blank\">Cherry Stacc Da 3 C3: loss=23.93%</a>"
      ],
      "text/plain": [
       "<IPython.core.display.HTML object>"
      ]
     },
     "metadata": {},
     "output_type": "display_data"
    },
    {
     "data": {
      "text/html": [
       "<a href=\"Results/Digi Choir C4 - resynth.wav\" target=\"_blank\">Digi Choir C4: loss=24.04%</a>"
      ],
      "text/plain": [
       "<IPython.core.display.HTML object>"
      ]
     },
     "metadata": {},
     "output_type": "display_data"
    },
    {
     "data": {
      "text/html": [
       "<a href=\"Results/Anastacia Stacc Da 3 C3 - resynth.wav\" target=\"_blank\">Anastacia Stacc Da 3 C3: loss=24.05%</a>"
      ],
      "text/plain": [
       "<IPython.core.display.HTML object>"
      ]
     },
     "metadata": {},
     "output_type": "display_data"
    },
    {
     "data": {
      "text/html": [
       "<a href=\"Results/Cherry Stacc Da 1 C3 - resynth.wav\" target=\"_blank\">Cherry Stacc Da 1 C3: loss=24.14%</a>"
      ],
      "text/plain": [
       "<IPython.core.display.HTML object>"
      ]
     },
     "metadata": {},
     "output_type": "display_data"
    },
    {
     "data": {
      "text/html": [
       "<a href=\"Results/Cherry Stacc Da 2 C3 - resynth.wav\" target=\"_blank\">Cherry Stacc Da 2 C3: loss=24.27%</a>"
      ],
      "text/plain": [
       "<IPython.core.display.HTML object>"
      ]
     },
     "metadata": {},
     "output_type": "display_data"
    },
    {
     "data": {
      "text/html": [
       "<a href=\"Results/Trad Classical Guitar C3 - resynth.wav\" target=\"_blank\">Trad Classical Guitar C3: loss=24.53%</a>"
      ],
      "text/plain": [
       "<IPython.core.display.HTML object>"
      ]
     },
     "metadata": {},
     "output_type": "display_data"
    },
    {
     "data": {
      "text/html": [
       "<a href=\"Results/FM Voice Air Chime C4 - resynth.wav\" target=\"_blank\">FM Voice Air Chime C4: loss=24.67%</a>"
      ],
      "text/plain": [
       "<IPython.core.display.HTML object>"
      ]
     },
     "metadata": {},
     "output_type": "display_data"
    },
    {
     "data": {
      "text/html": [
       "<a href=\"Results/E-Mu-Proteus-FX-Harmonic-C4 - resynth.wav\" target=\"_blank\">E-Mu-Proteus-FX-Harmonic-C4: loss=24.84%</a>"
      ],
      "text/plain": [
       "<IPython.core.display.HTML object>"
      ]
     },
     "metadata": {},
     "output_type": "display_data"
    },
    {
     "data": {
      "text/html": [
       "<a href=\"Results/12 String Pluck 4 C4 - resynth.wav\" target=\"_blank\">12 String Pluck 4 C4: loss=24.95%</a>"
      ],
      "text/plain": [
       "<IPython.core.display.HTML object>"
      ]
     },
     "metadata": {},
     "output_type": "display_data"
    },
    {
     "data": {
      "text/html": [
       "<a href=\"Results/Cherry Stacc La 2 C3 - resynth.wav\" target=\"_blank\">Cherry Stacc La 2 C3: loss=24.97%</a>"
      ],
      "text/plain": [
       "<IPython.core.display.HTML object>"
      ]
     },
     "metadata": {},
     "output_type": "display_data"
    },
    {
     "data": {
      "text/html": [
       "<a href=\"Results/1974 Wet Funk Solo 2 C3 - resynth.wav\" target=\"_blank\">1974 Wet Funk Solo 2 C3: loss=25.03%</a>"
      ],
      "text/plain": [
       "<IPython.core.display.HTML object>"
      ]
     },
     "metadata": {},
     "output_type": "display_data"
    },
    {
     "data": {
      "text/html": [
       "<a href=\"Results/Alesis-Sanctuary-QCard-Tines-Aahs-C4 - resynth.wav\" target=\"_blank\">Alesis-Sanctuary-QCard-Tines-Aahs-C4: loss=25.21%</a>"
      ],
      "text/plain": [
       "<IPython.core.display.HTML object>"
      ]
     },
     "metadata": {},
     "output_type": "display_data"
    },
    {
     "data": {
      "text/html": [
       "<a href=\"Results/Viking Longboat C3 - resynth.wav\" target=\"_blank\">Viking Longboat C3: loss=25.35%</a>"
      ],
      "text/plain": [
       "<IPython.core.display.HTML object>"
      ]
     },
     "metadata": {},
     "output_type": "display_data"
    },
    {
     "data": {
      "text/html": [
       "<a href=\"Results/Alesis-Fusion-Fretless-Bass-C3 - resynth.wav\" target=\"_blank\">Alesis-Fusion-Fretless-Bass-C3: loss=25.51%</a>"
      ],
      "text/plain": [
       "<IPython.core.display.HTML object>"
      ]
     },
     "metadata": {},
     "output_type": "display_data"
    },
    {
     "data": {
      "text/html": [
       "<a href=\"Results/Viking Longboat C4 - resynth.wav\" target=\"_blank\">Viking Longboat C4: loss=25.63%</a>"
      ],
      "text/plain": [
       "<IPython.core.display.HTML object>"
      ]
     },
     "metadata": {},
     "output_type": "display_data"
    },
    {
     "data": {
      "text/html": [
       "<a href=\"Results/FM Pluck Acc Guitar C4 - resynth.wav\" target=\"_blank\">FM Pluck Acc Guitar C4: loss=25.71%</a>"
      ],
      "text/plain": [
       "<IPython.core.display.HTML object>"
      ]
     },
     "metadata": {},
     "output_type": "display_data"
    },
    {
     "data": {
      "text/html": [
       "<a href=\"Results/Anastacia Ha Ee Oh Wa 2 C4 - resynth.wav\" target=\"_blank\">Anastacia Ha Ee Oh Wa 2 C4: loss=25.99%</a>"
      ],
      "text/plain": [
       "<IPython.core.display.HTML object>"
      ]
     },
     "metadata": {},
     "output_type": "display_data"
    },
    {
     "data": {
      "text/html": [
       "<a href=\"Results/Hang Drum C4 - resynth.wav\" target=\"_blank\">Hang Drum C4: loss=26.06%</a>"
      ],
      "text/plain": [
       "<IPython.core.display.HTML object>"
      ]
     },
     "metadata": {},
     "output_type": "display_data"
    },
    {
     "data": {
      "text/html": [
       "<a href=\"Results/Ensoniq-ZR-76-Cornet-C4 - resynth.wav\" target=\"_blank\">Ensoniq-ZR-76-Cornet-C4: loss=26.06%</a>"
      ],
      "text/plain": [
       "<IPython.core.display.HTML object>"
      ]
     },
     "metadata": {},
     "output_type": "display_data"
    },
    {
     "data": {
      "text/html": [
       "<a href=\"Results/Anastacia Stacc Aa RR1 C3 - resynth.wav\" target=\"_blank\">Anastacia Stacc Aa RR1 C3: loss=26.10%</a>"
      ],
      "text/plain": [
       "<IPython.core.display.HTML object>"
      ]
     },
     "metadata": {},
     "output_type": "display_data"
    },
    {
     "data": {
      "text/html": [
       "<a href=\"Results/Kithara_C3 - resynth.wav\" target=\"_blank\">Kithara_C3: loss=26.11%</a>"
      ],
      "text/plain": [
       "<IPython.core.display.HTML object>"
      ]
     },
     "metadata": {},
     "output_type": "display_data"
    },
    {
     "data": {
      "text/html": [
       "<a href=\"Results/Autoharp Mute C3 - resynth.wav\" target=\"_blank\">Autoharp Mute C3: loss=26.13%</a>"
      ],
      "text/plain": [
       "<IPython.core.display.HTML object>"
      ]
     },
     "metadata": {},
     "output_type": "display_data"
    },
    {
     "data": {
      "text/html": [
       "<a href=\"Results/Kawai-K5000W-Hawaiian-C4 - resynth.wav\" target=\"_blank\">Kawai-K5000W-Hawaiian-C4: loss=26.19%</a>"
      ],
      "text/plain": [
       "<IPython.core.display.HTML object>"
      ]
     },
     "metadata": {},
     "output_type": "display_data"
    },
    {
     "data": {
      "text/html": [
       "<a href=\"Results/Anastacia Stacc Ee 2 C3 - resynth.wav\" target=\"_blank\">Anastacia Stacc Ee 2 C3: loss=26.20%</a>"
      ],
      "text/plain": [
       "<IPython.core.display.HTML object>"
      ]
     },
     "metadata": {},
     "output_type": "display_data"
    },
    {
     "data": {
      "text/html": [
       "<a href=\"Results/Analog 101 C4 - resynth.wav\" target=\"_blank\">Analog 101 C4: loss=26.20%</a>"
      ],
      "text/plain": [
       "<IPython.core.display.HTML object>"
      ]
     },
     "metadata": {},
     "output_type": "display_data"
    },
    {
     "data": {
      "text/html": [
       "<a href=\"Results/Anastacia Stacc Ta 1 C3 - resynth.wav\" target=\"_blank\">Anastacia Stacc Ta 1 C3: loss=26.25%</a>"
      ],
      "text/plain": [
       "<IPython.core.display.HTML object>"
      ]
     },
     "metadata": {},
     "output_type": "display_data"
    },
    {
     "data": {
      "text/html": [
       "<a href=\"Results/80s Analog Brass Bazz C3 - resynth.wav\" target=\"_blank\">80s Analog Brass Bazz C3: loss=26.27%</a>"
      ],
      "text/plain": [
       "<IPython.core.display.HTML object>"
      ]
     },
     "metadata": {},
     "output_type": "display_data"
    },
    {
     "data": {
      "text/html": [
       "<a href=\"Results/Basic Buzz Bass C4 - resynth.wav\" target=\"_blank\">Basic Buzz Bass C4: loss=26.33%</a>"
      ],
      "text/plain": [
       "<IPython.core.display.HTML object>"
      ]
     },
     "metadata": {},
     "output_type": "display_data"
    },
    {
     "data": {
      "text/html": [
       "<a href=\"Results/Kalimba C4 - resynth.wav\" target=\"_blank\">Kalimba C4: loss=26.55%</a>"
      ],
      "text/plain": [
       "<IPython.core.display.HTML object>"
      ]
     },
     "metadata": {},
     "output_type": "display_data"
    },
    {
     "data": {
      "text/html": [
       "<a href=\"Results/Amanda Stacc Ee 2 C3 - resynth.wav\" target=\"_blank\">Amanda Stacc Ee 2 C3: loss=26.61%</a>"
      ],
      "text/plain": [
       "<IPython.core.display.HTML object>"
      ]
     },
     "metadata": {},
     "output_type": "display_data"
    },
    {
     "data": {
      "text/html": [
       "<a href=\"Results/1974 Sawtooth C4 - resynth.wav\" target=\"_blank\">1974 Sawtooth C4: loss=26.64%</a>"
      ],
      "text/plain": [
       "<IPython.core.display.HTML object>"
      ]
     },
     "metadata": {},
     "output_type": "display_data"
    },
    {
     "data": {
      "text/html": [
       "<a href=\"Results/Cherry Stacc La 1 C3 - resynth.wav\" target=\"_blank\">Cherry Stacc La 1 C3: loss=26.69%</a>"
      ],
      "text/plain": [
       "<IPython.core.display.HTML object>"
      ]
     },
     "metadata": {},
     "output_type": "display_data"
    },
    {
     "data": {
      "text/html": [
       "<a href=\"Results/EPiano Wurly C4 - resynth.wav\" target=\"_blank\">EPiano Wurly C4: loss=26.71%</a>"
      ],
      "text/plain": [
       "<IPython.core.display.HTML object>"
      ]
     },
     "metadata": {},
     "output_type": "display_data"
    },
    {
     "data": {
      "text/html": [
       "<a href=\"Results/Frozen Ocean C3 - resynth.wav\" target=\"_blank\">Frozen Ocean C3: loss=26.83%</a>"
      ],
      "text/plain": [
       "<IPython.core.display.HTML object>"
      ]
     },
     "metadata": {},
     "output_type": "display_data"
    },
    {
     "data": {
      "text/html": [
       "<a href=\"Results/Casio-MT-600-Piano-1-C3 - resynth.wav\" target=\"_blank\">Casio-MT-600-Piano-1-C3: loss=26.86%</a>"
      ],
      "text/plain": [
       "<IPython.core.display.HTML object>"
      ]
     },
     "metadata": {},
     "output_type": "display_data"
    },
    {
     "data": {
      "text/html": [
       "<a href=\"Results/Vocoder Strings C4 - resynth.wav\" target=\"_blank\">Vocoder Strings C4: loss=26.88%</a>"
      ],
      "text/plain": [
       "<IPython.core.display.HTML object>"
      ]
     },
     "metadata": {},
     "output_type": "display_data"
    },
    {
     "data": {
      "text/html": [
       "<a href=\"Results/Amanda Oh 2 C3 - resynth.wav\" target=\"_blank\">Amanda Oh 2 C3: loss=26.89%</a>"
      ],
      "text/plain": [
       "<IPython.core.display.HTML object>"
      ]
     },
     "metadata": {},
     "output_type": "display_data"
    },
    {
     "data": {
      "text/html": [
       "<a href=\"Results/Bottle Hit 13 C3 - resynth.wav\" target=\"_blank\">Bottle Hit 13 C3: loss=26.92%</a>"
      ],
      "text/plain": [
       "<IPython.core.display.HTML object>"
      ]
     },
     "metadata": {},
     "output_type": "display_data"
    },
    {
     "data": {
      "text/html": [
       "<a href=\"Results/Electric Guitar Plect 2 C3 - resynth.wav\" target=\"_blank\">Electric Guitar Plect 2 C3: loss=26.94%</a>"
      ],
      "text/plain": [
       "<IPython.core.display.HTML object>"
      ]
     },
     "metadata": {},
     "output_type": "display_data"
    },
    {
     "data": {
      "text/html": [
       "<a href=\"Results/Bottled Breath C3 - resynth.wav\" target=\"_blank\">Bottled Breath C3: loss=26.97%</a>"
      ],
      "text/plain": [
       "<IPython.core.display.HTML object>"
      ]
     },
     "metadata": {},
     "output_type": "display_data"
    },
    {
     "data": {
      "text/html": [
       "<a href=\"Results/Anastacia Ba Da Eh Oh 1 C4 - resynth.wav\" target=\"_blank\">Anastacia Ba Da Eh Oh 1 C4: loss=27.15%</a>"
      ],
      "text/plain": [
       "<IPython.core.display.HTML object>"
      ]
     },
     "metadata": {},
     "output_type": "display_data"
    },
    {
     "data": {
      "text/html": [
       "<a href=\"Results/Anastacia Stacc Ta 2 C4 - resynth.wav\" target=\"_blank\">Anastacia Stacc Ta 2 C4: loss=27.17%</a>"
      ],
      "text/plain": [
       "<IPython.core.display.HTML object>"
      ]
     },
     "metadata": {},
     "output_type": "display_data"
    },
    {
     "data": {
      "text/html": [
       "<a href=\"Results/Roland-GR-1-12-String-Guitar-C4 - resynth.wav\" target=\"_blank\">Roland-GR-1-12-String-Guitar-C4: loss=27.22%</a>"
      ],
      "text/plain": [
       "<IPython.core.display.HTML object>"
      ]
     },
     "metadata": {},
     "output_type": "display_data"
    },
    {
     "data": {
      "text/html": [
       "<a href=\"Results/Alesis-S4-Plus-SterMarimb-C4 - resynth.wav\" target=\"_blank\">Alesis-S4-Plus-SterMarimb-C4: loss=27.23%</a>"
      ],
      "text/plain": [
       "<IPython.core.display.HTML object>"
      ]
     },
     "metadata": {},
     "output_type": "display_data"
    },
    {
     "data": {
      "text/html": [
       "<a href=\"Results/Pad Wave C4 - resynth.wav\" target=\"_blank\">Pad Wave C4: loss=27.32%</a>"
      ],
      "text/plain": [
       "<IPython.core.display.HTML object>"
      ]
     },
     "metadata": {},
     "output_type": "display_data"
    },
    {
     "data": {
      "text/html": [
       "<a href=\"Results/Analog 102 C3 - resynth.wav\" target=\"_blank\">Analog 102 C3: loss=27.41%</a>"
      ],
      "text/plain": [
       "<IPython.core.display.HTML object>"
      ]
     },
     "metadata": {},
     "output_type": "display_data"
    },
    {
     "data": {
      "text/html": [
       "<a href=\"Results/Acoustic Guitar 2 Finger 3 C3 - resynth.wav\" target=\"_blank\">Acoustic Guitar 2 Finger 3 C3: loss=27.41%</a>"
      ],
      "text/plain": [
       "<IPython.core.display.HTML object>"
      ]
     },
     "metadata": {},
     "output_type": "display_data"
    },
    {
     "data": {
      "text/html": [
       "<a href=\"Results/Electric Guitar Plect 3 C4 - resynth.wav\" target=\"_blank\">Electric Guitar Plect 3 C4: loss=27.55%</a>"
      ],
      "text/plain": [
       "<IPython.core.display.HTML object>"
      ]
     },
     "metadata": {},
     "output_type": "display_data"
    },
    {
     "data": {
      "text/html": [
       "<a href=\"Results/Pure Piano C4 - resynth.wav\" target=\"_blank\">Pure Piano C4: loss=27.64%</a>"
      ],
      "text/plain": [
       "<IPython.core.display.HTML object>"
      ]
     },
     "metadata": {},
     "output_type": "display_data"
    },
    {
     "data": {
      "text/html": [
       "<a href=\"Results/Analog Basswave 13 C3 - resynth.wav\" target=\"_blank\">Analog Basswave 13 C3: loss=27.76%</a>"
      ],
      "text/plain": [
       "<IPython.core.display.HTML object>"
      ]
     },
     "metadata": {},
     "output_type": "display_data"
    },
    {
     "data": {
      "text/html": [
       "<a href=\"Results/Metallic Hit C3 - resynth.wav\" target=\"_blank\">Metallic Hit C3: loss=27.92%</a>"
      ],
      "text/plain": [
       "<IPython.core.display.HTML object>"
      ]
     },
     "metadata": {},
     "output_type": "display_data"
    },
    {
     "data": {
      "text/html": [
       "<a href=\"Results/Anastacia Ha Ee Oh Wa 1 C4 - resynth.wav\" target=\"_blank\">Anastacia Ha Ee Oh Wa 1 C4: loss=28.18%</a>"
      ],
      "text/plain": [
       "<IPython.core.display.HTML object>"
      ]
     },
     "metadata": {},
     "output_type": "display_data"
    },
    {
     "data": {
      "text/html": [
       "<a href=\"Results/Analog 102 C4 - resynth.wav\" target=\"_blank\">Analog 102 C4: loss=28.32%</a>"
      ],
      "text/plain": [
       "<IPython.core.display.HTML object>"
      ]
     },
     "metadata": {},
     "output_type": "display_data"
    },
    {
     "data": {
      "text/html": [
       "<a href=\"Results/Cherry Ee Ah Oh Wa C3 - resynth.wav\" target=\"_blank\">Cherry Ee Ah Oh Wa C3: loss=28.33%</a>"
      ],
      "text/plain": [
       "<IPython.core.display.HTML object>"
      ]
     },
     "metadata": {},
     "output_type": "display_data"
    },
    {
     "data": {
      "text/html": [
       "<a href=\"Results/1974 Ambient Solo C4 - resynth.wav\" target=\"_blank\">1974 Ambient Solo C4: loss=28.35%</a>"
      ],
      "text/plain": [
       "<IPython.core.display.HTML object>"
      ]
     },
     "metadata": {},
     "output_type": "display_data"
    },
    {
     "data": {
      "text/html": [
       "<a href=\"Results/FM Pluck Acc Guitar C3 - resynth.wav\" target=\"_blank\">FM Pluck Acc Guitar C3: loss=28.45%</a>"
      ],
      "text/plain": [
       "<IPython.core.display.HTML object>"
      ]
     },
     "metadata": {},
     "output_type": "display_data"
    },
    {
     "data": {
      "text/html": [
       "<a href=\"Results/Acoustic Guitar 2 Finger 2 C4 - resynth.wav\" target=\"_blank\">Acoustic Guitar 2 Finger 2 C4: loss=28.51%</a>"
      ],
      "text/plain": [
       "<IPython.core.display.HTML object>"
      ]
     },
     "metadata": {},
     "output_type": "display_data"
    },
    {
     "data": {
      "text/html": [
       "<a href=\"Results/Anastacia Aa Ee Ay Oh 2 C3 - resynth.wav\" target=\"_blank\">Anastacia Aa Ee Ay Oh 2 C3: loss=28.53%</a>"
      ],
      "text/plain": [
       "<IPython.core.display.HTML object>"
      ]
     },
     "metadata": {},
     "output_type": "display_data"
    },
    {
     "data": {
      "text/html": [
       "<a href=\"Results/Anastacia Stacc La 3 C3 - resynth.wav\" target=\"_blank\">Anastacia Stacc La 3 C3: loss=28.55%</a>"
      ],
      "text/plain": [
       "<IPython.core.display.HTML object>"
      ]
     },
     "metadata": {},
     "output_type": "display_data"
    },
    {
     "data": {
      "text/html": [
       "<a href=\"Results/Low Additive Harmonic C4 - resynth.wav\" target=\"_blank\">Low Additive Harmonic C4: loss=28.60%</a>"
      ],
      "text/plain": [
       "<IPython.core.display.HTML object>"
      ]
     },
     "metadata": {},
     "output_type": "display_data"
    },
    {
     "data": {
      "text/html": [
       "<a href=\"Results/Frozen Ocean C4 - resynth.wav\" target=\"_blank\">Frozen Ocean C4: loss=28.75%</a>"
      ],
      "text/plain": [
       "<IPython.core.display.HTML object>"
      ]
     },
     "metadata": {},
     "output_type": "display_data"
    },
    {
     "data": {
      "text/html": [
       "<a href=\"Results/Anastacia Aa 2 C4 - resynth.wav\" target=\"_blank\">Anastacia Aa 2 C4: loss=28.76%</a>"
      ],
      "text/plain": [
       "<IPython.core.display.HTML object>"
      ]
     },
     "metadata": {},
     "output_type": "display_data"
    },
    {
     "data": {
      "text/html": [
       "<a href=\"Results/Casio-MT-45-Elec-Piano-C4 - resynth.wav\" target=\"_blank\">Casio-MT-45-Elec-Piano-C4: loss=28.77%</a>"
      ],
      "text/plain": [
       "<IPython.core.display.HTML object>"
      ]
     },
     "metadata": {},
     "output_type": "display_data"
    },
    {
     "data": {
      "text/html": [
       "<a href=\"Results/Kawai-K5000W-NylonGt1-C4 - resynth.wav\" target=\"_blank\">Kawai-K5000W-NylonGt1-C4: loss=29.03%</a>"
      ],
      "text/plain": [
       "<IPython.core.display.HTML object>"
      ]
     },
     "metadata": {},
     "output_type": "display_data"
    },
    {
     "data": {
      "text/html": [
       "<a href=\"Results/Sharp Bass C4 - resynth.wav\" target=\"_blank\">Sharp Bass C4: loss=29.11%</a>"
      ],
      "text/plain": [
       "<IPython.core.display.HTML object>"
      ]
     },
     "metadata": {},
     "output_type": "display_data"
    },
    {
     "data": {
      "text/html": [
       "<a href=\"Results/Alesis-Sanctuary-QCard-St-Pauls-C3 - resynth.wav\" target=\"_blank\">Alesis-Sanctuary-QCard-St-Pauls-C3: loss=29.33%</a>"
      ],
      "text/plain": [
       "<IPython.core.display.HTML object>"
      ]
     },
     "metadata": {},
     "output_type": "display_data"
    },
    {
     "data": {
      "text/html": [
       "<a href=\"Results/1974 Square C4 - resynth.wav\" target=\"_blank\">1974 Square C4: loss=29.39%</a>"
      ],
      "text/plain": [
       "<IPython.core.display.HTML object>"
      ]
     },
     "metadata": {},
     "output_type": "display_data"
    },
    {
     "data": {
      "text/html": [
       "<a href=\"Results/Soft Fifth Blend C3 - resynth.wav\" target=\"_blank\">Soft Fifth Blend C3: loss=29.40%</a>"
      ],
      "text/plain": [
       "<IPython.core.display.HTML object>"
      ]
     },
     "metadata": {},
     "output_type": "display_data"
    },
    {
     "data": {
      "text/html": [
       "<a href=\"Results/Icicles At Dawn C3 - resynth.wav\" target=\"_blank\">Icicles At Dawn C3: loss=29.41%</a>"
      ],
      "text/plain": [
       "<IPython.core.display.HTML object>"
      ]
     },
     "metadata": {},
     "output_type": "display_data"
    },
    {
     "data": {
      "text/html": [
       "<a href=\"Results/Many String C3 - resynth.wav\" target=\"_blank\">Many String C3: loss=29.52%</a>"
      ],
      "text/plain": [
       "<IPython.core.display.HTML object>"
      ]
     },
     "metadata": {},
     "output_type": "display_data"
    },
    {
     "data": {
      "text/html": [
       "<a href=\"Results/Choir - Aah C3 - resynth.wav\" target=\"_blank\">Choir - Aah C3: loss=29.67%</a>"
      ],
      "text/plain": [
       "<IPython.core.display.HTML object>"
      ]
     },
     "metadata": {},
     "output_type": "display_data"
    },
    {
     "data": {
      "text/html": [
       "<a href=\"Results/Anastacia Aa Ee Ay Oh 1 C3 - resynth.wav\" target=\"_blank\">Anastacia Aa Ee Ay Oh 1 C3: loss=30.11%</a>"
      ],
      "text/plain": [
       "<IPython.core.display.HTML object>"
      ]
     },
     "metadata": {},
     "output_type": "display_data"
    },
    {
     "data": {
      "text/html": [
       "<a href=\"Results/Vocoder C4 - resynth.wav\" target=\"_blank\">Vocoder C4: loss=30.12%</a>"
      ],
      "text/plain": [
       "<IPython.core.display.HTML object>"
      ]
     },
     "metadata": {},
     "output_type": "display_data"
    },
    {
     "data": {
      "text/html": [
       "<a href=\"Results/Korg-TR-Rack-Banjo-Andro-C4 - resynth.wav\" target=\"_blank\">Korg-TR-Rack-Banjo-Andro-C4: loss=30.15%</a>"
      ],
      "text/plain": [
       "<IPython.core.display.HTML object>"
      ]
     },
     "metadata": {},
     "output_type": "display_data"
    },
    {
     "data": {
      "text/html": [
       "<a href=\"Results/Amanda Oh 1 C3 - resynth.wav\" target=\"_blank\">Amanda Oh 1 C3: loss=30.33%</a>"
      ],
      "text/plain": [
       "<IPython.core.display.HTML object>"
      ]
     },
     "metadata": {},
     "output_type": "display_data"
    },
    {
     "data": {
      "text/html": [
       "<a href=\"Results/Analog Saw Punch Bass C4 - resynth.wav\" target=\"_blank\">Analog Saw Punch Bass C4: loss=30.34%</a>"
      ],
      "text/plain": [
       "<IPython.core.display.HTML object>"
      ]
     },
     "metadata": {},
     "output_type": "display_data"
    },
    {
     "data": {
      "text/html": [
       "<a href=\"Results/Anastacia Aa 1 C4 - resynth.wav\" target=\"_blank\">Anastacia Aa 1 C4: loss=30.42%</a>"
      ],
      "text/plain": [
       "<IPython.core.display.HTML object>"
      ]
     },
     "metadata": {},
     "output_type": "display_data"
    },
    {
     "data": {
      "text/html": [
       "<a href=\"Results/Yamaha-MU90R-Banjo-Man-C4 - resynth.wav\" target=\"_blank\">Yamaha-MU90R-Banjo-Man-C4: loss=30.66%</a>"
      ],
      "text/plain": [
       "<IPython.core.display.HTML object>"
      ]
     },
     "metadata": {},
     "output_type": "display_data"
    },
    {
     "data": {
      "text/html": [
       "<a href=\"Results/Amanda Oh 3 C3 - resynth.wav\" target=\"_blank\">Amanda Oh 3 C3: loss=30.66%</a>"
      ],
      "text/plain": [
       "<IPython.core.display.HTML object>"
      ]
     },
     "metadata": {},
     "output_type": "display_data"
    },
    {
     "data": {
      "text/html": [
       "<a href=\"Results/Analog Basswave 17 C4 - resynth.wav\" target=\"_blank\">Analog Basswave 17 C4: loss=30.71%</a>"
      ],
      "text/plain": [
       "<IPython.core.display.HTML object>"
      ]
     },
     "metadata": {},
     "output_type": "display_data"
    },
    {
     "data": {
      "text/html": [
       "<a href=\"Results/Amanda Stacc Oh 3 C3 - resynth.wav\" target=\"_blank\">Amanda Stacc Oh 3 C3: loss=30.72%</a>"
      ],
      "text/plain": [
       "<IPython.core.display.HTML object>"
      ]
     },
     "metadata": {},
     "output_type": "display_data"
    },
    {
     "data": {
      "text/html": [
       "<a href=\"Results/Analog Bass C4 - resynth.wav\" target=\"_blank\">Analog Bass C4: loss=30.95%</a>"
      ],
      "text/plain": [
       "<IPython.core.display.HTML object>"
      ]
     },
     "metadata": {},
     "output_type": "display_data"
    },
    {
     "data": {
      "text/html": [
       "<a href=\"Results/Dream Organ C3 - resynth.wav\" target=\"_blank\">Dream Organ C3: loss=30.98%</a>"
      ],
      "text/plain": [
       "<IPython.core.display.HTML object>"
      ]
     },
     "metadata": {},
     "output_type": "display_data"
    },
    {
     "data": {
      "text/html": [
       "<a href=\"Results/Roland-GR-1-Acoustic-Guitar-C4 - resynth.wav\" target=\"_blank\">Roland-GR-1-Acoustic-Guitar-C4: loss=31.16%</a>"
      ],
      "text/plain": [
       "<IPython.core.display.HTML object>"
      ]
     },
     "metadata": {},
     "output_type": "display_data"
    },
    {
     "data": {
      "text/html": [
       "<a href=\"Results/Mini Synth C3 - resynth.wav\" target=\"_blank\">Mini Synth C3: loss=31.23%</a>"
      ],
      "text/plain": [
       "<IPython.core.display.HTML object>"
      ]
     },
     "metadata": {},
     "output_type": "display_data"
    },
    {
     "data": {
      "text/html": [
       "<a href=\"Results/Anastacia Aa Ee Ay Oh 2 C4 - resynth.wav\" target=\"_blank\">Anastacia Aa Ee Ay Oh 2 C4: loss=31.29%</a>"
      ],
      "text/plain": [
       "<IPython.core.display.HTML object>"
      ]
     },
     "metadata": {},
     "output_type": "display_data"
    },
    {
     "data": {
      "text/html": [
       "<a href=\"Results/Dreamstealer C4 - resynth.wav\" target=\"_blank\">Dreamstealer C4: loss=31.44%</a>"
      ],
      "text/plain": [
       "<IPython.core.display.HTML object>"
      ]
     },
     "metadata": {},
     "output_type": "display_data"
    },
    {
     "data": {
      "text/html": [
       "<a href=\"Results/Electric Synth Keys V127 C4 - resynth.wav\" target=\"_blank\">Electric Synth Keys V127 C4: loss=31.51%</a>"
      ],
      "text/plain": [
       "<IPython.core.display.HTML object>"
      ]
     },
     "metadata": {},
     "output_type": "display_data"
    },
    {
     "data": {
      "text/html": [
       "<a href=\"Results/Shocking Wave C4 - resynth.wav\" target=\"_blank\">Shocking Wave C4: loss=31.56%</a>"
      ],
      "text/plain": [
       "<IPython.core.display.HTML object>"
      ]
     },
     "metadata": {},
     "output_type": "display_data"
    },
    {
     "data": {
      "text/html": [
       "<a href=\"Results/Acoustic Guitar 4 Gliss C3 - resynth.wav\" target=\"_blank\">Acoustic Guitar 4 Gliss C3: loss=31.76%</a>"
      ],
      "text/plain": [
       "<IPython.core.display.HTML object>"
      ]
     },
     "metadata": {},
     "output_type": "display_data"
    },
    {
     "data": {
      "text/html": [
       "<a href=\"Results/Yamaha-MU90R-Phase-EP-C4 - resynth.wav\" target=\"_blank\">Yamaha-MU90R-Phase-EP-C4: loss=32.08%</a>"
      ],
      "text/plain": [
       "<IPython.core.display.HTML object>"
      ]
     },
     "metadata": {},
     "output_type": "display_data"
    },
    {
     "data": {
      "text/html": [
       "<a href=\"Results/Layered Pad C3 - resynth.wav\" target=\"_blank\">Layered Pad C3: loss=32.28%</a>"
      ],
      "text/plain": [
       "<IPython.core.display.HTML object>"
      ]
     },
     "metadata": {},
     "output_type": "display_data"
    },
    {
     "data": {
      "text/html": [
       "<a href=\"Results/Anastacia Stacc Ee 1 C3 - resynth.wav\" target=\"_blank\">Anastacia Stacc Ee 1 C3: loss=32.57%</a>"
      ],
      "text/plain": [
       "<IPython.core.display.HTML object>"
      ]
     },
     "metadata": {},
     "output_type": "display_data"
    },
    {
     "data": {
      "text/html": [
       "<a href=\"Results/E-Mu-Proteus-FX-VibroPad-C3 - resynth.wav\" target=\"_blank\">E-Mu-Proteus-FX-VibroPad-C3: loss=32.58%</a>"
      ],
      "text/plain": [
       "<IPython.core.display.HTML object>"
      ]
     },
     "metadata": {},
     "output_type": "display_data"
    },
    {
     "data": {
      "text/html": [
       "<a href=\"Results/Waveshaped Sines C3 - resynth.wav\" target=\"_blank\">Waveshaped Sines C3: loss=32.75%</a>"
      ],
      "text/plain": [
       "<IPython.core.display.HTML object>"
      ]
     },
     "metadata": {},
     "output_type": "display_data"
    },
    {
     "data": {
      "text/html": [
       "<a href=\"Results/Semi Detuned C3 - resynth.wav\" target=\"_blank\">Semi Detuned C3: loss=32.92%</a>"
      ],
      "text/plain": [
       "<IPython.core.display.HTML object>"
      ]
     },
     "metadata": {},
     "output_type": "display_data"
    },
    {
     "data": {
      "text/html": [
       "<a href=\"Results/CO 3 Picked C4 - resynth.wav\" target=\"_blank\">CO 3 Picked C4: loss=32.93%</a>"
      ],
      "text/plain": [
       "<IPython.core.display.HTML object>"
      ]
     },
     "metadata": {},
     "output_type": "display_data"
    },
    {
     "data": {
      "text/html": [
       "<a href=\"Results/Stab Bass C3 - resynth.wav\" target=\"_blank\">Stab Bass C3: loss=32.98%</a>"
      ],
      "text/plain": [
       "<IPython.core.display.HTML object>"
      ]
     },
     "metadata": {},
     "output_type": "display_data"
    },
    {
     "data": {
      "text/html": [
       "<a href=\"Results/Anastacia Stacc Pa 2 C3 - resynth.wav\" target=\"_blank\">Anastacia Stacc Pa 2 C3: loss=33.16%</a>"
      ],
      "text/plain": [
       "<IPython.core.display.HTML object>"
      ]
     },
     "metadata": {},
     "output_type": "display_data"
    },
    {
     "data": {
      "text/html": [
       "<a href=\"Results/Celtic Harp C4 - resynth.wav\" target=\"_blank\">Celtic Harp C4: loss=33.27%</a>"
      ],
      "text/plain": [
       "<IPython.core.display.HTML object>"
      ]
     },
     "metadata": {},
     "output_type": "display_data"
    },
    {
     "data": {
      "text/html": [
       "<a href=\"Results/Vibraphone C3 - resynth.wav\" target=\"_blank\">Vibraphone C3: loss=33.33%</a>"
      ],
      "text/plain": [
       "<IPython.core.display.HTML object>"
      ]
     },
     "metadata": {},
     "output_type": "display_data"
    },
    {
     "data": {
      "text/html": [
       "<a href=\"Results/Techno Bass 1 C3 70 - resynth.wav\" target=\"_blank\">Techno Bass 1 C3 70: loss=33.42%</a>"
      ],
      "text/plain": [
       "<IPython.core.display.HTML object>"
      ]
     },
     "metadata": {},
     "output_type": "display_data"
    },
    {
     "data": {
      "text/html": [
       "<a href=\"Results/Alesis-S4-Plus-TremStrngs-C4 - resynth.wav\" target=\"_blank\">Alesis-S4-Plus-TremStrngs-C4: loss=33.48%</a>"
      ],
      "text/plain": [
       "<IPython.core.display.HTML object>"
      ]
     },
     "metadata": {},
     "output_type": "display_data"
    },
    {
     "data": {
      "text/html": [
       "<a href=\"Results/Electric Guitar Plect 4 C4 - resynth.wav\" target=\"_blank\">Electric Guitar Plect 4 C4: loss=33.62%</a>"
      ],
      "text/plain": [
       "<IPython.core.display.HTML object>"
      ]
     },
     "metadata": {},
     "output_type": "display_data"
    },
    {
     "data": {
      "text/html": [
       "<a href=\"Results/E-Mu-Proteus-FX-Javanese-C3 - resynth.wav\" target=\"_blank\">E-Mu-Proteus-FX-Javanese-C3: loss=33.81%</a>"
      ],
      "text/plain": [
       "<IPython.core.display.HTML object>"
      ]
     },
     "metadata": {},
     "output_type": "display_data"
    },
    {
     "data": {
      "text/html": [
       "<a href=\"Results/Steel Acoustic C3 - resynth.wav\" target=\"_blank\">Steel Acoustic C3: loss=34.04%</a>"
      ],
      "text/plain": [
       "<IPython.core.display.HTML object>"
      ]
     },
     "metadata": {},
     "output_type": "display_data"
    },
    {
     "data": {
      "text/html": [
       "<a href=\"Results/EPiano FM Classic C3 - resynth.wav\" target=\"_blank\">EPiano FM Classic C3: loss=34.11%</a>"
      ],
      "text/plain": [
       "<IPython.core.display.HTML object>"
      ]
     },
     "metadata": {},
     "output_type": "display_data"
    },
    {
     "data": {
      "text/html": [
       "<a href=\"Results/Flute Ensemble C4 - resynth.wav\" target=\"_blank\">Flute Ensemble C4: loss=34.29%</a>"
      ],
      "text/plain": [
       "<IPython.core.display.HTML object>"
      ]
     },
     "metadata": {},
     "output_type": "display_data"
    },
    {
     "data": {
      "text/html": [
       "<a href=\"Results/Electric Guitar Plect 1 C4 - resynth.wav\" target=\"_blank\">Electric Guitar Plect 1 C4: loss=34.53%</a>"
      ],
      "text/plain": [
       "<IPython.core.display.HTML object>"
      ]
     },
     "metadata": {},
     "output_type": "display_data"
    },
    {
     "data": {
      "text/html": [
       "<a href=\"Results/Casio-MT-600-Pearl-Drop-C3 - resynth.wav\" target=\"_blank\">Casio-MT-600-Pearl-Drop-C3: loss=35.01%</a>"
      ],
      "text/plain": [
       "<IPython.core.display.HTML object>"
      ]
     },
     "metadata": {},
     "output_type": "display_data"
    },
    {
     "data": {
      "text/html": [
       "<a href=\"Results/Anastacia Aa 1 C3 - resynth.wav\" target=\"_blank\">Anastacia Aa 1 C3: loss=35.10%</a>"
      ],
      "text/plain": [
       "<IPython.core.display.HTML object>"
      ]
     },
     "metadata": {},
     "output_type": "display_data"
    },
    {
     "data": {
      "text/html": [
       "<a href=\"Results/80s Digital Synth Bars C3 - resynth.wav\" target=\"_blank\">80s Digital Synth Bars C3: loss=35.18%</a>"
      ],
      "text/plain": [
       "<IPython.core.display.HTML object>"
      ]
     },
     "metadata": {},
     "output_type": "display_data"
    },
    {
     "data": {
      "text/html": [
       "<a href=\"Results/Infinite Void C3 - resynth.wav\" target=\"_blank\">Infinite Void C3: loss=35.23%</a>"
      ],
      "text/plain": [
       "<IPython.core.display.HTML object>"
      ]
     },
     "metadata": {},
     "output_type": "display_data"
    },
    {
     "data": {
      "text/html": [
       "<a href=\"Results/1974 Ambient Solo C3 - resynth.wav\" target=\"_blank\">1974 Ambient Solo C3: loss=35.34%</a>"
      ],
      "text/plain": [
       "<IPython.core.display.HTML object>"
      ]
     },
     "metadata": {},
     "output_type": "display_data"
    },
    {
     "data": {
      "text/html": [
       "<a href=\"Results/Trad Guitar C4 - resynth.wav\" target=\"_blank\">Trad Guitar C4: loss=35.66%</a>"
      ],
      "text/plain": [
       "<IPython.core.display.HTML object>"
      ]
     },
     "metadata": {},
     "output_type": "display_data"
    },
    {
     "data": {
      "text/html": [
       "<a href=\"Results/Alesis-S4-Plus-Muted-Pops-C3 - resynth.wav\" target=\"_blank\">Alesis-S4-Plus-Muted-Pops-C3: loss=35.69%</a>"
      ],
      "text/plain": [
       "<IPython.core.display.HTML object>"
      ]
     },
     "metadata": {},
     "output_type": "display_data"
    },
    {
     "data": {
      "text/html": [
       "<a href=\"Results/Anastacia Oh 3 C4 - resynth.wav\" target=\"_blank\">Anastacia Oh 3 C4: loss=35.87%</a>"
      ],
      "text/plain": [
       "<IPython.core.display.HTML object>"
      ]
     },
     "metadata": {},
     "output_type": "display_data"
    },
    {
     "data": {
      "text/html": [
       "<a href=\"Results/Vox Plucked mf 2 mf C4 - resynth.wav\" target=\"_blank\">Vox Plucked mf 2 mf C4: loss=35.98%</a>"
      ],
      "text/plain": [
       "<IPython.core.display.HTML object>"
      ]
     },
     "metadata": {},
     "output_type": "display_data"
    },
    {
     "data": {
      "text/html": [
       "<a href=\"Results/FM Analog Wave C3 - resynth.wav\" target=\"_blank\">FM Analog Wave C3: loss=36.26%</a>"
      ],
      "text/plain": [
       "<IPython.core.display.HTML object>"
      ]
     },
     "metadata": {},
     "output_type": "display_data"
    },
    {
     "data": {
      "text/html": [
       "<a href=\"Results/Casio-MT-600-Synth-Bells-C3 - resynth.wav\" target=\"_blank\">Casio-MT-600-Synth-Bells-C3: loss=36.30%</a>"
      ],
      "text/plain": [
       "<IPython.core.display.HTML object>"
      ]
     },
     "metadata": {},
     "output_type": "display_data"
    },
    {
     "data": {
      "text/html": [
       "<a href=\"Results/Guitar Nylon Clean C3 - resynth.wav\" target=\"_blank\">Guitar Nylon Clean C3: loss=36.58%</a>"
      ],
      "text/plain": [
       "<IPython.core.display.HTML object>"
      ]
     },
     "metadata": {},
     "output_type": "display_data"
    },
    {
     "data": {
      "text/html": [
       "<a href=\"Results/Grand Piano C4 - resynth.wav\" target=\"_blank\">Grand Piano C4: loss=36.59%</a>"
      ],
      "text/plain": [
       "<IPython.core.display.HTML object>"
      ]
     },
     "metadata": {},
     "output_type": "display_data"
    },
    {
     "data": {
      "text/html": [
       "<a href=\"Results/EPiano Dirty C4 - resynth.wav\" target=\"_blank\">EPiano Dirty C4: loss=36.67%</a>"
      ],
      "text/plain": [
       "<IPython.core.display.HTML object>"
      ]
     },
     "metadata": {},
     "output_type": "display_data"
    },
    {
     "data": {
      "text/html": [
       "<a href=\"Results/FM Voice Rounded C3 - resynth.wav\" target=\"_blank\">FM Voice Rounded C3: loss=36.69%</a>"
      ],
      "text/plain": [
       "<IPython.core.display.HTML object>"
      ]
     },
     "metadata": {},
     "output_type": "display_data"
    },
    {
     "data": {
      "text/html": [
       "<a href=\"Results/Alesis-S4-Plus-BrassSect-C3 - resynth.wav\" target=\"_blank\">Alesis-S4-Plus-BrassSect-C3: loss=36.75%</a>"
      ],
      "text/plain": [
       "<IPython.core.display.HTML object>"
      ]
     },
     "metadata": {},
     "output_type": "display_data"
    },
    {
     "data": {
      "text/html": [
       "<a href=\"Results/Mutagen C3 - resynth.wav\" target=\"_blank\">Mutagen C3: loss=37.03%</a>"
      ],
      "text/plain": [
       "<IPython.core.display.HTML object>"
      ]
     },
     "metadata": {},
     "output_type": "display_data"
    },
    {
     "data": {
      "text/html": [
       "<a href=\"Results/EPiano FM Ballad C3 - resynth.wav\" target=\"_blank\">EPiano FM Ballad C3: loss=37.10%</a>"
      ],
      "text/plain": [
       "<IPython.core.display.HTML object>"
      ]
     },
     "metadata": {},
     "output_type": "display_data"
    },
    {
     "data": {
      "text/html": [
       "<a href=\"Results/Acoustic Guitar 2 Finger 3 C4 - resynth.wav\" target=\"_blank\">Acoustic Guitar 2 Finger 3 C4: loss=37.24%</a>"
      ],
      "text/plain": [
       "<IPython.core.display.HTML object>"
      ]
     },
     "metadata": {},
     "output_type": "display_data"
    },
    {
     "data": {
      "text/html": [
       "<a href=\"Results/Anastacia Eh 1 C3 - resynth.wav\" target=\"_blank\">Anastacia Eh 1 C3: loss=37.36%</a>"
      ],
      "text/plain": [
       "<IPython.core.display.HTML object>"
      ]
     },
     "metadata": {},
     "output_type": "display_data"
    },
    {
     "data": {
      "text/html": [
       "<a href=\"Results/Anastacia Stacc Pa 3 C3 - resynth.wav\" target=\"_blank\">Anastacia Stacc Pa 3 C3: loss=37.42%</a>"
      ],
      "text/plain": [
       "<IPython.core.display.HTML object>"
      ]
     },
     "metadata": {},
     "output_type": "display_data"
    },
    {
     "data": {
      "text/html": [
       "<a href=\"Results/Vocoder Bright Strings C3 - resynth.wav\" target=\"_blank\">Vocoder Bright Strings C3: loss=37.43%</a>"
      ],
      "text/plain": [
       "<IPython.core.display.HTML object>"
      ]
     },
     "metadata": {},
     "output_type": "display_data"
    },
    {
     "data": {
      "text/html": [
       "<a href=\"Results/E-Mu-Proteus-FX-Pianotar-C3 - resynth.wav\" target=\"_blank\">E-Mu-Proteus-FX-Pianotar-C3: loss=37.44%</a>"
      ],
      "text/plain": [
       "<IPython.core.display.HTML object>"
      ]
     },
     "metadata": {},
     "output_type": "display_data"
    },
    {
     "data": {
      "text/html": [
       "<a href=\"Results/Acoustic Guitar 2 Finger 1 C4 - resynth.wav\" target=\"_blank\">Acoustic Guitar 2 Finger 1 C4: loss=37.50%</a>"
      ],
      "text/plain": [
       "<IPython.core.display.HTML object>"
      ]
     },
     "metadata": {},
     "output_type": "display_data"
    },
    {
     "data": {
      "text/html": [
       "<a href=\"Results/Analog 103 C3 - resynth.wav\" target=\"_blank\">Analog 103 C3: loss=37.55%</a>"
      ],
      "text/plain": [
       "<IPython.core.display.HTML object>"
      ]
     },
     "metadata": {},
     "output_type": "display_data"
    },
    {
     "data": {
      "text/html": [
       "<a href=\"Results/Vocoderix C4 - resynth.wav\" target=\"_blank\">Vocoderix C4: loss=37.56%</a>"
      ],
      "text/plain": [
       "<IPython.core.display.HTML object>"
      ]
     },
     "metadata": {},
     "output_type": "display_data"
    },
    {
     "data": {
      "text/html": [
       "<a href=\"Results/Classical Guitar C3 - resynth.wav\" target=\"_blank\">Classical Guitar C3: loss=37.59%</a>"
      ],
      "text/plain": [
       "<IPython.core.display.HTML object>"
      ]
     },
     "metadata": {},
     "output_type": "display_data"
    },
    {
     "data": {
      "text/html": [
       "<a href=\"Results/Alesis-Fusion-Tremolo-Strings-C4 - resynth.wav\" target=\"_blank\">Alesis-Fusion-Tremolo-Strings-C4: loss=37.69%</a>"
      ],
      "text/plain": [
       "<IPython.core.display.HTML object>"
      ]
     },
     "metadata": {},
     "output_type": "display_data"
    },
    {
     "data": {
      "text/html": [
       "<a href=\"Results/80s Analog Dusted Bass C3 - resynth.wav\" target=\"_blank\">80s Analog Dusted Bass C3: loss=37.71%</a>"
      ],
      "text/plain": [
       "<IPython.core.display.HTML object>"
      ]
     },
     "metadata": {},
     "output_type": "display_data"
    },
    {
     "data": {
      "text/html": [
       "<a href=\"Results/Blown 13 C3 - resynth.wav\" target=\"_blank\">Blown 13 C3: loss=37.71%</a>"
      ],
      "text/plain": [
       "<IPython.core.display.HTML object>"
      ]
     },
     "metadata": {},
     "output_type": "display_data"
    },
    {
     "data": {
      "text/html": [
       "<a href=\"Results/Vibraphone C4 - resynth.wav\" target=\"_blank\">Vibraphone C4: loss=37.80%</a>"
      ],
      "text/plain": [
       "<IPython.core.display.HTML object>"
      ]
     },
     "metadata": {},
     "output_type": "display_data"
    },
    {
     "data": {
      "text/html": [
       "<a href=\"Results/Mini Synth C4 - resynth.wav\" target=\"_blank\">Mini Synth C4: loss=37.90%</a>"
      ],
      "text/plain": [
       "<IPython.core.display.HTML object>"
      ]
     },
     "metadata": {},
     "output_type": "display_data"
    },
    {
     "data": {
      "text/html": [
       "<a href=\"Results/Reese Bass C3 - resynth.wav\" target=\"_blank\">Reese Bass C3: loss=38.03%</a>"
      ],
      "text/plain": [
       "<IPython.core.display.HTML object>"
      ]
     },
     "metadata": {},
     "output_type": "display_data"
    },
    {
     "data": {
      "text/html": [
       "<a href=\"Results/Dirty Sine C4 - resynth.wav\" target=\"_blank\">Dirty Sine C4: loss=38.23%</a>"
      ],
      "text/plain": [
       "<IPython.core.display.HTML object>"
      ]
     },
     "metadata": {},
     "output_type": "display_data"
    },
    {
     "data": {
      "text/html": [
       "<a href=\"Results/Anastacia Oo 3 C3 - resynth.wav\" target=\"_blank\">Anastacia Oo 3 C3: loss=38.74%</a>"
      ],
      "text/plain": [
       "<IPython.core.display.HTML object>"
      ]
     },
     "metadata": {},
     "output_type": "display_data"
    },
    {
     "data": {
      "text/html": [
       "<a href=\"Results/Anastacia Eh 3 C3 - resynth.wav\" target=\"_blank\">Anastacia Eh 3 C3: loss=38.79%</a>"
      ],
      "text/plain": [
       "<IPython.core.display.HTML object>"
      ]
     },
     "metadata": {},
     "output_type": "display_data"
    },
    {
     "data": {
      "text/html": [
       "<a href=\"Results/E-Mu-Proteus-FX-Bassoon-C3 - resynth.wav\" target=\"_blank\">E-Mu-Proteus-FX-Bassoon-C3: loss=38.81%</a>"
      ],
      "text/plain": [
       "<IPython.core.display.HTML object>"
      ]
     },
     "metadata": {},
     "output_type": "display_data"
    },
    {
     "data": {
      "text/html": [
       "<a href=\"Results/Cheap Guitar Pluck C4 - resynth.wav\" target=\"_blank\">Cheap Guitar Pluck C4: loss=38.84%</a>"
      ],
      "text/plain": [
       "<IPython.core.display.HTML object>"
      ]
     },
     "metadata": {},
     "output_type": "display_data"
    },
    {
     "data": {
      "text/html": [
       "<a href=\"Results/Ensoniq-SQ-1-Trumpet-C3 - resynth.wav\" target=\"_blank\">Ensoniq-SQ-1-Trumpet-C3: loss=38.93%</a>"
      ],
      "text/plain": [
       "<IPython.core.display.HTML object>"
      ]
     },
     "metadata": {},
     "output_type": "display_data"
    },
    {
     "data": {
      "text/html": [
       "<a href=\"Results/1974 Triangle C3 - resynth.wav\" target=\"_blank\">1974 Triangle C3: loss=39.02%</a>"
      ],
      "text/plain": [
       "<IPython.core.display.HTML object>"
      ]
     },
     "metadata": {},
     "output_type": "display_data"
    },
    {
     "data": {
      "text/html": [
       "<a href=\"Results/Electric Fat Plect 2 C4 - resynth.wav\" target=\"_blank\">Electric Fat Plect 2 C4: loss=39.53%</a>"
      ],
      "text/plain": [
       "<IPython.core.display.HTML object>"
      ]
     },
     "metadata": {},
     "output_type": "display_data"
    },
    {
     "data": {
      "text/html": [
       "<a href=\"Results/Amanda Stacc La 3 C3 - resynth.wav\" target=\"_blank\">Amanda Stacc La 3 C3: loss=39.59%</a>"
      ],
      "text/plain": [
       "<IPython.core.display.HTML object>"
      ]
     },
     "metadata": {},
     "output_type": "display_data"
    },
    {
     "data": {
      "text/html": [
       "<a href=\"Results/Anastacia Mm 3 C4 - resynth.wav\" target=\"_blank\">Anastacia Mm 3 C4: loss=39.93%</a>"
      ],
      "text/plain": [
       "<IPython.core.display.HTML object>"
      ]
     },
     "metadata": {},
     "output_type": "display_data"
    },
    {
     "data": {
      "text/html": [
       "<a href=\"Results/Cherry Ve Va Vo Va C3 - resynth.wav\" target=\"_blank\">Cherry Ve Va Vo Va C3: loss=39.96%</a>"
      ],
      "text/plain": [
       "<IPython.core.display.HTML object>"
      ]
     },
     "metadata": {},
     "output_type": "display_data"
    },
    {
     "data": {
      "text/html": [
       "<a href=\"Results/E-Mu-Proteus-FX-Marimba-C3 - resynth.wav\" target=\"_blank\">E-Mu-Proteus-FX-Marimba-C3: loss=40.06%</a>"
      ],
      "text/plain": [
       "<IPython.core.display.HTML object>"
      ]
     },
     "metadata": {},
     "output_type": "display_data"
    },
    {
     "data": {
      "text/html": [
       "<a href=\"Results/Anastacia Stacc Oh 2 C3 - resynth.wav\" target=\"_blank\">Anastacia Stacc Oh 2 C3: loss=40.13%</a>"
      ],
      "text/plain": [
       "<IPython.core.display.HTML object>"
      ]
     },
     "metadata": {},
     "output_type": "display_data"
    },
    {
     "data": {
      "text/html": [
       "<a href=\"Results/80s Analog Dusted Bass C4 - resynth.wav\" target=\"_blank\">80s Analog Dusted Bass C4: loss=40.14%</a>"
      ],
      "text/plain": [
       "<IPython.core.display.HTML object>"
      ]
     },
     "metadata": {},
     "output_type": "display_data"
    },
    {
     "data": {
      "text/html": [
       "<a href=\"Results/Tube Triangle C4 - resynth.wav\" target=\"_blank\">Tube Triangle C4: loss=40.25%</a>"
      ],
      "text/plain": [
       "<IPython.core.display.HTML object>"
      ]
     },
     "metadata": {},
     "output_type": "display_data"
    },
    {
     "data": {
      "text/html": [
       "<a href=\"Results/Anastacia Ba Da Eh Oh 2 C3 - resynth.wav\" target=\"_blank\">Anastacia Ba Da Eh Oh 2 C3: loss=40.37%</a>"
      ],
      "text/plain": [
       "<IPython.core.display.HTML object>"
      ]
     },
     "metadata": {},
     "output_type": "display_data"
    },
    {
     "data": {
      "text/html": [
       "<a href=\"Results/Grungy Spike C4 - resynth.wav\" target=\"_blank\">Grungy Spike C4: loss=40.51%</a>"
      ],
      "text/plain": [
       "<IPython.core.display.HTML object>"
      ]
     },
     "metadata": {},
     "output_type": "display_data"
    },
    {
     "data": {
      "text/html": [
       "<a href=\"Results/Ring Mod C4 - resynth.wav\" target=\"_blank\">Ring Mod C4: loss=40.71%</a>"
      ],
      "text/plain": [
       "<IPython.core.display.HTML object>"
      ]
     },
     "metadata": {},
     "output_type": "display_data"
    },
    {
     "data": {
      "text/html": [
       "<a href=\"Results/FM Classic Koto C4 - resynth.wav\" target=\"_blank\">FM Classic Koto C4: loss=40.74%</a>"
      ],
      "text/plain": [
       "<IPython.core.display.HTML object>"
      ]
     },
     "metadata": {},
     "output_type": "display_data"
    },
    {
     "data": {
      "text/html": [
       "<a href=\"Results/FM Noise Bass C4 - resynth.wav\" target=\"_blank\">FM Noise Bass C4: loss=40.86%</a>"
      ],
      "text/plain": [
       "<IPython.core.display.HTML object>"
      ]
     },
     "metadata": {},
     "output_type": "display_data"
    },
    {
     "data": {
      "text/html": [
       "<a href=\"Results/AH Lofi C3 - resynth.wav\" target=\"_blank\">AH Lofi C3: loss=40.91%</a>"
      ],
      "text/plain": [
       "<IPython.core.display.HTML object>"
      ]
     },
     "metadata": {},
     "output_type": "display_data"
    },
    {
     "data": {
      "text/html": [
       "<a href=\"Results/1974 Wet Funk Solo 2 C4 - resynth.wav\" target=\"_blank\">1974 Wet Funk Solo 2 C4: loss=40.98%</a>"
      ],
      "text/plain": [
       "<IPython.core.display.HTML object>"
      ]
     },
     "metadata": {},
     "output_type": "display_data"
    },
    {
     "data": {
      "text/html": [
       "<a href=\"Results/Casio-MT-600-Clarinet-C4 - resynth.wav\" target=\"_blank\">Casio-MT-600-Clarinet-C4: loss=41.18%</a>"
      ],
      "text/plain": [
       "<IPython.core.display.HTML object>"
      ]
     },
     "metadata": {},
     "output_type": "display_data"
    },
    {
     "data": {
      "text/html": [
       "<a href=\"Results/Synth Strings 2 C3 - resynth.wav\" target=\"_blank\">Synth Strings 2 C3: loss=41.25%</a>"
      ],
      "text/plain": [
       "<IPython.core.display.HTML object>"
      ]
     },
     "metadata": {},
     "output_type": "display_data"
    },
    {
     "data": {
      "text/html": [
       "<a href=\"Results/Anastacia Stacc Da 1 C3 - resynth.wav\" target=\"_blank\">Anastacia Stacc Da 1 C3: loss=41.25%</a>"
      ],
      "text/plain": [
       "<IPython.core.display.HTML object>"
      ]
     },
     "metadata": {},
     "output_type": "display_data"
    },
    {
     "data": {
      "text/html": [
       "<a href=\"Results/Kawai-K5000W-SteelGt1-C3 - resynth.wav\" target=\"_blank\">Kawai-K5000W-SteelGt1-C3: loss=41.44%</a>"
      ],
      "text/plain": [
       "<IPython.core.display.HTML object>"
      ]
     },
     "metadata": {},
     "output_type": "display_data"
    },
    {
     "data": {
      "text/html": [
       "<a href=\"Results/Kawai-K11-CleanGtr-C3 - resynth.wav\" target=\"_blank\">Kawai-K11-CleanGtr-C3: loss=41.48%</a>"
      ],
      "text/plain": [
       "<IPython.core.display.HTML object>"
      ]
     },
     "metadata": {},
     "output_type": "display_data"
    },
    {
     "data": {
      "text/html": [
       "<a href=\"Results/Ambient Drift C3 G3 - resynth.wav\" target=\"_blank\">Ambient Drift C3 G3: loss=41.67%</a>"
      ],
      "text/plain": [
       "<IPython.core.display.HTML object>"
      ]
     },
     "metadata": {},
     "output_type": "display_data"
    },
    {
     "data": {
      "text/html": [
       "<a href=\"Results/Cherry Oh 2 C3 - resynth.wav\" target=\"_blank\">Cherry Oh 2 C3: loss=41.68%</a>"
      ],
      "text/plain": [
       "<IPython.core.display.HTML object>"
      ]
     },
     "metadata": {},
     "output_type": "display_data"
    },
    {
     "data": {
      "text/html": [
       "<a href=\"Results/Anastacia Aa 3 C4 - resynth.wav\" target=\"_blank\">Anastacia Aa 3 C4: loss=42.04%</a>"
      ],
      "text/plain": [
       "<IPython.core.display.HTML object>"
      ]
     },
     "metadata": {},
     "output_type": "display_data"
    },
    {
     "data": {
      "text/html": [
       "<a href=\"Results/Anastacia Eh 1 C4 - resynth.wav\" target=\"_blank\">Anastacia Eh 1 C4: loss=42.14%</a>"
      ],
      "text/plain": [
       "<IPython.core.display.HTML object>"
      ]
     },
     "metadata": {},
     "output_type": "display_data"
    },
    {
     "data": {
      "text/html": [
       "<a href=\"Results/Cherry Stacc Aa 1 C3 - resynth.wav\" target=\"_blank\">Cherry Stacc Aa 1 C3: loss=42.16%</a>"
      ],
      "text/plain": [
       "<IPython.core.display.HTML object>"
      ]
     },
     "metadata": {},
     "output_type": "display_data"
    },
    {
     "data": {
      "text/html": [
       "<a href=\"Results/Vocoder Bright Strings C4 - resynth.wav\" target=\"_blank\">Vocoder Bright Strings C4: loss=42.16%</a>"
      ],
      "text/plain": [
       "<IPython.core.display.HTML object>"
      ]
     },
     "metadata": {},
     "output_type": "display_data"
    },
    {
     "data": {
      "text/html": [
       "<a href=\"Results/Analog Saw Punch Bass C3 - resynth.wav\" target=\"_blank\">Analog Saw Punch Bass C3: loss=42.30%</a>"
      ],
      "text/plain": [
       "<IPython.core.display.HTML object>"
      ]
     },
     "metadata": {},
     "output_type": "display_data"
    },
    {
     "data": {
      "text/html": [
       "<a href=\"Results/Mono Clean C4 - resynth.wav\" target=\"_blank\">Mono Clean C4: loss=42.40%</a>"
      ],
      "text/plain": [
       "<IPython.core.display.HTML object>"
      ]
     },
     "metadata": {},
     "output_type": "display_data"
    },
    {
     "data": {
      "text/html": [
       "<a href=\"Results/Blown 17 C4 - resynth.wav\" target=\"_blank\">Blown 17 C4: loss=42.41%</a>"
      ],
      "text/plain": [
       "<IPython.core.display.HTML object>"
      ]
     },
     "metadata": {},
     "output_type": "display_data"
    },
    {
     "data": {
      "text/html": [
       "<a href=\"Results/Anastacia Oh 2 C4 - resynth.wav\" target=\"_blank\">Anastacia Oh 2 C4: loss=42.43%</a>"
      ],
      "text/plain": [
       "<IPython.core.display.HTML object>"
      ]
     },
     "metadata": {},
     "output_type": "display_data"
    },
    {
     "data": {
      "text/html": [
       "<a href=\"Results/Antarctic Moon C3 - resynth.wav\" target=\"_blank\">Antarctic Moon C3: loss=42.45%</a>"
      ],
      "text/plain": [
       "<IPython.core.display.HTML object>"
      ]
     },
     "metadata": {},
     "output_type": "display_data"
    },
    {
     "data": {
      "text/html": [
       "<a href=\"Results/Vintage Synth Trumpet C3 - resynth.wav\" target=\"_blank\">Vintage Synth Trumpet C3: loss=42.62%</a>"
      ],
      "text/plain": [
       "<IPython.core.display.HTML object>"
      ]
     },
     "metadata": {},
     "output_type": "display_data"
    },
    {
     "data": {
      "text/html": [
       "<a href=\"Results/E-Mu-Proteus-FX-AcStereo-C3 - resynth.wav\" target=\"_blank\">E-Mu-Proteus-FX-AcStereo-C3: loss=42.64%</a>"
      ],
      "text/plain": [
       "<IPython.core.display.HTML object>"
      ]
     },
     "metadata": {},
     "output_type": "display_data"
    },
    {
     "data": {
      "text/html": [
       "<a href=\"Results/Electric Guitar - Clean C4 - resynth.wav\" target=\"_blank\">Electric Guitar - Clean C4: loss=42.64%</a>"
      ],
      "text/plain": [
       "<IPython.core.display.HTML object>"
      ]
     },
     "metadata": {},
     "output_type": "display_data"
    },
    {
     "data": {
      "text/html": [
       "<a href=\"Results/Analog Pluck C4 - resynth.wav\" target=\"_blank\">Analog Pluck C4: loss=42.67%</a>"
      ],
      "text/plain": [
       "<IPython.core.display.HTML object>"
      ]
     },
     "metadata": {},
     "output_type": "display_data"
    },
    {
     "data": {
      "text/html": [
       "<a href=\"Results/Analog Pluck C3 - resynth.wav\" target=\"_blank\">Analog Pluck C3: loss=42.67%</a>"
      ],
      "text/plain": [
       "<IPython.core.display.HTML object>"
      ]
     },
     "metadata": {},
     "output_type": "display_data"
    },
    {
     "data": {
      "text/html": [
       "<a href=\"Results/Creepy Bed C3 Chromatic - resynth.wav\" target=\"_blank\">Creepy Bed C3 Chromatic: loss=42.82%</a>"
      ],
      "text/plain": [
       "<IPython.core.display.HTML object>"
      ]
     },
     "metadata": {},
     "output_type": "display_data"
    },
    {
     "data": {
      "text/html": [
       "<a href=\"Results/Sunspots C4 - resynth.wav\" target=\"_blank\">Sunspots C4: loss=42.88%</a>"
      ],
      "text/plain": [
       "<IPython.core.display.HTML object>"
      ]
     },
     "metadata": {},
     "output_type": "display_data"
    },
    {
     "data": {
      "text/html": [
       "<a href=\"Results/Electric Fat Plect 3 C4 - resynth.wav\" target=\"_blank\">Electric Fat Plect 3 C4: loss=42.93%</a>"
      ],
      "text/plain": [
       "<IPython.core.display.HTML object>"
      ]
     },
     "metadata": {},
     "output_type": "display_data"
    },
    {
     "data": {
      "text/html": [
       "<a href=\"Results/80s Digital Bass ff C4 - resynth.wav\" target=\"_blank\">80s Digital Bass ff C4: loss=42.96%</a>"
      ],
      "text/plain": [
       "<IPython.core.display.HTML object>"
      ]
     },
     "metadata": {},
     "output_type": "display_data"
    },
    {
     "data": {
      "text/html": [
       "<a href=\"Results/Group Pizz 2 C3 - resynth.wav\" target=\"_blank\">Group Pizz 2 C3: loss=43.00%</a>"
      ],
      "text/plain": [
       "<IPython.core.display.HTML object>"
      ]
     },
     "metadata": {},
     "output_type": "display_data"
    },
    {
     "data": {
      "text/html": [
       "<a href=\"Results/Cherry Stacc La 3 C3 - resynth.wav\" target=\"_blank\">Cherry Stacc La 3 C3: loss=43.05%</a>"
      ],
      "text/plain": [
       "<IPython.core.display.HTML object>"
      ]
     },
     "metadata": {},
     "output_type": "display_data"
    },
    {
     "data": {
      "text/html": [
       "<a href=\"Results/Anastacia Aa Ee Ay Oh 1 C4 - resynth.wav\" target=\"_blank\">Anastacia Aa Ee Ay Oh 1 C4: loss=43.05%</a>"
      ],
      "text/plain": [
       "<IPython.core.display.HTML object>"
      ]
     },
     "metadata": {},
     "output_type": "display_data"
    },
    {
     "data": {
      "text/html": [
       "<a href=\"Results/Polyphonic Broad Pulse C3 - resynth.wav\" target=\"_blank\">Polyphonic Broad Pulse C3: loss=43.09%</a>"
      ],
      "text/plain": [
       "<IPython.core.display.HTML object>"
      ]
     },
     "metadata": {},
     "output_type": "display_data"
    },
    {
     "data": {
      "text/html": [
       "<a href=\"Results/Anastacia Mm 1 C4 - resynth.wav\" target=\"_blank\">Anastacia Mm 1 C4: loss=43.21%</a>"
      ],
      "text/plain": [
       "<IPython.core.display.HTML object>"
      ]
     },
     "metadata": {},
     "output_type": "display_data"
    },
    {
     "data": {
      "text/html": [
       "<a href=\"Results/Formant Ah C3 - resynth.wav\" target=\"_blank\">Formant Ah C3: loss=43.22%</a>"
      ],
      "text/plain": [
       "<IPython.core.display.HTML object>"
      ]
     },
     "metadata": {},
     "output_type": "display_data"
    },
    {
     "data": {
      "text/html": [
       "<a href=\"Results/Kawai-K5000W-12StrGtr-C3 - resynth.wav\" target=\"_blank\">Kawai-K5000W-12StrGtr-C3: loss=43.33%</a>"
      ],
      "text/plain": [
       "<IPython.core.display.HTML object>"
      ]
     },
     "metadata": {},
     "output_type": "display_data"
    },
    {
     "data": {
      "text/html": [
       "<a href=\"Results/Sphere Pad C3 - resynth.wav\" target=\"_blank\">Sphere Pad C3: loss=43.42%</a>"
      ],
      "text/plain": [
       "<IPython.core.display.HTML object>"
      ]
     },
     "metadata": {},
     "output_type": "display_data"
    },
    {
     "data": {
      "text/html": [
       "<a href=\"Results/Cherry Oo 1 C3 - resynth.wav\" target=\"_blank\">Cherry Oo 1 C3: loss=43.59%</a>"
      ],
      "text/plain": [
       "<IPython.core.display.HTML object>"
      ]
     },
     "metadata": {},
     "output_type": "display_data"
    },
    {
     "data": {
      "text/html": [
       "<a href=\"Results/Vocoder Strings C3 - resynth.wav\" target=\"_blank\">Vocoder Strings C3: loss=43.63%</a>"
      ],
      "text/plain": [
       "<IPython.core.display.HTML object>"
      ]
     },
     "metadata": {},
     "output_type": "display_data"
    },
    {
     "data": {
      "text/html": [
       "<a href=\"Results/Overtone Flute C3 - resynth.wav\" target=\"_blank\">Overtone Flute C3: loss=43.83%</a>"
      ],
      "text/plain": [
       "<IPython.core.display.HTML object>"
      ]
     },
     "metadata": {},
     "output_type": "display_data"
    },
    {
     "data": {
      "text/html": [
       "<a href=\"Results/Amanda Oo 3 C3 - resynth.wav\" target=\"_blank\">Amanda Oo 3 C3: loss=44.06%</a>"
      ],
      "text/plain": [
       "<IPython.core.display.HTML object>"
      ]
     },
     "metadata": {},
     "output_type": "display_data"
    },
    {
     "data": {
      "text/html": [
       "<a href=\"Results/Fujara C3 - resynth.wav\" target=\"_blank\">Fujara C3: loss=44.07%</a>"
      ],
      "text/plain": [
       "<IPython.core.display.HTML object>"
      ]
     },
     "metadata": {},
     "output_type": "display_data"
    },
    {
     "data": {
      "text/html": [
       "<a href=\"Results/Anastacia Stacc Ta 1 C4 - resynth.wav\" target=\"_blank\">Anastacia Stacc Ta 1 C4: loss=44.07%</a>"
      ],
      "text/plain": [
       "<IPython.core.display.HTML object>"
      ]
     },
     "metadata": {},
     "output_type": "display_data"
    },
    {
     "data": {
      "text/html": [
       "<a href=\"Results/Wanderer 02 C3 - resynth.wav\" target=\"_blank\">Wanderer 02 C3: loss=44.13%</a>"
      ],
      "text/plain": [
       "<IPython.core.display.HTML object>"
      ]
     },
     "metadata": {},
     "output_type": "display_data"
    },
    {
     "data": {
      "text/html": [
       "<a href=\"Results/Cherry Oh 3 C3 - resynth.wav\" target=\"_blank\">Cherry Oh 3 C3: loss=44.14%</a>"
      ],
      "text/plain": [
       "<IPython.core.display.HTML object>"
      ]
     },
     "metadata": {},
     "output_type": "display_data"
    },
    {
     "data": {
      "text/html": [
       "<a href=\"Results/Cherry Oh 1 C3 - resynth.wav\" target=\"_blank\">Cherry Oh 1 C3: loss=44.14%</a>"
      ],
      "text/plain": [
       "<IPython.core.display.HTML object>"
      ]
     },
     "metadata": {},
     "output_type": "display_data"
    },
    {
     "data": {
      "text/html": [
       "<a href=\"Results/Short Saw C3 - resynth.wav\" target=\"_blank\">Short Saw C3: loss=44.20%</a>"
      ],
      "text/plain": [
       "<IPython.core.display.HTML object>"
      ]
     },
     "metadata": {},
     "output_type": "display_data"
    },
    {
     "data": {
      "text/html": [
       "<a href=\"Results/Slight Buzz Guitar C3 - resynth.wav\" target=\"_blank\">Slight Buzz Guitar C3: loss=44.21%</a>"
      ],
      "text/plain": [
       "<IPython.core.display.HTML object>"
      ]
     },
     "metadata": {},
     "output_type": "display_data"
    },
    {
     "data": {
      "text/html": [
       "<a href=\"Results/Trad Slap Bass C3 - resynth.wav\" target=\"_blank\">Trad Slap Bass C3: loss=44.28%</a>"
      ],
      "text/plain": [
       "<IPython.core.display.HTML object>"
      ]
     },
     "metadata": {},
     "output_type": "display_data"
    },
    {
     "data": {
      "text/html": [
       "<a href=\"Results/Vocalize 0002 C3 - resynth.wav\" target=\"_blank\">Vocalize 0002 C3: loss=44.30%</a>"
      ],
      "text/plain": [
       "<IPython.core.display.HTML object>"
      ]
     },
     "metadata": {},
     "output_type": "display_data"
    },
    {
     "data": {
      "text/html": [
       "<a href=\"Results/Mini m Dark Decay C3 - resynth.wav\" target=\"_blank\">Mini m Dark Decay C3: loss=44.32%</a>"
      ],
      "text/plain": [
       "<IPython.core.display.HTML object>"
      ]
     },
     "metadata": {},
     "output_type": "display_data"
    },
    {
     "data": {
      "text/html": [
       "<a href=\"Results/Cheap Guitar Pluck C3 - resynth.wav\" target=\"_blank\">Cheap Guitar Pluck C3: loss=44.48%</a>"
      ],
      "text/plain": [
       "<IPython.core.display.HTML object>"
      ]
     },
     "metadata": {},
     "output_type": "display_data"
    },
    {
     "data": {
      "text/html": [
       "<a href=\"Results/Analog 103 C4 - resynth.wav\" target=\"_blank\">Analog 103 C4: loss=44.59%</a>"
      ],
      "text/plain": [
       "<IPython.core.display.HTML object>"
      ]
     },
     "metadata": {},
     "output_type": "display_data"
    },
    {
     "data": {
      "text/html": [
       "<a href=\"Results/Anastacia Ha Ee Oh Wa 1 C3 - resynth.wav\" target=\"_blank\">Anastacia Ha Ee Oh Wa 1 C3: loss=44.82%</a>"
      ],
      "text/plain": [
       "<IPython.core.display.HTML object>"
      ]
     },
     "metadata": {},
     "output_type": "display_data"
    },
    {
     "data": {
      "text/html": [
       "<a href=\"Results/Cherry Oo 2 C3 - resynth.wav\" target=\"_blank\">Cherry Oo 2 C3: loss=44.90%</a>"
      ],
      "text/plain": [
       "<IPython.core.display.HTML object>"
      ]
     },
     "metadata": {},
     "output_type": "display_data"
    },
    {
     "data": {
      "text/html": [
       "<a href=\"Results/FM Bass 3 C3 - resynth.wav\" target=\"_blank\">FM Bass 3 C3: loss=44.98%</a>"
      ],
      "text/plain": [
       "<IPython.core.display.HTML object>"
      ]
     },
     "metadata": {},
     "output_type": "display_data"
    },
    {
     "data": {
      "text/html": [
       "<a href=\"Results/Solo Arty Ahh C3 - resynth.wav\" target=\"_blank\">Solo Arty Ahh C3: loss=45.11%</a>"
      ],
      "text/plain": [
       "<IPython.core.display.HTML object>"
      ]
     },
     "metadata": {},
     "output_type": "display_data"
    },
    {
     "data": {
      "text/html": [
       "<a href=\"Results/1974 Triangle C4 - resynth.wav\" target=\"_blank\">1974 Triangle C4: loss=45.19%</a>"
      ],
      "text/plain": [
       "<IPython.core.display.HTML object>"
      ]
     },
     "metadata": {},
     "output_type": "display_data"
    },
    {
     "data": {
      "text/html": [
       "<a href=\"Results/80s Digital Synth Open Strings C3 - resynth.wav\" target=\"_blank\">80s Digital Synth Open Strings C3: loss=45.36%</a>"
      ],
      "text/plain": [
       "<IPython.core.display.HTML object>"
      ]
     },
     "metadata": {},
     "output_type": "display_data"
    },
    {
     "data": {
      "text/html": [
       "<a href=\"Results/Antarctic Moon C4 - resynth.wav\" target=\"_blank\">Antarctic Moon C4: loss=45.43%</a>"
      ],
      "text/plain": [
       "<IPython.core.display.HTML object>"
      ]
     },
     "metadata": {},
     "output_type": "display_data"
    },
    {
     "data": {
      "text/html": [
       "<a href=\"Results/Anastacia Oh 1 C3 - resynth.wav\" target=\"_blank\">Anastacia Oh 1 C3: loss=45.51%</a>"
      ],
      "text/plain": [
       "<IPython.core.display.HTML object>"
      ]
     },
     "metadata": {},
     "output_type": "display_data"
    },
    {
     "data": {
      "text/html": [
       "<a href=\"Results/Tube Triangle C3 - resynth.wav\" target=\"_blank\">Tube Triangle C3: loss=45.58%</a>"
      ],
      "text/plain": [
       "<IPython.core.display.HTML object>"
      ]
     },
     "metadata": {},
     "output_type": "display_data"
    },
    {
     "data": {
      "text/html": [
       "<a href=\"Results/Anastacia Oo 1 C4 - resynth.wav\" target=\"_blank\">Anastacia Oo 1 C4: loss=45.58%</a>"
      ],
      "text/plain": [
       "<IPython.core.display.HTML object>"
      ]
     },
     "metadata": {},
     "output_type": "display_data"
    },
    {
     "data": {
      "text/html": [
       "<a href=\"Results/Anastacia Aa 3 C3 - resynth.wav\" target=\"_blank\">Anastacia Aa 3 C3: loss=45.60%</a>"
      ],
      "text/plain": [
       "<IPython.core.display.HTML object>"
      ]
     },
     "metadata": {},
     "output_type": "display_data"
    },
    {
     "data": {
      "text/html": [
       "<a href=\"Results/Brass Blast C3 - resynth.wav\" target=\"_blank\">Brass Blast C3: loss=45.64%</a>"
      ],
      "text/plain": [
       "<IPython.core.display.HTML object>"
      ]
     },
     "metadata": {},
     "output_type": "display_data"
    },
    {
     "data": {
      "text/html": [
       "<a href=\"Results/Vocalize 0001 C3 - resynth.wav\" target=\"_blank\">Vocalize 0001 C3: loss=45.65%</a>"
      ],
      "text/plain": [
       "<IPython.core.display.HTML object>"
      ]
     },
     "metadata": {},
     "output_type": "display_data"
    },
    {
     "data": {
      "text/html": [
       "<a href=\"Results/Anastacia Oo 2 C4 - resynth.wav\" target=\"_blank\">Anastacia Oo 2 C4: loss=45.75%</a>"
      ],
      "text/plain": [
       "<IPython.core.display.HTML object>"
      ]
     },
     "metadata": {},
     "output_type": "display_data"
    },
    {
     "data": {
      "text/html": [
       "<a href=\"Results/Cherry Stacc Aa 2 C3 - resynth.wav\" target=\"_blank\">Cherry Stacc Aa 2 C3: loss=45.97%</a>"
      ],
      "text/plain": [
       "<IPython.core.display.HTML object>"
      ]
     },
     "metadata": {},
     "output_type": "display_data"
    },
    {
     "data": {
      "text/html": [
       "<a href=\"Results/Celtic Harp C3 - resynth.wav\" target=\"_blank\">Celtic Harp C3: loss=46.03%</a>"
      ],
      "text/plain": [
       "<IPython.core.display.HTML object>"
      ]
     },
     "metadata": {},
     "output_type": "display_data"
    },
    {
     "data": {
      "text/html": [
       "<a href=\"Results/Dream Organ C4 - resynth.wav\" target=\"_blank\">Dream Organ C4: loss=46.08%</a>"
      ],
      "text/plain": [
       "<IPython.core.display.HTML object>"
      ]
     },
     "metadata": {},
     "output_type": "display_data"
    },
    {
     "data": {
      "text/html": [
       "<a href=\"Results/Casio-MT-600-Vibraphone-1-C4 - resynth.wav\" target=\"_blank\">Casio-MT-600-Vibraphone-1-C4: loss=46.12%</a>"
      ],
      "text/plain": [
       "<IPython.core.display.HTML object>"
      ]
     },
     "metadata": {},
     "output_type": "display_data"
    },
    {
     "data": {
      "text/html": [
       "<a href=\"Results/FM Classic Koto C3 - resynth.wav\" target=\"_blank\">FM Classic Koto C3: loss=46.18%</a>"
      ],
      "text/plain": [
       "<IPython.core.display.HTML object>"
      ]
     },
     "metadata": {},
     "output_type": "display_data"
    },
    {
     "data": {
      "text/html": [
       "<a href=\"Results/Acoustic Guitar 2 Pchord 2 C4 - resynth.wav\" target=\"_blank\">Acoustic Guitar 2 Pchord 2 C4: loss=46.51%</a>"
      ],
      "text/plain": [
       "<IPython.core.display.HTML object>"
      ]
     },
     "metadata": {},
     "output_type": "display_data"
    },
    {
     "data": {
      "text/html": [
       "<a href=\"Results/Wavetable Rm C3 - resynth.wav\" target=\"_blank\">Wavetable Rm C3: loss=46.65%</a>"
      ],
      "text/plain": [
       "<IPython.core.display.HTML object>"
      ]
     },
     "metadata": {},
     "output_type": "display_data"
    },
    {
     "data": {
      "text/html": [
       "<a href=\"Results/E-Mu-Proteus-FX-VoxSpred-C3 - resynth.wav\" target=\"_blank\">E-Mu-Proteus-FX-VoxSpred-C3: loss=46.84%</a>"
      ],
      "text/plain": [
       "<IPython.core.display.HTML object>"
      ]
     },
     "metadata": {},
     "output_type": "display_data"
    },
    {
     "data": {
      "text/html": [
       "<a href=\"Results/Solo Arty Mm C3 - resynth.wav\" target=\"_blank\">Solo Arty Mm C3: loss=46.92%</a>"
      ],
      "text/plain": [
       "<IPython.core.display.HTML object>"
      ]
     },
     "metadata": {},
     "output_type": "display_data"
    },
    {
     "data": {
      "text/html": [
       "<a href=\"Results/Frontiers Pad C3 - resynth.wav\" target=\"_blank\">Frontiers Pad C3: loss=47.02%</a>"
      ],
      "text/plain": [
       "<IPython.core.display.HTML object>"
      ]
     },
     "metadata": {},
     "output_type": "display_data"
    },
    {
     "data": {
      "text/html": [
       "<a href=\"Results/Casio-MT-600-Brass-Ens-C3 - resynth.wav\" target=\"_blank\">Casio-MT-600-Brass-Ens-C3: loss=47.38%</a>"
      ],
      "text/plain": [
       "<IPython.core.display.HTML object>"
      ]
     },
     "metadata": {},
     "output_type": "display_data"
    },
    {
     "data": {
      "text/html": [
       "<a href=\"Results/Cherry Eh 3 C3 - resynth.wav\" target=\"_blank\">Cherry Eh 3 C3: loss=47.58%</a>"
      ],
      "text/plain": [
       "<IPython.core.display.HTML object>"
      ]
     },
     "metadata": {},
     "output_type": "display_data"
    },
    {
     "data": {
      "text/html": [
       "<a href=\"Results/Analog Nasal Boost C4 - resynth.wav\" target=\"_blank\">Analog Nasal Boost C4: loss=47.80%</a>"
      ],
      "text/plain": [
       "<IPython.core.display.HTML object>"
      ]
     },
     "metadata": {},
     "output_type": "display_data"
    },
    {
     "data": {
      "text/html": [
       "<a href=\"Results/Kalimba C3 - resynth.wav\" target=\"_blank\">Kalimba C3: loss=47.80%</a>"
      ],
      "text/plain": [
       "<IPython.core.display.HTML object>"
      ]
     },
     "metadata": {},
     "output_type": "display_data"
    },
    {
     "data": {
      "text/html": [
       "<a href=\"Results/Tuning Fork Piano ff C3 - resynth.wav\" target=\"_blank\">Tuning Fork Piano ff C3: loss=47.92%</a>"
      ],
      "text/plain": [
       "<IPython.core.display.HTML object>"
      ]
     },
     "metadata": {},
     "output_type": "display_data"
    },
    {
     "data": {
      "text/html": [
       "<a href=\"Results/Glissing Resonance 02 C3 - resynth.wav\" target=\"_blank\">Glissing Resonance 02 C3: loss=47.96%</a>"
      ],
      "text/plain": [
       "<IPython.core.display.HTML object>"
      ]
     },
     "metadata": {},
     "output_type": "display_data"
    },
    {
     "data": {
      "text/html": [
       "<a href=\"Results/Alesis-Fusion-Nylon-String-Guitar-C4 - resynth.wav\" target=\"_blank\">Alesis-Fusion-Nylon-String-Guitar-C4: loss=48.07%</a>"
      ],
      "text/plain": [
       "<IPython.core.display.HTML object>"
      ]
     },
     "metadata": {},
     "output_type": "display_data"
    },
    {
     "data": {
      "text/html": [
       "<a href=\"Results/Roland-SC-88-Banjo-C4 - resynth.wav\" target=\"_blank\">Roland-SC-88-Banjo-C4: loss=48.34%</a>"
      ],
      "text/plain": [
       "<IPython.core.display.HTML object>"
      ]
     },
     "metadata": {},
     "output_type": "display_data"
    },
    {
     "data": {
      "text/html": [
       "<a href=\"Results/Classic Wavetables C3 - resynth.wav\" target=\"_blank\">Classic Wavetables C3: loss=48.36%</a>"
      ],
      "text/plain": [
       "<IPython.core.display.HTML object>"
      ]
     },
     "metadata": {},
     "output_type": "display_data"
    },
    {
     "data": {
      "text/html": [
       "<a href=\"Results/Solo Arty Oo C3 - resynth.wav\" target=\"_blank\">Solo Arty Oo C3: loss=48.39%</a>"
      ],
      "text/plain": [
       "<IPython.core.display.HTML object>"
      ]
     },
     "metadata": {},
     "output_type": "display_data"
    },
    {
     "data": {
      "text/html": [
       "<a href=\"Results/Anastacia Oo 1 C3 - resynth.wav\" target=\"_blank\">Anastacia Oo 1 C3: loss=48.46%</a>"
      ],
      "text/plain": [
       "<IPython.core.display.HTML object>"
      ]
     },
     "metadata": {},
     "output_type": "display_data"
    },
    {
     "data": {
      "text/html": [
       "<a href=\"Results/Synth Vocal 1 C3 - resynth.wav\" target=\"_blank\">Synth Vocal 1 C3: loss=48.55%</a>"
      ],
      "text/plain": [
       "<IPython.core.display.HTML object>"
      ]
     },
     "metadata": {},
     "output_type": "display_data"
    },
    {
     "data": {
      "text/html": [
       "<a href=\"Results/Yamaha-PSS-170-Banjo-C3 - resynth.wav\" target=\"_blank\">Yamaha-PSS-170-Banjo-C3: loss=48.61%</a>"
      ],
      "text/plain": [
       "<IPython.core.display.HTML object>"
      ]
     },
     "metadata": {},
     "output_type": "display_data"
    },
    {
     "data": {
      "text/html": [
       "<a href=\"Results/Analog 101 C3 - resynth.wav\" target=\"_blank\">Analog 101 C3: loss=48.69%</a>"
      ],
      "text/plain": [
       "<IPython.core.display.HTML object>"
      ]
     },
     "metadata": {},
     "output_type": "display_data"
    },
    {
     "data": {
      "text/html": [
       "<a href=\"Results/Seismic Shift C3 - resynth.wav\" target=\"_blank\">Seismic Shift C3: loss=48.69%</a>"
      ],
      "text/plain": [
       "<IPython.core.display.HTML object>"
      ]
     },
     "metadata": {},
     "output_type": "display_data"
    },
    {
     "data": {
      "text/html": [
       "<a href=\"Results/Sine Space C4 - resynth.wav\" target=\"_blank\">Sine Space C4: loss=49.14%</a>"
      ],
      "text/plain": [
       "<IPython.core.display.HTML object>"
      ]
     },
     "metadata": {},
     "output_type": "display_data"
    },
    {
     "data": {
      "text/html": [
       "<a href=\"Results/House Piano C4 - resynth.wav\" target=\"_blank\">House Piano C4: loss=49.17%</a>"
      ],
      "text/plain": [
       "<IPython.core.display.HTML object>"
      ]
     },
     "metadata": {},
     "output_type": "display_data"
    },
    {
     "data": {
      "text/html": [
       "<a href=\"Results/Amber Cheese Horror C3 - resynth.wav\" target=\"_blank\">Amber Cheese Horror C3: loss=49.32%</a>"
      ],
      "text/plain": [
       "<IPython.core.display.HTML object>"
      ]
     },
     "metadata": {},
     "output_type": "display_data"
    },
    {
     "data": {
      "text/html": [
       "<a href=\"Results/Vintage Synth Monster C3 - resynth.wav\" target=\"_blank\">Vintage Synth Monster C3: loss=49.47%</a>"
      ],
      "text/plain": [
       "<IPython.core.display.HTML object>"
      ]
     },
     "metadata": {},
     "output_type": "display_data"
    },
    {
     "data": {
      "text/html": [
       "<a href=\"Results/Alesis-Sanctuary-QCard-GlassOrgan-C3 - resynth.wav\" target=\"_blank\">Alesis-Sanctuary-QCard-GlassOrgan-C3: loss=49.49%</a>"
      ],
      "text/plain": [
       "<IPython.core.display.HTML object>"
      ]
     },
     "metadata": {},
     "output_type": "display_data"
    },
    {
     "data": {
      "text/html": [
       "<a href=\"Results/West Coast Synth Modulator C3 - resynth.wav\" target=\"_blank\">West Coast Synth Modulator C3: loss=49.76%</a>"
      ],
      "text/plain": [
       "<IPython.core.display.HTML object>"
      ]
     },
     "metadata": {},
     "output_type": "display_data"
    },
    {
     "data": {
      "text/html": [
       "<a href=\"Results/Digi Choir C3 - resynth.wav\" target=\"_blank\">Digi Choir C3: loss=50.04%</a>"
      ],
      "text/plain": [
       "<IPython.core.display.HTML object>"
      ]
     },
     "metadata": {},
     "output_type": "display_data"
    },
    {
     "data": {
      "text/html": [
       "<a href=\"Results/Piano St C3 - resynth.wav\" target=\"_blank\">Piano St C3: loss=50.10%</a>"
      ],
      "text/plain": [
       "<IPython.core.display.HTML object>"
      ]
     },
     "metadata": {},
     "output_type": "display_data"
    },
    {
     "data": {
      "text/html": [
       "<a href=\"Results/Bandura Tremolo B C4 - resynth.wav\" target=\"_blank\">Bandura Tremolo B C4: loss=50.16%</a>"
      ],
      "text/plain": [
       "<IPython.core.display.HTML object>"
      ]
     },
     "metadata": {},
     "output_type": "display_data"
    },
    {
     "data": {
      "text/html": [
       "<a href=\"Results/Electric Fat Gliss 2 C3 - resynth.wav\" target=\"_blank\">Electric Fat Gliss 2 C3: loss=50.20%</a>"
      ],
      "text/plain": [
       "<IPython.core.display.HTML object>"
      ]
     },
     "metadata": {},
     "output_type": "display_data"
    },
    {
     "data": {
      "text/html": [
       "<a href=\"Results/Amanda Aa Ee Ay Oh C3 - resynth.wav\" target=\"_blank\">Amanda Aa Ee Ay Oh C3: loss=50.28%</a>"
      ],
      "text/plain": [
       "<IPython.core.display.HTML object>"
      ]
     },
     "metadata": {},
     "output_type": "display_data"
    },
    {
     "data": {
      "text/html": [
       "<a href=\"Results/FM Bass Blow It C3 - resynth.wav\" target=\"_blank\">FM Bass Blow It C3: loss=50.31%</a>"
      ],
      "text/plain": [
       "<IPython.core.display.HTML object>"
      ]
     },
     "metadata": {},
     "output_type": "display_data"
    },
    {
     "data": {
      "text/html": [
       "<a href=\"Results/Dirty Sine C3 - resynth.wav\" target=\"_blank\">Dirty Sine C3: loss=50.40%</a>"
      ],
      "text/plain": [
       "<IPython.core.display.HTML object>"
      ]
     },
     "metadata": {},
     "output_type": "display_data"
    },
    {
     "data": {
      "text/html": [
       "<a href=\"Results/Dulcimar 2 C3 - resynth.wav\" target=\"_blank\">Dulcimar 2 C3: loss=50.54%</a>"
      ],
      "text/plain": [
       "<IPython.core.display.HTML object>"
      ]
     },
     "metadata": {},
     "output_type": "display_data"
    },
    {
     "data": {
      "text/html": [
       "<a href=\"Results/EH Ee Ah Oh Oo 1 C3 - resynth.wav\" target=\"_blank\">EH Ee Ah Oh Oo 1 C3: loss=50.61%</a>"
      ],
      "text/plain": [
       "<IPython.core.display.HTML object>"
      ]
     },
     "metadata": {},
     "output_type": "display_data"
    },
    {
     "data": {
      "text/html": [
       "<a href=\"Results/Analog Modular Bass C3 - resynth.wav\" target=\"_blank\">Analog Modular Bass C3: loss=50.73%</a>"
      ],
      "text/plain": [
       "<IPython.core.display.HTML object>"
      ]
     },
     "metadata": {},
     "output_type": "display_data"
    },
    {
     "data": {
      "text/html": [
       "<a href=\"Results/Alesis-Fusion-Bright-Acoustic-Piano-C4 - resynth.wav\" target=\"_blank\">Alesis-Fusion-Bright-Acoustic-Piano-C4: loss=51.13%</a>"
      ],
      "text/plain": [
       "<IPython.core.display.HTML object>"
      ]
     },
     "metadata": {},
     "output_type": "display_data"
    },
    {
     "data": {
      "text/html": [
       "<a href=\"Results/Amanda Oo 2 C3 - resynth.wav\" target=\"_blank\">Amanda Oo 2 C3: loss=51.17%</a>"
      ],
      "text/plain": [
       "<IPython.core.display.HTML object>"
      ]
     },
     "metadata": {},
     "output_type": "display_data"
    },
    {
     "data": {
      "text/html": [
       "<a href=\"Results/Frontiers Pad C4 - resynth.wav\" target=\"_blank\">Frontiers Pad C4: loss=51.20%</a>"
      ],
      "text/plain": [
       "<IPython.core.display.HTML object>"
      ]
     },
     "metadata": {},
     "output_type": "display_data"
    },
    {
     "data": {
      "text/html": [
       "<a href=\"Results/Bandura Muted A C3 - resynth.wav\" target=\"_blank\">Bandura Muted A C3: loss=51.37%</a>"
      ],
      "text/plain": [
       "<IPython.core.display.HTML object>"
      ]
     },
     "metadata": {},
     "output_type": "display_data"
    },
    {
     "data": {
      "text/html": [
       "<a href=\"Results/Resonant Sequence C4 - resynth.wav\" target=\"_blank\">Resonant Sequence C4: loss=51.41%</a>"
      ],
      "text/plain": [
       "<IPython.core.display.HTML object>"
      ]
     },
     "metadata": {},
     "output_type": "display_data"
    },
    {
     "data": {
      "text/html": [
       "<a href=\"Results/Choir - Aah C4 - resynth.wav\" target=\"_blank\">Choir - Aah C4: loss=51.47%</a>"
      ],
      "text/plain": [
       "<IPython.core.display.HTML object>"
      ]
     },
     "metadata": {},
     "output_type": "display_data"
    },
    {
     "data": {
      "text/html": [
       "<a href=\"Results/Bandura Muted B C3 - resynth.wav\" target=\"_blank\">Bandura Muted B C3: loss=51.54%</a>"
      ],
      "text/plain": [
       "<IPython.core.display.HTML object>"
      ]
     },
     "metadata": {},
     "output_type": "display_data"
    },
    {
     "data": {
      "text/html": [
       "<a href=\"Results/Analog Poly C3 - resynth.wav\" target=\"_blank\">Analog Poly C3: loss=51.55%</a>"
      ],
      "text/plain": [
       "<IPython.core.display.HTML object>"
      ]
     },
     "metadata": {},
     "output_type": "display_data"
    },
    {
     "data": {
      "text/html": [
       "<a href=\"Results/Alesis-S4-Plus-Brassy-5th-C4 - resynth.wav\" target=\"_blank\">Alesis-S4-Plus-Brassy-5th-C4: loss=51.75%</a>"
      ],
      "text/plain": [
       "<IPython.core.display.HTML object>"
      ]
     },
     "metadata": {},
     "output_type": "display_data"
    },
    {
     "data": {
      "text/html": [
       "<a href=\"Results/Anastacia Oh 2 C3 - resynth.wav\" target=\"_blank\">Anastacia Oh 2 C3: loss=51.99%</a>"
      ],
      "text/plain": [
       "<IPython.core.display.HTML object>"
      ]
     },
     "metadata": {},
     "output_type": "display_data"
    },
    {
     "data": {
      "text/html": [
       "<a href=\"Results/Infinite Void C4 - resynth.wav\" target=\"_blank\">Infinite Void C4: loss=52.38%</a>"
      ],
      "text/plain": [
       "<IPython.core.display.HTML object>"
      ]
     },
     "metadata": {},
     "output_type": "display_data"
    },
    {
     "data": {
      "text/html": [
       "<a href=\"Results/App Dulcimer 1st String C3 - resynth.wav\" target=\"_blank\">App Dulcimer 1st String C3: loss=52.54%</a>"
      ],
      "text/plain": [
       "<IPython.core.display.HTML object>"
      ]
     },
     "metadata": {},
     "output_type": "display_data"
    },
    {
     "data": {
      "text/html": [
       "<a href=\"Results/80s Digital Synth Bars C4 - resynth.wav\" target=\"_blank\">80s Digital Synth Bars C4: loss=52.56%</a>"
      ],
      "text/plain": [
       "<IPython.core.display.HTML object>"
      ]
     },
     "metadata": {},
     "output_type": "display_data"
    },
    {
     "data": {
      "text/html": [
       "<a href=\"Results/Harpsichord 1 Mute C4 - resynth.wav\" target=\"_blank\">Harpsichord 1 Mute C4: loss=52.57%</a>"
      ],
      "text/plain": [
       "<IPython.core.display.HTML object>"
      ]
     },
     "metadata": {},
     "output_type": "display_data"
    },
    {
     "data": {
      "text/html": [
       "<a href=\"Results/Conduit Min C3 - resynth.wav\" target=\"_blank\">Conduit Min C3: loss=52.69%</a>"
      ],
      "text/plain": [
       "<IPython.core.display.HTML object>"
      ]
     },
     "metadata": {},
     "output_type": "display_data"
    },
    {
     "data": {
      "text/html": [
       "<a href=\"Results/Casio-MT-600-Light-Harp-C3 - resynth.wav\" target=\"_blank\">Casio-MT-600-Light-Harp-C3: loss=52.81%</a>"
      ],
      "text/plain": [
       "<IPython.core.display.HTML object>"
      ]
     },
     "metadata": {},
     "output_type": "display_data"
    },
    {
     "data": {
      "text/html": [
       "<a href=\"Results/Wanderer 01 C3 - resynth.wav\" target=\"_blank\">Wanderer 01 C3: loss=52.88%</a>"
      ],
      "text/plain": [
       "<IPython.core.display.HTML object>"
      ]
     },
     "metadata": {},
     "output_type": "display_data"
    },
    {
     "data": {
      "text/html": [
       "<a href=\"Results/Synth Strings I C3 - resynth.wav\" target=\"_blank\">Synth Strings I C3: loss=52.88%</a>"
      ],
      "text/plain": [
       "<IPython.core.display.HTML object>"
      ]
     },
     "metadata": {},
     "output_type": "display_data"
    },
    {
     "data": {
      "text/html": [
       "<a href=\"Results/Ensoniq-ESQ-1-Clav-Piano-C3 - resynth.wav\" target=\"_blank\">Ensoniq-ESQ-1-Clav-Piano-C3: loss=52.97%</a>"
      ],
      "text/plain": [
       "<IPython.core.display.HTML object>"
      ]
     },
     "metadata": {},
     "output_type": "display_data"
    },
    {
     "data": {
      "text/html": [
       "<a href=\"Results/Formant Ah C4 - resynth.wav\" target=\"_blank\">Formant Ah C4: loss=53.25%</a>"
      ],
      "text/plain": [
       "<IPython.core.display.HTML object>"
      ]
     },
     "metadata": {},
     "output_type": "display_data"
    },
    {
     "data": {
      "text/html": [
       "<a href=\"Results/Anastacia Eh 3 C4 - resynth.wav\" target=\"_blank\">Anastacia Eh 3 C4: loss=53.53%</a>"
      ],
      "text/plain": [
       "<IPython.core.display.HTML object>"
      ]
     },
     "metadata": {},
     "output_type": "display_data"
    },
    {
     "data": {
      "text/html": [
       "<a href=\"Results/Anastacia Mm 2 C4 - resynth.wav\" target=\"_blank\">Anastacia Mm 2 C4: loss=53.54%</a>"
      ],
      "text/plain": [
       "<IPython.core.display.HTML object>"
      ]
     },
     "metadata": {},
     "output_type": "display_data"
    },
    {
     "data": {
      "text/html": [
       "<a href=\"Results/EBass N C4 - resynth.wav\" target=\"_blank\">EBass N C4: loss=53.68%</a>"
      ],
      "text/plain": [
       "<IPython.core.display.HTML object>"
      ]
     },
     "metadata": {},
     "output_type": "display_data"
    },
    {
     "data": {
      "text/html": [
       "<a href=\"Results/Alesis-S4-Plus-Dyna-Roadz-C3 - resynth.wav\" target=\"_blank\">Alesis-S4-Plus-Dyna-Roadz-C3: loss=53.70%</a>"
      ],
      "text/plain": [
       "<IPython.core.display.HTML object>"
      ]
     },
     "metadata": {},
     "output_type": "display_data"
    },
    {
     "data": {
      "text/html": [
       "<a href=\"Results/Icicles At Dawn C4 - resynth.wav\" target=\"_blank\">Icicles At Dawn C4: loss=53.72%</a>"
      ],
      "text/plain": [
       "<IPython.core.display.HTML object>"
      ]
     },
     "metadata": {},
     "output_type": "display_data"
    },
    {
     "data": {
      "text/html": [
       "<a href=\"Results/Oceaxe Pad C3 - resynth.wav\" target=\"_blank\">Oceaxe Pad C3: loss=53.81%</a>"
      ],
      "text/plain": [
       "<IPython.core.display.HTML object>"
      ]
     },
     "metadata": {},
     "output_type": "display_data"
    },
    {
     "data": {
      "text/html": [
       "<a href=\"Results/Choir Mmm C4 - resynth.wav\" target=\"_blank\">Choir Mmm C4: loss=53.90%</a>"
      ],
      "text/plain": [
       "<IPython.core.display.HTML object>"
      ]
     },
     "metadata": {},
     "output_type": "display_data"
    },
    {
     "data": {
      "text/html": [
       "<a href=\"Results/Amanda Ve Va Vo Va C3 - resynth.wav\" target=\"_blank\">Amanda Ve Va Vo Va C3: loss=54.24%</a>"
      ],
      "text/plain": [
       "<IPython.core.display.HTML object>"
      ]
     },
     "metadata": {},
     "output_type": "display_data"
    },
    {
     "data": {
      "text/html": [
       "<a href=\"Results/Anastacia Stacc Ta 3 C3 - resynth.wav\" target=\"_blank\">Anastacia Stacc Ta 3 C3: loss=54.40%</a>"
      ],
      "text/plain": [
       "<IPython.core.display.HTML object>"
      ]
     },
     "metadata": {},
     "output_type": "display_data"
    },
    {
     "data": {
      "text/html": [
       "<a href=\"Results/Cherry Ee 3 C3 - resynth.wav\" target=\"_blank\">Cherry Ee 3 C3: loss=54.53%</a>"
      ],
      "text/plain": [
       "<IPython.core.display.HTML object>"
      ]
     },
     "metadata": {},
     "output_type": "display_data"
    },
    {
     "data": {
      "text/html": [
       "<a href=\"Results/Kawai-PHm-Grand-Str-C4 - resynth.wav\" target=\"_blank\">Kawai-PHm-Grand-Str-C4: loss=54.68%</a>"
      ],
      "text/plain": [
       "<IPython.core.display.HTML object>"
      ]
     },
     "metadata": {},
     "output_type": "display_data"
    },
    {
     "data": {
      "text/html": [
       "<a href=\"Results/Amanda Oo 1 C3 - resynth.wav\" target=\"_blank\">Amanda Oo 1 C3: loss=54.71%</a>"
      ],
      "text/plain": [
       "<IPython.core.display.HTML object>"
      ]
     },
     "metadata": {},
     "output_type": "display_data"
    },
    {
     "data": {
      "text/html": [
       "<a href=\"Results/Acoustic Guitar 2 Pchord 1 C4 - resynth.wav\" target=\"_blank\">Acoustic Guitar 2 Pchord 1 C4: loss=54.85%</a>"
      ],
      "text/plain": [
       "<IPython.core.display.HTML object>"
      ]
     },
     "metadata": {},
     "output_type": "display_data"
    },
    {
     "data": {
      "text/html": [
       "<a href=\"Results/Modern Analog 13 C3 - resynth.wav\" target=\"_blank\">Modern Analog 13 C3: loss=55.09%</a>"
      ],
      "text/plain": [
       "<IPython.core.display.HTML object>"
      ]
     },
     "metadata": {},
     "output_type": "display_data"
    },
    {
     "data": {
      "text/html": [
       "<a href=\"Results/Vocalize 0004 C3 - resynth.wav\" target=\"_blank\">Vocalize 0004 C3: loss=55.11%</a>"
      ],
      "text/plain": [
       "<IPython.core.display.HTML object>"
      ]
     },
     "metadata": {},
     "output_type": "display_data"
    },
    {
     "data": {
      "text/html": [
       "<a href=\"Results/Analog Nasal Boost C3 - resynth.wav\" target=\"_blank\">Analog Nasal Boost C3: loss=55.26%</a>"
      ],
      "text/plain": [
       "<IPython.core.display.HTML object>"
      ]
     },
     "metadata": {},
     "output_type": "display_data"
    },
    {
     "data": {
      "text/html": [
       "<a href=\"Results/Acoustic Guitar 2 Plect 2 C4 - resynth.wav\" target=\"_blank\">Acoustic Guitar 2 Plect 2 C4: loss=55.31%</a>"
      ],
      "text/plain": [
       "<IPython.core.display.HTML object>"
      ]
     },
     "metadata": {},
     "output_type": "display_data"
    },
    {
     "data": {
      "text/html": [
       "<a href=\"Results/Casio-MT-600-Synth-Strings-C4 - resynth.wav\" target=\"_blank\">Casio-MT-600-Synth-Strings-C4: loss=55.32%</a>"
      ],
      "text/plain": [
       "<IPython.core.display.HTML object>"
      ]
     },
     "metadata": {},
     "output_type": "display_data"
    },
    {
     "data": {
      "text/html": [
       "<a href=\"Results/Anastacia Mm 2 C3 - resynth.wav\" target=\"_blank\">Anastacia Mm 2 C3: loss=55.66%</a>"
      ],
      "text/plain": [
       "<IPython.core.display.HTML object>"
      ]
     },
     "metadata": {},
     "output_type": "display_data"
    },
    {
     "data": {
      "text/html": [
       "<a href=\"Results/String Machine C3 - resynth.wav\" target=\"_blank\">String Machine C3: loss=56.10%</a>"
      ],
      "text/plain": [
       "<IPython.core.display.HTML object>"
      ]
     },
     "metadata": {},
     "output_type": "display_data"
    },
    {
     "data": {
      "text/html": [
       "<a href=\"Results/Dirty Acid C4 - resynth.wav\" target=\"_blank\">Dirty Acid C4: loss=56.26%</a>"
      ],
      "text/plain": [
       "<IPython.core.display.HTML object>"
      ]
     },
     "metadata": {},
     "output_type": "display_data"
    },
    {
     "data": {
      "text/html": [
       "<a href=\"Results/Key Guitar C4 - resynth.wav\" target=\"_blank\">Key Guitar C4: loss=56.35%</a>"
      ],
      "text/plain": [
       "<IPython.core.display.HTML object>"
      ]
     },
     "metadata": {},
     "output_type": "display_data"
    },
    {
     "data": {
      "text/html": [
       "<a href=\"Results/Dual Triangles C4 - resynth.wav\" target=\"_blank\">Dual Triangles C4: loss=56.77%</a>"
      ],
      "text/plain": [
       "<IPython.core.display.HTML object>"
      ]
     },
     "metadata": {},
     "output_type": "display_data"
    },
    {
     "data": {
      "text/html": [
       "<a href=\"Results/Digital Vox C3 - resynth.wav\" target=\"_blank\">Digital Vox C3: loss=56.82%</a>"
      ],
      "text/plain": [
       "<IPython.core.display.HTML object>"
      ]
     },
     "metadata": {},
     "output_type": "display_data"
    },
    {
     "data": {
      "text/html": [
       "<a href=\"Results/Pure Piano C3 - resynth.wav\" target=\"_blank\">Pure Piano C3: loss=56.85%</a>"
      ],
      "text/plain": [
       "<IPython.core.display.HTML object>"
      ]
     },
     "metadata": {},
     "output_type": "display_data"
    },
    {
     "data": {
      "text/html": [
       "<a href=\"Results/Amanda Aa 1 C3 - resynth.wav\" target=\"_blank\">Amanda Aa 1 C3: loss=56.93%</a>"
      ],
      "text/plain": [
       "<IPython.core.display.HTML object>"
      ]
     },
     "metadata": {},
     "output_type": "display_data"
    },
    {
     "data": {
      "text/html": [
       "<a href=\"Results/Solo Arty Eh C3 - resynth.wav\" target=\"_blank\">Solo Arty Eh C3: loss=57.10%</a>"
      ],
      "text/plain": [
       "<IPython.core.display.HTML object>"
      ]
     },
     "metadata": {},
     "output_type": "display_data"
    },
    {
     "data": {
      "text/html": [
       "<a href=\"Results/Moog Bass C3 - resynth.wav\" target=\"_blank\">Moog Bass C3: loss=57.59%</a>"
      ],
      "text/plain": [
       "<IPython.core.display.HTML object>"
      ]
     },
     "metadata": {},
     "output_type": "display_data"
    },
    {
     "data": {
      "text/html": [
       "<a href=\"Results/Anastacia Eh 2 C3 - resynth.wav\" target=\"_blank\">Anastacia Eh 2 C3: loss=57.64%</a>"
      ],
      "text/plain": [
       "<IPython.core.display.HTML object>"
      ]
     },
     "metadata": {},
     "output_type": "display_data"
    },
    {
     "data": {
      "text/html": [
       "<a href=\"Results/Guitar Folk Clean C3 - resynth.wav\" target=\"_blank\">Guitar Folk Clean C3: loss=57.72%</a>"
      ],
      "text/plain": [
       "<IPython.core.display.HTML object>"
      ]
     },
     "metadata": {},
     "output_type": "display_data"
    },
    {
     "data": {
      "text/html": [
       "<a href=\"Results/Former Bell Guita C3 - resynth.wav\" target=\"_blank\">Former Bell Guita C3: loss=57.87%</a>"
      ],
      "text/plain": [
       "<IPython.core.display.HTML object>"
      ]
     },
     "metadata": {},
     "output_type": "display_data"
    },
    {
     "data": {
      "text/html": [
       "<a href=\"Results/E-Mu-Proteus-2-Glockenspiel-C4 - resynth.wav\" target=\"_blank\">E-Mu-Proteus-2-Glockenspiel-C4: loss=58.00%</a>"
      ],
      "text/plain": [
       "<IPython.core.display.HTML object>"
      ]
     },
     "metadata": {},
     "output_type": "display_data"
    },
    {
     "data": {
      "text/html": [
       "<a href=\"Results/Modern Guitar C4 - resynth.wav\" target=\"_blank\">Modern Guitar C4: loss=58.04%</a>"
      ],
      "text/plain": [
       "<IPython.core.display.HTML object>"
      ]
     },
     "metadata": {},
     "output_type": "display_data"
    },
    {
     "data": {
      "text/html": [
       "<a href=\"Results/1974 Dark Bass C3 - resynth.wav\" target=\"_blank\">1974 Dark Bass C3: loss=58.15%</a>"
      ],
      "text/plain": [
       "<IPython.core.display.HTML object>"
      ]
     },
     "metadata": {},
     "output_type": "display_data"
    },
    {
     "data": {
      "text/html": [
       "<a href=\"Results/Sunspots C3 - resynth.wav\" target=\"_blank\">Sunspots C3: loss=58.16%</a>"
      ],
      "text/plain": [
       "<IPython.core.display.HTML object>"
      ]
     },
     "metadata": {},
     "output_type": "display_data"
    },
    {
     "data": {
      "text/html": [
       "<a href=\"Results/Anastacia Mm 1 C3 - resynth.wav\" target=\"_blank\">Anastacia Mm 1 C3: loss=58.48%</a>"
      ],
      "text/plain": [
       "<IPython.core.display.HTML object>"
      ]
     },
     "metadata": {},
     "output_type": "display_data"
    },
    {
     "data": {
      "text/html": [
       "<a href=\"Results/Electric Fat Gliss 1 C3 - resynth.wav\" target=\"_blank\">Electric Fat Gliss 1 C3: loss=58.49%</a>"
      ],
      "text/plain": [
       "<IPython.core.display.HTML object>"
      ]
     },
     "metadata": {},
     "output_type": "display_data"
    },
    {
     "data": {
      "text/html": [
       "<a href=\"Results/Anastacia Eh 2 C4 - resynth.wav\" target=\"_blank\">Anastacia Eh 2 C4: loss=58.71%</a>"
      ],
      "text/plain": [
       "<IPython.core.display.HTML object>"
      ]
     },
     "metadata": {},
     "output_type": "display_data"
    },
    {
     "data": {
      "text/html": [
       "<a href=\"Results/Harpsichord C3 - resynth.wav\" target=\"_blank\">Harpsichord C3: loss=58.84%</a>"
      ],
      "text/plain": [
       "<IPython.core.display.HTML object>"
      ]
     },
     "metadata": {},
     "output_type": "display_data"
    },
    {
     "data": {
      "text/html": [
       "<a href=\"Results/Amanda Stacc Pa 1 C3 - resynth.wav\" target=\"_blank\">Amanda Stacc Pa 1 C3: loss=58.96%</a>"
      ],
      "text/plain": [
       "<IPython.core.display.HTML object>"
      ]
     },
     "metadata": {},
     "output_type": "display_data"
    },
    {
     "data": {
      "text/html": [
       "<a href=\"Results/Trad Slap Bass C4 - resynth.wav\" target=\"_blank\">Trad Slap Bass C4: loss=58.96%</a>"
      ],
      "text/plain": [
       "<IPython.core.display.HTML object>"
      ]
     },
     "metadata": {},
     "output_type": "display_data"
    },
    {
     "data": {
      "text/html": [
       "<a href=\"Results/Kawai-K3-Brass-C3 - resynth.wav\" target=\"_blank\">Kawai-K3-Brass-C3: loss=59.12%</a>"
      ],
      "text/plain": [
       "<IPython.core.display.HTML object>"
      ]
     },
     "metadata": {},
     "output_type": "display_data"
    },
    {
     "data": {
      "text/html": [
       "<a href=\"Results/Buzz Pad C3 - resynth.wav\" target=\"_blank\">Buzz Pad C3: loss=59.46%</a>"
      ],
      "text/plain": [
       "<IPython.core.display.HTML object>"
      ]
     },
     "metadata": {},
     "output_type": "display_data"
    },
    {
     "data": {
      "text/html": [
       "<a href=\"Results/Amanda Stacc La 2 C3 - resynth.wav\" target=\"_blank\">Amanda Stacc La 2 C3: loss=59.51%</a>"
      ],
      "text/plain": [
       "<IPython.core.display.HTML object>"
      ]
     },
     "metadata": {},
     "output_type": "display_data"
    },
    {
     "data": {
      "text/html": [
       "<a href=\"Results/EPiano FM Synth C3 - resynth.wav\" target=\"_blank\">EPiano FM Synth C3: loss=59.72%</a>"
      ],
      "text/plain": [
       "<IPython.core.display.HTML object>"
      ]
     },
     "metadata": {},
     "output_type": "display_data"
    },
    {
     "data": {
      "text/html": [
       "<a href=\"Results/EPiano FM Classic C4 - resynth.wav\" target=\"_blank\">EPiano FM Classic C4: loss=59.93%</a>"
      ],
      "text/plain": [
       "<IPython.core.display.HTML object>"
      ]
     },
     "metadata": {},
     "output_type": "display_data"
    },
    {
     "data": {
      "text/html": [
       "<a href=\"Results/Cherry Ee 1 C3 - resynth.wav\" target=\"_blank\">Cherry Ee 1 C3: loss=60.07%</a>"
      ],
      "text/plain": [
       "<IPython.core.display.HTML object>"
      ]
     },
     "metadata": {},
     "output_type": "display_data"
    },
    {
     "data": {
      "text/html": [
       "<a href=\"Results/Autoharp Binaural C3 - resynth.wav\" target=\"_blank\">Autoharp Binaural C3: loss=60.43%</a>"
      ],
      "text/plain": [
       "<IPython.core.display.HTML object>"
      ]
     },
     "metadata": {},
     "output_type": "display_data"
    },
    {
     "data": {
      "text/html": [
       "<a href=\"Results/Cherry Eh 1 C3 - resynth.wav\" target=\"_blank\">Cherry Eh 1 C3: loss=60.73%</a>"
      ],
      "text/plain": [
       "<IPython.core.display.HTML object>"
      ]
     },
     "metadata": {},
     "output_type": "display_data"
    },
    {
     "data": {
      "text/html": [
       "<a href=\"Results/The Dream C3 - resynth.wav\" target=\"_blank\">The Dream C3: loss=61.01%</a>"
      ],
      "text/plain": [
       "<IPython.core.display.HTML object>"
      ]
     },
     "metadata": {},
     "output_type": "display_data"
    },
    {
     "data": {
      "text/html": [
       "<a href=\"Results/Amanda Ee 2 C3 - resynth.wav\" target=\"_blank\">Amanda Ee 2 C3: loss=61.03%</a>"
      ],
      "text/plain": [
       "<IPython.core.display.HTML object>"
      ]
     },
     "metadata": {},
     "output_type": "display_data"
    },
    {
     "data": {
      "text/html": [
       "<a href=\"Results/Acoustic Guitar 2 Pchord 3 C4 - resynth.wav\" target=\"_blank\">Acoustic Guitar 2 Pchord 3 C4: loss=61.08%</a>"
      ],
      "text/plain": [
       "<IPython.core.display.HTML object>"
      ]
     },
     "metadata": {},
     "output_type": "display_data"
    },
    {
     "data": {
      "text/html": [
       "<a href=\"Results/Vintage Synth Violin C3 - resynth.wav\" target=\"_blank\">Vintage Synth Violin C3: loss=61.25%</a>"
      ],
      "text/plain": [
       "<IPython.core.display.HTML object>"
      ]
     },
     "metadata": {},
     "output_type": "display_data"
    },
    {
     "data": {
      "text/html": [
       "<a href=\"Results/Ensoniq-SQ-1-Biwa-C4 - resynth.wav\" target=\"_blank\">Ensoniq-SQ-1-Biwa-C4: loss=61.28%</a>"
      ],
      "text/plain": [
       "<IPython.core.display.HTML object>"
      ]
     },
     "metadata": {},
     "output_type": "display_data"
    },
    {
     "data": {
      "text/html": [
       "<a href=\"Results/Cherry Ha Ee Oh Wa C3 - resynth.wav\" target=\"_blank\">Cherry Ha Ee Oh Wa C3: loss=61.31%</a>"
      ],
      "text/plain": [
       "<IPython.core.display.HTML object>"
      ]
     },
     "metadata": {},
     "output_type": "display_data"
    },
    {
     "data": {
      "text/html": [
       "<a href=\"Results/Cherry Mm 1 C3 - resynth.wav\" target=\"_blank\">Cherry Mm 1 C3: loss=61.40%</a>"
      ],
      "text/plain": [
       "<IPython.core.display.HTML object>"
      ]
     },
     "metadata": {},
     "output_type": "display_data"
    },
    {
     "data": {
      "text/html": [
       "<a href=\"Results/Alesis-Fusion-Steel-String-Guitar-C4 - resynth.wav\" target=\"_blank\">Alesis-Fusion-Steel-String-Guitar-C4: loss=61.65%</a>"
      ],
      "text/plain": [
       "<IPython.core.display.HTML object>"
      ]
     },
     "metadata": {},
     "output_type": "display_data"
    },
    {
     "data": {
      "text/html": [
       "<a href=\"Results/Bandura Moderate B C4 - resynth.wav\" target=\"_blank\">Bandura Moderate B C4: loss=62.24%</a>"
      ],
      "text/plain": [
       "<IPython.core.display.HTML object>"
      ]
     },
     "metadata": {},
     "output_type": "display_data"
    },
    {
     "data": {
      "text/html": [
       "<a href=\"Results/Alien Syndrome Maj C3 - resynth.wav\" target=\"_blank\">Alien Syndrome Maj C3: loss=62.33%</a>"
      ],
      "text/plain": [
       "<IPython.core.display.HTML object>"
      ]
     },
     "metadata": {},
     "output_type": "display_data"
    },
    {
     "data": {
      "text/html": [
       "<a href=\"Results/Mystical Low Flute C3 - resynth.wav\" target=\"_blank\">Mystical Low Flute C3: loss=62.69%</a>"
      ],
      "text/plain": [
       "<IPython.core.display.HTML object>"
      ]
     },
     "metadata": {},
     "output_type": "display_data"
    },
    {
     "data": {
      "text/html": [
       "<a href=\"Results/Anastacia Mm 3 C3 - resynth.wav\" target=\"_blank\">Anastacia Mm 3 C3: loss=62.72%</a>"
      ],
      "text/plain": [
       "<IPython.core.display.HTML object>"
      ]
     },
     "metadata": {},
     "output_type": "display_data"
    },
    {
     "data": {
      "text/html": [
       "<a href=\"Results/Ensoniq-ZR-76-AnaRezz-Stg-C4 - resynth.wav\" target=\"_blank\">Ensoniq-ZR-76-AnaRezz-Stg-C4: loss=63.22%</a>"
      ],
      "text/plain": [
       "<IPython.core.display.HTML object>"
      ]
     },
     "metadata": {},
     "output_type": "display_data"
    },
    {
     "data": {
      "text/html": [
       "<a href=\"Results/Wet Saw C4 - resynth.wav\" target=\"_blank\">Wet Saw C4: loss=63.33%</a>"
      ],
      "text/plain": [
       "<IPython.core.display.HTML object>"
      ]
     },
     "metadata": {},
     "output_type": "display_data"
    },
    {
     "data": {
      "text/html": [
       "<a href=\"Results/Ensoniq-SQ-1-ClassicGuitar-C3 - resynth.wav\" target=\"_blank\">Ensoniq-SQ-1-ClassicGuitar-C3: loss=63.48%</a>"
      ],
      "text/plain": [
       "<IPython.core.display.HTML object>"
      ]
     },
     "metadata": {},
     "output_type": "display_data"
    },
    {
     "data": {
      "text/html": [
       "<a href=\"Results/Electric Guitar - Clean C3 - resynth.wav\" target=\"_blank\">Electric Guitar - Clean C3: loss=63.50%</a>"
      ],
      "text/plain": [
       "<IPython.core.display.HTML object>"
      ]
     },
     "metadata": {},
     "output_type": "display_data"
    },
    {
     "data": {
      "text/html": [
       "<a href=\"Results/Mini 2 Saw Bass C4 - resynth.wav\" target=\"_blank\">Mini 2 Saw Bass C4: loss=63.57%</a>"
      ],
      "text/plain": [
       "<IPython.core.display.HTML object>"
      ]
     },
     "metadata": {},
     "output_type": "display_data"
    },
    {
     "data": {
      "text/html": [
       "<a href=\"Results/Anastacia Ee 3 C3 - resynth.wav\" target=\"_blank\">Anastacia Ee 3 C3: loss=63.58%</a>"
      ],
      "text/plain": [
       "<IPython.core.display.HTML object>"
      ]
     },
     "metadata": {},
     "output_type": "display_data"
    },
    {
     "data": {
      "text/html": [
       "<a href=\"Results/Narrow Pad Saw C3 - resynth.wav\" target=\"_blank\">Narrow Pad Saw C3: loss=63.60%</a>"
      ],
      "text/plain": [
       "<IPython.core.display.HTML object>"
      ]
     },
     "metadata": {},
     "output_type": "display_data"
    },
    {
     "data": {
      "text/html": [
       "<a href=\"Results/Amanda Stacc Da 1 C3 - resynth.wav\" target=\"_blank\">Amanda Stacc Da 1 C3: loss=63.63%</a>"
      ],
      "text/plain": [
       "<IPython.core.display.HTML object>"
      ]
     },
     "metadata": {},
     "output_type": "display_data"
    },
    {
     "data": {
      "text/html": [
       "<a href=\"Results/Dream Sweep C3 - resynth.wav\" target=\"_blank\">Dream Sweep C3: loss=63.82%</a>"
      ],
      "text/plain": [
       "<IPython.core.display.HTML object>"
      ]
     },
     "metadata": {},
     "output_type": "display_data"
    },
    {
     "data": {
      "text/html": [
       "<a href=\"Results/PM Bass 2 C4 - resynth.wav\" target=\"_blank\">PM Bass 2 C4: loss=63.95%</a>"
      ],
      "text/plain": [
       "<IPython.core.display.HTML object>"
      ]
     },
     "metadata": {},
     "output_type": "display_data"
    },
    {
     "data": {
      "text/html": [
       "<a href=\"Results/Celestial C3 - resynth.wav\" target=\"_blank\">Celestial C3: loss=64.03%</a>"
      ],
      "text/plain": [
       "<IPython.core.display.HTML object>"
      ]
     },
     "metadata": {},
     "output_type": "display_data"
    },
    {
     "data": {
      "text/html": [
       "<a href=\"Results/Sonar C3 - resynth.wav\" target=\"_blank\">Sonar C3: loss=64.18%</a>"
      ],
      "text/plain": [
       "<IPython.core.display.HTML object>"
      ]
     },
     "metadata": {},
     "output_type": "display_data"
    },
    {
     "data": {
      "text/html": [
       "<a href=\"Results/Conical C4 - resynth.wav\" target=\"_blank\">Conical C4: loss=64.18%</a>"
      ],
      "text/plain": [
       "<IPython.core.display.HTML object>"
      ]
     },
     "metadata": {},
     "output_type": "display_data"
    },
    {
     "data": {
      "text/html": [
       "<a href=\"Results/Anastacia Oo 2 C3 - resynth.wav\" target=\"_blank\">Anastacia Oo 2 C3: loss=64.25%</a>"
      ],
      "text/plain": [
       "<IPython.core.display.HTML object>"
      ]
     },
     "metadata": {},
     "output_type": "display_data"
    },
    {
     "data": {
      "text/html": [
       "<a href=\"Results/1974 Wet Funk Solo C3 - resynth.wav\" target=\"_blank\">1974 Wet Funk Solo C3: loss=64.26%</a>"
      ],
      "text/plain": [
       "<IPython.core.display.HTML object>"
      ]
     },
     "metadata": {},
     "output_type": "display_data"
    },
    {
     "data": {
      "text/html": [
       "<a href=\"Results/Amanda Stacc Ta 3 C3 - resynth.wav\" target=\"_blank\">Amanda Stacc Ta 3 C3: loss=64.34%</a>"
      ],
      "text/plain": [
       "<IPython.core.display.HTML object>"
      ]
     },
     "metadata": {},
     "output_type": "display_data"
    },
    {
     "data": {
      "text/html": [
       "<a href=\"Results/Amanda Ee 1 C3 - resynth.wav\" target=\"_blank\">Amanda Ee 1 C3: loss=64.40%</a>"
      ],
      "text/plain": [
       "<IPython.core.display.HTML object>"
      ]
     },
     "metadata": {},
     "output_type": "display_data"
    },
    {
     "data": {
      "text/html": [
       "<a href=\"Results/Acoustic Guitar 2 Pchord 1 C3 - resynth.wav\" target=\"_blank\">Acoustic Guitar 2 Pchord 1 C3: loss=64.54%</a>"
      ],
      "text/plain": [
       "<IPython.core.display.HTML object>"
      ]
     },
     "metadata": {},
     "output_type": "display_data"
    },
    {
     "data": {
      "text/html": [
       "<a href=\"Results/80s Analog Square C3 - resynth.wav\" target=\"_blank\">80s Analog Square C3: loss=64.77%</a>"
      ],
      "text/plain": [
       "<IPython.core.display.HTML object>"
      ]
     },
     "metadata": {},
     "output_type": "display_data"
    },
    {
     "data": {
      "text/html": [
       "<a href=\"Results/Vintage Synth Viola C4 - resynth.wav\" target=\"_blank\">Vintage Synth Viola C4: loss=65.13%</a>"
      ],
      "text/plain": [
       "<IPython.core.display.HTML object>"
      ]
     },
     "metadata": {},
     "output_type": "display_data"
    },
    {
     "data": {
      "text/html": [
       "<a href=\"Results/Electric Guitar Plect 2 C4 - resynth.wav\" target=\"_blank\">Electric Guitar Plect 2 C4: loss=65.22%</a>"
      ],
      "text/plain": [
       "<IPython.core.display.HTML object>"
      ]
     },
     "metadata": {},
     "output_type": "display_data"
    },
    {
     "data": {
      "text/html": [
       "<a href=\"Results/Cilia Sitar C3 - resynth.wav\" target=\"_blank\">Cilia Sitar C3: loss=65.32%</a>"
      ],
      "text/plain": [
       "<IPython.core.display.HTML object>"
      ]
     },
     "metadata": {},
     "output_type": "display_data"
    },
    {
     "data": {
      "text/html": [
       "<a href=\"Results/Choir - Ooh C4 - resynth.wav\" target=\"_blank\">Choir - Ooh C4: loss=65.48%</a>"
      ],
      "text/plain": [
       "<IPython.core.display.HTML object>"
      ]
     },
     "metadata": {},
     "output_type": "display_data"
    },
    {
     "data": {
      "text/html": [
       "<a href=\"Results/Blowholes From Mars C3 - resynth.wav\" target=\"_blank\">Blowholes From Mars C3: loss=65.58%</a>"
      ],
      "text/plain": [
       "<IPython.core.display.HTML object>"
      ]
     },
     "metadata": {},
     "output_type": "display_data"
    },
    {
     "data": {
      "text/html": [
       "<a href=\"Results/Detuned Trance C3 - resynth.wav\" target=\"_blank\">Detuned Trance C3: loss=65.58%</a>"
      ],
      "text/plain": [
       "<IPython.core.display.HTML object>"
      ]
     },
     "metadata": {},
     "output_type": "display_data"
    },
    {
     "data": {
      "text/html": [
       "<a href=\"Results/Vox Deow mf C3 - resynth.wav\" target=\"_blank\">Vox Deow mf C3: loss=65.67%</a>"
      ],
      "text/plain": [
       "<IPython.core.display.HTML object>"
      ]
     },
     "metadata": {},
     "output_type": "display_data"
    },
    {
     "data": {
      "text/html": [
       "<a href=\"Results/Ensoniq-ESQ-1-Marimba-C3 - resynth.wav\" target=\"_blank\">Ensoniq-ESQ-1-Marimba-C3: loss=65.79%</a>"
      ],
      "text/plain": [
       "<IPython.core.display.HTML object>"
      ]
     },
     "metadata": {},
     "output_type": "display_data"
    },
    {
     "data": {
      "text/html": [
       "<a href=\"Results/House Piano C3 - resynth.wav\" target=\"_blank\">House Piano C3: loss=65.87%</a>"
      ],
      "text/plain": [
       "<IPython.core.display.HTML object>"
      ]
     },
     "metadata": {},
     "output_type": "display_data"
    },
    {
     "data": {
      "text/html": [
       "<a href=\"Results/Amanda Stacc Da 2 C3 - resynth.wav\" target=\"_blank\">Amanda Stacc Da 2 C3: loss=65.88%</a>"
      ],
      "text/plain": [
       "<IPython.core.display.HTML object>"
      ]
     },
     "metadata": {},
     "output_type": "display_data"
    },
    {
     "data": {
      "text/html": [
       "<a href=\"Results/Trad Guitar C3 - resynth.wav\" target=\"_blank\">Trad Guitar C3: loss=65.99%</a>"
      ],
      "text/plain": [
       "<IPython.core.display.HTML object>"
      ]
     },
     "metadata": {},
     "output_type": "display_data"
    },
    {
     "data": {
      "text/html": [
       "<a href=\"Results/Anastacia Ee 1 C3 - resynth.wav\" target=\"_blank\">Anastacia Ee 1 C3: loss=66.00%</a>"
      ],
      "text/plain": [
       "<IPython.core.display.HTML object>"
      ]
     },
     "metadata": {},
     "output_type": "display_data"
    },
    {
     "data": {
      "text/html": [
       "<a href=\"Results/80s Analog Pew Bass C4 - resynth.wav\" target=\"_blank\">80s Analog Pew Bass C4: loss=66.12%</a>"
      ],
      "text/plain": [
       "<IPython.core.display.HTML object>"
      ]
     },
     "metadata": {},
     "output_type": "display_data"
    },
    {
     "data": {
      "text/html": [
       "<a href=\"Results/80s Digital Synth Alone C4 - resynth.wav\" target=\"_blank\">80s Digital Synth Alone C4: loss=66.13%</a>"
      ],
      "text/plain": [
       "<IPython.core.display.HTML object>"
      ]
     },
     "metadata": {},
     "output_type": "display_data"
    },
    {
     "data": {
      "text/html": [
       "<a href=\"Results/Cherry Mm 2 C3 - resynth.wav\" target=\"_blank\">Cherry Mm 2 C3: loss=66.26%</a>"
      ],
      "text/plain": [
       "<IPython.core.display.HTML object>"
      ]
     },
     "metadata": {},
     "output_type": "display_data"
    },
    {
     "data": {
      "text/html": [
       "<a href=\"Results/Polyphonic Ensemble C3 - resynth.wav\" target=\"_blank\">Polyphonic Ensemble C3: loss=66.70%</a>"
      ],
      "text/plain": [
       "<IPython.core.display.HTML object>"
      ]
     },
     "metadata": {},
     "output_type": "display_data"
    },
    {
     "data": {
      "text/html": [
       "<a href=\"Results/Alesis-Sanctuary-QCard-Choir-Aah-C4 - resynth.wav\" target=\"_blank\">Alesis-Sanctuary-QCard-Choir-Aah-C4: loss=66.89%</a>"
      ],
      "text/plain": [
       "<IPython.core.display.HTML object>"
      ]
     },
     "metadata": {},
     "output_type": "display_data"
    },
    {
     "data": {
      "text/html": [
       "<a href=\"Results/1974 Wet Funk Solo C4 - resynth.wav\" target=\"_blank\">1974 Wet Funk Solo C4: loss=66.93%</a>"
      ],
      "text/plain": [
       "<IPython.core.display.HTML object>"
      ]
     },
     "metadata": {},
     "output_type": "display_data"
    },
    {
     "data": {
      "text/html": [
       "<a href=\"Results/Handmade Synth 2 C3 - resynth.wav\" target=\"_blank\">Handmade Synth 2 C3: loss=67.44%</a>"
      ],
      "text/plain": [
       "<IPython.core.display.HTML object>"
      ]
     },
     "metadata": {},
     "output_type": "display_data"
    },
    {
     "data": {
      "text/html": [
       "<a href=\"Results/Amanda Stacc Pa 2 C3 - resynth.wav\" target=\"_blank\">Amanda Stacc Pa 2 C3: loss=67.56%</a>"
      ],
      "text/plain": [
       "<IPython.core.display.HTML object>"
      ]
     },
     "metadata": {},
     "output_type": "display_data"
    },
    {
     "data": {
      "text/html": [
       "<a href=\"Results/String Machine C4 - resynth.wav\" target=\"_blank\">String Machine C4: loss=67.59%</a>"
      ],
      "text/plain": [
       "<IPython.core.display.HTML object>"
      ]
     },
     "metadata": {},
     "output_type": "display_data"
    },
    {
     "data": {
      "text/html": [
       "<a href=\"Results/Grungy Spike C3 - resynth.wav\" target=\"_blank\">Grungy Spike C3: loss=67.78%</a>"
      ],
      "text/plain": [
       "<IPython.core.display.HTML object>"
      ]
     },
     "metadata": {},
     "output_type": "display_data"
    },
    {
     "data": {
      "text/html": [
       "<a href=\"Results/Anastacia Aa 2 C3 - resynth.wav\" target=\"_blank\">Anastacia Aa 2 C3: loss=67.82%</a>"
      ],
      "text/plain": [
       "<IPython.core.display.HTML object>"
      ]
     },
     "metadata": {},
     "output_type": "display_data"
    },
    {
     "data": {
      "text/html": [
       "<a href=\"Results/Cherry Mm 3 C3 - resynth.wav\" target=\"_blank\">Cherry Mm 3 C3: loss=67.88%</a>"
      ],
      "text/plain": [
       "<IPython.core.display.HTML object>"
      ]
     },
     "metadata": {},
     "output_type": "display_data"
    },
    {
     "data": {
      "text/html": [
       "<a href=\"Results/Casio-MT-600-Strings-1-C4 - resynth.wav\" target=\"_blank\">Casio-MT-600-Strings-1-C4: loss=68.07%</a>"
      ],
      "text/plain": [
       "<IPython.core.display.HTML object>"
      ]
     },
     "metadata": {},
     "output_type": "display_data"
    },
    {
     "data": {
      "text/html": [
       "<a href=\"Results/80s Analog Brass Bazz C4 - resynth.wav\" target=\"_blank\">80s Analog Brass Bazz C4: loss=68.29%</a>"
      ],
      "text/plain": [
       "<IPython.core.display.HTML object>"
      ]
     },
     "metadata": {},
     "output_type": "display_data"
    },
    {
     "data": {
      "text/html": [
       "<a href=\"Results/Short Saw C4 - resynth.wav\" target=\"_blank\">Short Saw C4: loss=68.33%</a>"
      ],
      "text/plain": [
       "<IPython.core.display.HTML object>"
      ]
     },
     "metadata": {},
     "output_type": "display_data"
    },
    {
     "data": {
      "text/html": [
       "<a href=\"Results/Bandura Moderate A C4 - resynth.wav\" target=\"_blank\">Bandura Moderate A C4: loss=68.40%</a>"
      ],
      "text/plain": [
       "<IPython.core.display.HTML object>"
      ]
     },
     "metadata": {},
     "output_type": "display_data"
    },
    {
     "data": {
      "text/html": [
       "<a href=\"Results/Anastacia Ee 2 C4 - resynth.wav\" target=\"_blank\">Anastacia Ee 2 C4: loss=68.42%</a>"
      ],
      "text/plain": [
       "<IPython.core.display.HTML object>"
      ]
     },
     "metadata": {},
     "output_type": "display_data"
    },
    {
     "data": {
      "text/html": [
       "<a href=\"Results/80s Analog Pew Bass C3 - resynth.wav\" target=\"_blank\">80s Analog Pew Bass C3: loss=68.54%</a>"
      ],
      "text/plain": [
       "<IPython.core.display.HTML object>"
      ]
     },
     "metadata": {},
     "output_type": "display_data"
    },
    {
     "data": {
      "text/html": [
       "<a href=\"Results/Amanda Ee 3 C3 - resynth.wav\" target=\"_blank\">Amanda Ee 3 C3: loss=68.72%</a>"
      ],
      "text/plain": [
       "<IPython.core.display.HTML object>"
      ]
     },
     "metadata": {},
     "output_type": "display_data"
    },
    {
     "data": {
      "text/html": [
       "<a href=\"Results/Anastacia Ee 2 C3 - resynth.wav\" target=\"_blank\">Anastacia Ee 2 C3: loss=68.73%</a>"
      ],
      "text/plain": [
       "<IPython.core.display.HTML object>"
      ]
     },
     "metadata": {},
     "output_type": "display_data"
    },
    {
     "data": {
      "text/html": [
       "<a href=\"Results/Cherry Ba Da Eh Oh C3 - resynth.wav\" target=\"_blank\">Cherry Ba Da Eh Oh C3: loss=68.77%</a>"
      ],
      "text/plain": [
       "<IPython.core.display.HTML object>"
      ]
     },
     "metadata": {},
     "output_type": "display_data"
    },
    {
     "data": {
      "text/html": [
       "<a href=\"Results/Cherry Oo 3 C3 - resynth.wav\" target=\"_blank\">Cherry Oo 3 C3: loss=68.78%</a>"
      ],
      "text/plain": [
       "<IPython.core.display.HTML object>"
      ]
     },
     "metadata": {},
     "output_type": "display_data"
    },
    {
     "data": {
      "text/html": [
       "<a href=\"Results/Anastacia Ee 3 C4 - resynth.wav\" target=\"_blank\">Anastacia Ee 3 C4: loss=68.82%</a>"
      ],
      "text/plain": [
       "<IPython.core.display.HTML object>"
      ]
     },
     "metadata": {},
     "output_type": "display_data"
    },
    {
     "data": {
      "text/html": [
       "<a href=\"Results/Gliss Triangles C4 - resynth.wav\" target=\"_blank\">Gliss Triangles C4: loss=69.10%</a>"
      ],
      "text/plain": [
       "<IPython.core.display.HTML object>"
      ]
     },
     "metadata": {},
     "output_type": "display_data"
    },
    {
     "data": {
      "text/html": [
       "<a href=\"Results/Handmade Synth 2 C4 - resynth.wav\" target=\"_blank\">Handmade Synth 2 C4: loss=69.24%</a>"
      ],
      "text/plain": [
       "<IPython.core.display.HTML object>"
      ]
     },
     "metadata": {},
     "output_type": "display_data"
    },
    {
     "data": {
      "text/html": [
       "<a href=\"Results/Acc Guit C3 - resynth.wav\" target=\"_blank\">Acc Guit C3: loss=69.33%</a>"
      ],
      "text/plain": [
       "<IPython.core.display.HTML object>"
      ]
     },
     "metadata": {},
     "output_type": "display_data"
    },
    {
     "data": {
      "text/html": [
       "<a href=\"Results/Classical Guitar C4 - resynth.wav\" target=\"_blank\">Classical Guitar C4: loss=69.59%</a>"
      ],
      "text/plain": [
       "<IPython.core.display.HTML object>"
      ]
     },
     "metadata": {},
     "output_type": "display_data"
    },
    {
     "data": {
      "text/html": [
       "<a href=\"Results/String Bell C4 - resynth.wav\" target=\"_blank\">String Bell C4: loss=69.66%</a>"
      ],
      "text/plain": [
       "<IPython.core.display.HTML object>"
      ]
     },
     "metadata": {},
     "output_type": "display_data"
    },
    {
     "data": {
      "text/html": [
       "<a href=\"Results/Anastacia Ha Ee Oh Wa 2 C3 - resynth.wav\" target=\"_blank\">Anastacia Ha Ee Oh Wa 2 C3: loss=69.92%</a>"
      ],
      "text/plain": [
       "<IPython.core.display.HTML object>"
      ]
     },
     "metadata": {},
     "output_type": "display_data"
    },
    {
     "data": {
      "text/html": [
       "<a href=\"Results/Cherry Ee 2 C3 - resynth.wav\" target=\"_blank\">Cherry Ee 2 C3: loss=70.12%</a>"
      ],
      "text/plain": [
       "<IPython.core.display.HTML object>"
      ]
     },
     "metadata": {},
     "output_type": "display_data"
    },
    {
     "data": {
      "text/html": [
       "<a href=\"Results/Vintage Synth Trumpet C4 - resynth.wav\" target=\"_blank\">Vintage Synth Trumpet C4: loss=70.42%</a>"
      ],
      "text/plain": [
       "<IPython.core.display.HTML object>"
      ]
     },
     "metadata": {},
     "output_type": "display_data"
    },
    {
     "data": {
      "text/html": [
       "<a href=\"Results/Ethnic Wonder C4 - resynth.wav\" target=\"_blank\">Ethnic Wonder C4: loss=70.43%</a>"
      ],
      "text/plain": [
       "<IPython.core.display.HTML object>"
      ]
     },
     "metadata": {},
     "output_type": "display_data"
    },
    {
     "data": {
      "text/html": [
       "<a href=\"Results/Anastacia Ba Da Eh Oh 1 C3 - resynth.wav\" target=\"_blank\">Anastacia Ba Da Eh Oh 1 C3: loss=70.54%</a>"
      ],
      "text/plain": [
       "<IPython.core.display.HTML object>"
      ]
     },
     "metadata": {},
     "output_type": "display_data"
    },
    {
     "data": {
      "text/html": [
       "<a href=\"Results/Overtone Flute C4 - resynth.wav\" target=\"_blank\">Overtone Flute C4: loss=70.60%</a>"
      ],
      "text/plain": [
       "<IPython.core.display.HTML object>"
      ]
     },
     "metadata": {},
     "output_type": "display_data"
    },
    {
     "data": {
      "text/html": [
       "<a href=\"Results/Alesis-S4-Plus-TangoAccrd-C4 - resynth.wav\" target=\"_blank\">Alesis-S4-Plus-TangoAccrd-C4: loss=70.62%</a>"
      ],
      "text/plain": [
       "<IPython.core.display.HTML object>"
      ]
     },
     "metadata": {},
     "output_type": "display_data"
    },
    {
     "data": {
      "text/html": [
       "<a href=\"Results/Amanda Mm 3 C3 - resynth.wav\" target=\"_blank\">Amanda Mm 3 C3: loss=70.99%</a>"
      ],
      "text/plain": [
       "<IPython.core.display.HTML object>"
      ]
     },
     "metadata": {},
     "output_type": "display_data"
    },
    {
     "data": {
      "text/html": [
       "<a href=\"Results/FM Voice Air Chime C3 - resynth.wav\" target=\"_blank\">FM Voice Air Chime C3: loss=71.02%</a>"
      ],
      "text/plain": [
       "<IPython.core.display.HTML object>"
      ]
     },
     "metadata": {},
     "output_type": "display_data"
    },
    {
     "data": {
      "text/html": [
       "<a href=\"Results/Detuned Analog Saw C3 - resynth.wav\" target=\"_blank\">Detuned Analog Saw C3: loss=71.15%</a>"
      ],
      "text/plain": [
       "<IPython.core.display.HTML object>"
      ]
     },
     "metadata": {},
     "output_type": "display_data"
    },
    {
     "data": {
      "text/html": [
       "<a href=\"Results/Acoustic Guitar 2 Finger 2 C3 - resynth.wav\" target=\"_blank\">Acoustic Guitar 2 Finger 2 C3: loss=71.34%</a>"
      ],
      "text/plain": [
       "<IPython.core.display.HTML object>"
      ]
     },
     "metadata": {},
     "output_type": "display_data"
    },
    {
     "data": {
      "text/html": [
       "<a href=\"Results/Ensoniq-ZR-76-Octave-Bell-C4 - resynth.wav\" target=\"_blank\">Ensoniq-ZR-76-Octave-Bell-C4: loss=71.43%</a>"
      ],
      "text/plain": [
       "<IPython.core.display.HTML object>"
      ]
     },
     "metadata": {},
     "output_type": "display_data"
    },
    {
     "data": {
      "text/html": [
       "<a href=\"Results/Amanda Mm 2 C3 - resynth.wav\" target=\"_blank\">Amanda Mm 2 C3: loss=71.65%</a>"
      ],
      "text/plain": [
       "<IPython.core.display.HTML object>"
      ]
     },
     "metadata": {},
     "output_type": "display_data"
    },
    {
     "data": {
      "text/html": [
       "<a href=\"Results/Tech Saw 13 C3 - resynth.wav\" target=\"_blank\">Tech Saw 13 C3: loss=71.75%</a>"
      ],
      "text/plain": [
       "<IPython.core.display.HTML object>"
      ]
     },
     "metadata": {},
     "output_type": "display_data"
    },
    {
     "data": {
      "text/html": [
       "<a href=\"Results/EPiano FM Synth C4 - resynth.wav\" target=\"_blank\">EPiano FM Synth C4: loss=71.96%</a>"
      ],
      "text/plain": [
       "<IPython.core.display.HTML object>"
      ]
     },
     "metadata": {},
     "output_type": "display_data"
    },
    {
     "data": {
      "text/html": [
       "<a href=\"Results/Halting C3 128bpm 16bts - resynth.wav\" target=\"_blank\">Halting C3 128bpm 16bts: loss=72.24%</a>"
      ],
      "text/plain": [
       "<IPython.core.display.HTML object>"
      ]
     },
     "metadata": {},
     "output_type": "display_data"
    },
    {
     "data": {
      "text/html": [
       "<a href=\"Results/Forgotten Harp Gu C4 - resynth.wav\" target=\"_blank\">Forgotten Harp Gu C4: loss=72.29%</a>"
      ],
      "text/plain": [
       "<IPython.core.display.HTML object>"
      ]
     },
     "metadata": {},
     "output_type": "display_data"
    },
    {
     "data": {
      "text/html": [
       "<a href=\"Results/Steel Acoustic C4 - resynth.wav\" target=\"_blank\">Steel Acoustic C4: loss=72.35%</a>"
      ],
      "text/plain": [
       "<IPython.core.display.HTML object>"
      ]
     },
     "metadata": {},
     "output_type": "display_data"
    },
    {
     "data": {
      "text/html": [
       "<a href=\"Results/Amanda Stacc Ta 1 C3 - resynth.wav\" target=\"_blank\">Amanda Stacc Ta 1 C3: loss=72.39%</a>"
      ],
      "text/plain": [
       "<IPython.core.display.HTML object>"
      ]
     },
     "metadata": {},
     "output_type": "display_data"
    },
    {
     "data": {
      "text/html": [
       "<a href=\"Results/Bandura Moderate B C3 - resynth.wav\" target=\"_blank\">Bandura Moderate B C3: loss=72.40%</a>"
      ],
      "text/plain": [
       "<IPython.core.display.HTML object>"
      ]
     },
     "metadata": {},
     "output_type": "display_data"
    },
    {
     "data": {
      "text/html": [
       "<a href=\"Results/Sighpad C3 - resynth.wav\" target=\"_blank\">Sighpad C3: loss=72.53%</a>"
      ],
      "text/plain": [
       "<IPython.core.display.HTML object>"
      ]
     },
     "metadata": {},
     "output_type": "display_data"
    },
    {
     "data": {
      "text/html": [
       "<a href=\"Results/E-Mu-Proteus-FX-Kotoid-C4 - resynth.wav\" target=\"_blank\">E-Mu-Proteus-FX-Kotoid-C4: loss=72.69%</a>"
      ],
      "text/plain": [
       "<IPython.core.display.HTML object>"
      ]
     },
     "metadata": {},
     "output_type": "display_data"
    },
    {
     "data": {
      "text/html": [
       "<a href=\"Results/80s Analog Brass C3 - resynth.wav\" target=\"_blank\">80s Analog Brass C3: loss=72.89%</a>"
      ],
      "text/plain": [
       "<IPython.core.display.HTML object>"
      ]
     },
     "metadata": {},
     "output_type": "display_data"
    },
    {
     "data": {
      "text/html": [
       "<a href=\"Results/Synth Strings 2 C4 - resynth.wav\" target=\"_blank\">Synth Strings 2 C4: loss=73.33%</a>"
      ],
      "text/plain": [
       "<IPython.core.display.HTML object>"
      ]
     },
     "metadata": {},
     "output_type": "display_data"
    },
    {
     "data": {
      "text/html": [
       "<a href=\"Results/Analog Sweep C3 - resynth.wav\" target=\"_blank\">Analog Sweep C3: loss=73.35%</a>"
      ],
      "text/plain": [
       "<IPython.core.display.HTML object>"
      ]
     },
     "metadata": {},
     "output_type": "display_data"
    },
    {
     "data": {
      "text/html": [
       "<a href=\"Results/Squelch Bass C4 - resynth.wav\" target=\"_blank\">Squelch Bass C4: loss=74.09%</a>"
      ],
      "text/plain": [
       "<IPython.core.display.HTML object>"
      ]
     },
     "metadata": {},
     "output_type": "display_data"
    },
    {
     "data": {
      "text/html": [
       "<a href=\"Results/Analog Bass C3 - resynth.wav\" target=\"_blank\">Analog Bass C3: loss=74.17%</a>"
      ],
      "text/plain": [
       "<IPython.core.display.HTML object>"
      ]
     },
     "metadata": {},
     "output_type": "display_data"
    },
    {
     "data": {
      "text/html": [
       "<a href=\"Results/Nagoya Harp 1 C3 - resynth.wav\" target=\"_blank\">Nagoya Harp 1 C3: loss=74.19%</a>"
      ],
      "text/plain": [
       "<IPython.core.display.HTML object>"
      ]
     },
     "metadata": {},
     "output_type": "display_data"
    },
    {
     "data": {
      "text/html": [
       "<a href=\"Results/Blue Bass C4 - resynth.wav\" target=\"_blank\">Blue Bass C4: loss=74.59%</a>"
      ],
      "text/plain": [
       "<IPython.core.display.HTML object>"
      ]
     },
     "metadata": {},
     "output_type": "display_data"
    },
    {
     "data": {
      "text/html": [
       "<a href=\"Results/FM Plunck C3 - resynth.wav\" target=\"_blank\">FM Plunck C3: loss=74.63%</a>"
      ],
      "text/plain": [
       "<IPython.core.display.HTML object>"
      ]
     },
     "metadata": {},
     "output_type": "display_data"
    },
    {
     "data": {
      "text/html": [
       "<a href=\"Results/Group Pizz 2 C4 - resynth.wav\" target=\"_blank\">Group Pizz 2 C4: loss=74.67%</a>"
      ],
      "text/plain": [
       "<IPython.core.display.HTML object>"
      ]
     },
     "metadata": {},
     "output_type": "display_data"
    },
    {
     "data": {
      "text/html": [
       "<a href=\"Results/Anastacia Ee 1 C4 - resynth.wav\" target=\"_blank\">Anastacia Ee 1 C4: loss=74.73%</a>"
      ],
      "text/plain": [
       "<IPython.core.display.HTML object>"
      ]
     },
     "metadata": {},
     "output_type": "display_data"
    },
    {
     "data": {
      "text/html": [
       "<a href=\"Results/80s Digital Synth Open Strings C4 - resynth.wav\" target=\"_blank\">80s Digital Synth Open Strings C4: loss=74.78%</a>"
      ],
      "text/plain": [
       "<IPython.core.display.HTML object>"
      ]
     },
     "metadata": {},
     "output_type": "display_data"
    },
    {
     "data": {
      "text/html": [
       "<a href=\"Results/FM Noise Bass C3 - resynth.wav\" target=\"_blank\">FM Noise Bass C3: loss=74.88%</a>"
      ],
      "text/plain": [
       "<IPython.core.display.HTML object>"
      ]
     },
     "metadata": {},
     "output_type": "display_data"
    },
    {
     "data": {
      "text/html": [
       "<a href=\"Results/Celestial C4 - resynth.wav\" target=\"_blank\">Celestial C4: loss=74.93%</a>"
      ],
      "text/plain": [
       "<IPython.core.display.HTML object>"
      ]
     },
     "metadata": {},
     "output_type": "display_data"
    },
    {
     "data": {
      "text/html": [
       "<a href=\"Results/Grainy Pad C4 - resynth.wav\" target=\"_blank\">Grainy Pad C4: loss=74.95%</a>"
      ],
      "text/plain": [
       "<IPython.core.display.HTML object>"
      ]
     },
     "metadata": {},
     "output_type": "display_data"
    },
    {
     "data": {
      "text/html": [
       "<a href=\"Results/Dark Water C4 - resynth.wav\" target=\"_blank\">Dark Water C4: loss=75.00%</a>"
      ],
      "text/plain": [
       "<IPython.core.display.HTML object>"
      ]
     },
     "metadata": {},
     "output_type": "display_data"
    },
    {
     "data": {
      "text/html": [
       "<a href=\"Results/Solo Tom Oh C3 - resynth.wav\" target=\"_blank\">Solo Tom Oh C3: loss=75.05%</a>"
      ],
      "text/plain": [
       "<IPython.core.display.HTML object>"
      ]
     },
     "metadata": {},
     "output_type": "display_data"
    },
    {
     "data": {
      "text/html": [
       "<a href=\"Results/Vintage String Synth C3 - resynth.wav\" target=\"_blank\">Vintage String Synth C3: loss=75.12%</a>"
      ],
      "text/plain": [
       "<IPython.core.display.HTML object>"
      ]
     },
     "metadata": {},
     "output_type": "display_data"
    },
    {
     "data": {
      "text/html": [
       "<a href=\"Results/House Chunk C4 - resynth.wav\" target=\"_blank\">House Chunk C4: loss=75.46%</a>"
      ],
      "text/plain": [
       "<IPython.core.display.HTML object>"
      ]
     },
     "metadata": {},
     "output_type": "display_data"
    },
    {
     "data": {
      "text/html": [
       "<a href=\"Results/Tuning Fork Piano f C3 - resynth.wav\" target=\"_blank\">Tuning Fork Piano f C3: loss=75.62%</a>"
      ],
      "text/plain": [
       "<IPython.core.display.HTML object>"
      ]
     },
     "metadata": {},
     "output_type": "display_data"
    },
    {
     "data": {
      "text/html": [
       "<a href=\"Results/Amanda Stacc Pa 3 C3 - resynth.wav\" target=\"_blank\">Amanda Stacc Pa 3 C3: loss=75.69%</a>"
      ],
      "text/plain": [
       "<IPython.core.display.HTML object>"
      ]
     },
     "metadata": {},
     "output_type": "display_data"
    },
    {
     "data": {
      "text/html": [
       "<a href=\"Results/Bandura Moderate A C3 - resynth.wav\" target=\"_blank\">Bandura Moderate A C3: loss=75.83%</a>"
      ],
      "text/plain": [
       "<IPython.core.display.HTML object>"
      ]
     },
     "metadata": {},
     "output_type": "display_data"
    },
    {
     "data": {
      "text/html": [
       "<a href=\"Results/Acoustic Guitar 2 Plect 4 C4 - resynth.wav\" target=\"_blank\">Acoustic Guitar 2 Plect 4 C4: loss=76.02%</a>"
      ],
      "text/plain": [
       "<IPython.core.display.HTML object>"
      ]
     },
     "metadata": {},
     "output_type": "display_data"
    },
    {
     "data": {
      "text/html": [
       "<a href=\"Results/Resonant Sequence C3 - resynth.wav\" target=\"_blank\">Resonant Sequence C3: loss=76.19%</a>"
      ],
      "text/plain": [
       "<IPython.core.display.HTML object>"
      ]
     },
     "metadata": {},
     "output_type": "display_data"
    },
    {
     "data": {
      "text/html": [
       "<a href=\"Results/FM Bass 1 C3 - resynth.wav\" target=\"_blank\">FM Bass 1 C3: loss=76.47%</a>"
      ],
      "text/plain": [
       "<IPython.core.display.HTML object>"
      ]
     },
     "metadata": {},
     "output_type": "display_data"
    },
    {
     "data": {
      "text/html": [
       "<a href=\"Results/Wet Saw C3 - resynth.wav\" target=\"_blank\">Wet Saw C3: loss=76.79%</a>"
      ],
      "text/plain": [
       "<IPython.core.display.HTML object>"
      ]
     },
     "metadata": {},
     "output_type": "display_data"
    },
    {
     "data": {
      "text/html": [
       "<a href=\"Results/Analog Modular Bass C4 - resynth.wav\" target=\"_blank\">Analog Modular Bass C4: loss=76.94%</a>"
      ],
      "text/plain": [
       "<IPython.core.display.HTML object>"
      ]
     },
     "metadata": {},
     "output_type": "display_data"
    },
    {
     "data": {
      "text/html": [
       "<a href=\"Results/Water Harp Bowed 3 C4 - resynth.wav\" target=\"_blank\">Water Harp Bowed 3 C4: loss=77.01%</a>"
      ],
      "text/plain": [
       "<IPython.core.display.HTML object>"
      ]
     },
     "metadata": {},
     "output_type": "display_data"
    },
    {
     "data": {
      "text/html": [
       "<a href=\"Results/Smooth FM C4 - resynth.wav\" target=\"_blank\">Smooth FM C4: loss=77.48%</a>"
      ],
      "text/plain": [
       "<IPython.core.display.HTML object>"
      ]
     },
     "metadata": {},
     "output_type": "display_data"
    },
    {
     "data": {
      "text/html": [
       "<a href=\"Results/FM Voice What C3 - resynth.wav\" target=\"_blank\">FM Voice What C3: loss=77.53%</a>"
      ],
      "text/plain": [
       "<IPython.core.display.HTML object>"
      ]
     },
     "metadata": {},
     "output_type": "display_data"
    },
    {
     "data": {
      "text/html": [
       "<a href=\"Results/EPiano FM Ballad C4 - resynth.wav\" target=\"_blank\">EPiano FM Ballad C4: loss=77.63%</a>"
      ],
      "text/plain": [
       "<IPython.core.display.HTML object>"
      ]
     },
     "metadata": {},
     "output_type": "display_data"
    },
    {
     "data": {
      "text/html": [
       "<a href=\"Results/Fujara C4 - resynth.wav\" target=\"_blank\">Fujara C4: loss=78.02%</a>"
      ],
      "text/plain": [
       "<IPython.core.display.HTML object>"
      ]
     },
     "metadata": {},
     "output_type": "display_data"
    },
    {
     "data": {
      "text/html": [
       "<a href=\"Results/Dulcimar 2 C4 - resynth.wav\" target=\"_blank\">Dulcimar 2 C4: loss=78.13%</a>"
      ],
      "text/plain": [
       "<IPython.core.display.HTML object>"
      ]
     },
     "metadata": {},
     "output_type": "display_data"
    },
    {
     "data": {
      "text/html": [
       "<a href=\"Results/Buzz Pad C4 - resynth.wav\" target=\"_blank\">Buzz Pad C4: loss=78.40%</a>"
      ],
      "text/plain": [
       "<IPython.core.display.HTML object>"
      ]
     },
     "metadata": {},
     "output_type": "display_data"
    },
    {
     "data": {
      "text/html": [
       "<a href=\"Results/EPiano FM Hard C4 - resynth.wav\" target=\"_blank\">EPiano FM Hard C4: loss=78.56%</a>"
      ],
      "text/plain": [
       "<IPython.core.display.HTML object>"
      ]
     },
     "metadata": {},
     "output_type": "display_data"
    },
    {
     "data": {
      "text/html": [
       "<a href=\"Results/Alesis-Sanctuary-QCard-Sanctuary-C3 - resynth.wav\" target=\"_blank\">Alesis-Sanctuary-QCard-Sanctuary-C3: loss=78.72%</a>"
      ],
      "text/plain": [
       "<IPython.core.display.HTML object>"
      ]
     },
     "metadata": {},
     "output_type": "display_data"
    },
    {
     "data": {
      "text/html": [
       "<a href=\"Results/Gliss Triangles Long C3 - resynth.wav\" target=\"_blank\">Gliss Triangles Long C3: loss=78.88%</a>"
      ],
      "text/plain": [
       "<IPython.core.display.HTML object>"
      ]
     },
     "metadata": {},
     "output_type": "display_data"
    },
    {
     "data": {
      "text/html": [
       "<a href=\"Results/Gliss Triangles C3 - resynth.wav\" target=\"_blank\">Gliss Triangles C3: loss=78.88%</a>"
      ],
      "text/plain": [
       "<IPython.core.display.HTML object>"
      ]
     },
     "metadata": {},
     "output_type": "display_data"
    },
    {
     "data": {
      "text/html": [
       "<a href=\"Results/Dirty Acid C3 - resynth.wav\" target=\"_blank\">Dirty Acid C3: loss=79.34%</a>"
      ],
      "text/plain": [
       "<IPython.core.display.HTML object>"
      ]
     },
     "metadata": {},
     "output_type": "display_data"
    },
    {
     "data": {
      "text/html": [
       "<a href=\"Results/Amanda Mm 1 C3 - resynth.wav\" target=\"_blank\">Amanda Mm 1 C3: loss=80.13%</a>"
      ],
      "text/plain": [
       "<IPython.core.display.HTML object>"
      ]
     },
     "metadata": {},
     "output_type": "display_data"
    },
    {
     "data": {
      "text/html": [
       "<a href=\"Results/Glass Guitar C4 - resynth.wav\" target=\"_blank\">Glass Guitar C4: loss=80.57%</a>"
      ],
      "text/plain": [
       "<IPython.core.display.HTML object>"
      ]
     },
     "metadata": {},
     "output_type": "display_data"
    },
    {
     "data": {
      "text/html": [
       "<a href=\"Results/Ensoniq-ESQ-1-Piano-C3 - resynth.wav\" target=\"_blank\">Ensoniq-ESQ-1-Piano-C3: loss=80.58%</a>"
      ],
      "text/plain": [
       "<IPython.core.display.HTML object>"
      ]
     },
     "metadata": {},
     "output_type": "display_data"
    },
    {
     "data": {
      "text/html": [
       "<a href=\"Results/Acoustic Guitar 2 Finger 4 C3 - resynth.wav\" target=\"_blank\">Acoustic Guitar 2 Finger 4 C3: loss=80.63%</a>"
      ],
      "text/plain": [
       "<IPython.core.display.HTML object>"
      ]
     },
     "metadata": {},
     "output_type": "display_data"
    },
    {
     "data": {
      "text/html": [
       "<a href=\"Results/Additive Mix Min C3 - resynth.wav\" target=\"_blank\">Additive Mix Min C3: loss=80.73%</a>"
      ],
      "text/plain": [
       "<IPython.core.display.HTML object>"
      ]
     },
     "metadata": {},
     "output_type": "display_data"
    },
    {
     "data": {
      "text/html": [
       "<a href=\"Results/Oceaxe Pad C4 - resynth.wav\" target=\"_blank\">Oceaxe Pad C4: loss=81.38%</a>"
      ],
      "text/plain": [
       "<IPython.core.display.HTML object>"
      ]
     },
     "metadata": {},
     "output_type": "display_data"
    },
    {
     "data": {
      "text/html": [
       "<a href=\"Results/Anastacia Oh 3 C3 - resynth.wav\" target=\"_blank\">Anastacia Oh 3 C3: loss=81.46%</a>"
      ],
      "text/plain": [
       "<IPython.core.display.HTML object>"
      ]
     },
     "metadata": {},
     "output_type": "display_data"
    },
    {
     "data": {
      "text/html": [
       "<a href=\"Results/Korg-01W-A-Guitar-C3 - resynth.wav\" target=\"_blank\">Korg-01W-A-Guitar-C3: loss=81.49%</a>"
      ],
      "text/plain": [
       "<IPython.core.display.HTML object>"
      ]
     },
     "metadata": {},
     "output_type": "display_data"
    },
    {
     "data": {
      "text/html": [
       "<a href=\"Results/Drone FX Bmetal Orch C3 - resynth.wav\" target=\"_blank\">Drone FX Bmetal Orch C3: loss=81.55%</a>"
      ],
      "text/plain": [
       "<IPython.core.display.HTML object>"
      ]
     },
     "metadata": {},
     "output_type": "display_data"
    },
    {
     "data": {
      "text/html": [
       "<a href=\"Results/Modern Analog 17 C4 - resynth.wav\" target=\"_blank\">Modern Analog 17 C4: loss=81.64%</a>"
      ],
      "text/plain": [
       "<IPython.core.display.HTML object>"
      ]
     },
     "metadata": {},
     "output_type": "display_data"
    },
    {
     "data": {
      "text/html": [
       "<a href=\"Results/Amanda Stacc Aa 3 C3 - resynth.wav\" target=\"_blank\">Amanda Stacc Aa 3 C3: loss=82.73%</a>"
      ],
      "text/plain": [
       "<IPython.core.display.HTML object>"
      ]
     },
     "metadata": {},
     "output_type": "display_data"
    },
    {
     "data": {
      "text/html": [
       "<a href=\"Results/Electric Fat Plect 4 C4 - resynth.wav\" target=\"_blank\">Electric Fat Plect 4 C4: loss=82.84%</a>"
      ],
      "text/plain": [
       "<IPython.core.display.HTML object>"
      ]
     },
     "metadata": {},
     "output_type": "display_data"
    },
    {
     "data": {
      "text/html": [
       "<a href=\"Results/Water Harp Bowed 1 C4 - resynth.wav\" target=\"_blank\">Water Harp Bowed 1 C4: loss=83.43%</a>"
      ],
      "text/plain": [
       "<IPython.core.display.HTML object>"
      ]
     },
     "metadata": {},
     "output_type": "display_data"
    },
    {
     "data": {
      "text/html": [
       "<a href=\"Results/Modern Guitar C3 - resynth.wav\" target=\"_blank\">Modern Guitar C3: loss=83.50%</a>"
      ],
      "text/plain": [
       "<IPython.core.display.HTML object>"
      ]
     },
     "metadata": {},
     "output_type": "display_data"
    },
    {
     "data": {
      "text/html": [
       "<a href=\"Results/Vintage Synth Viola C3 - resynth.wav\" target=\"_blank\">Vintage Synth Viola C3: loss=83.82%</a>"
      ],
      "text/plain": [
       "<IPython.core.display.HTML object>"
      ]
     },
     "metadata": {},
     "output_type": "display_data"
    },
    {
     "data": {
      "text/html": [
       "<a href=\"Results/Guitar Folk Clean C4 - resynth.wav\" target=\"_blank\">Guitar Folk Clean C4: loss=84.96%</a>"
      ],
      "text/plain": [
       "<IPython.core.display.HTML object>"
      ]
     },
     "metadata": {},
     "output_type": "display_data"
    },
    {
     "data": {
      "text/html": [
       "<a href=\"Results/Inner Voices Maj C3 - resynth.wav\" target=\"_blank\">Inner Voices Maj C3: loss=85.10%</a>"
      ],
      "text/plain": [
       "<IPython.core.display.HTML object>"
      ]
     },
     "metadata": {},
     "output_type": "display_data"
    },
    {
     "data": {
      "text/html": [
       "<a href=\"Results/Bandura Hard A C4 - resynth.wav\" target=\"_blank\">Bandura Hard A C4: loss=85.73%</a>"
      ],
      "text/plain": [
       "<IPython.core.display.HTML object>"
      ]
     },
     "metadata": {},
     "output_type": "display_data"
    },
    {
     "data": {
      "text/html": [
       "<a href=\"Results/80s Analog Square C4 - resynth.wav\" target=\"_blank\">80s Analog Square C4: loss=86.18%</a>"
      ],
      "text/plain": [
       "<IPython.core.display.HTML object>"
      ]
     },
     "metadata": {},
     "output_type": "display_data"
    },
    {
     "data": {
      "text/html": [
       "<a href=\"Results/Loose And Floppy 02 C3 - resynth.wav\" target=\"_blank\">Loose And Floppy 02 C3: loss=86.52%</a>"
      ],
      "text/plain": [
       "<IPython.core.display.HTML object>"
      ]
     },
     "metadata": {},
     "output_type": "display_data"
    },
    {
     "data": {
      "text/html": [
       "<a href=\"Results/Flute Ensemble C3 - resynth.wav\" target=\"_blank\">Flute Ensemble C3: loss=86.89%</a>"
      ],
      "text/plain": [
       "<IPython.core.display.HTML object>"
      ]
     },
     "metadata": {},
     "output_type": "display_data"
    },
    {
     "data": {
      "text/html": [
       "<a href=\"Results/Synth Strings I C4 - resynth.wav\" target=\"_blank\">Synth Strings I C4: loss=87.68%</a>"
      ],
      "text/plain": [
       "<IPython.core.display.HTML object>"
      ]
     },
     "metadata": {},
     "output_type": "display_data"
    },
    {
     "data": {
      "text/html": [
       "<a href=\"Results/Roland-JX-03-Dist-Guitar-C4 - resynth.wav\" target=\"_blank\">Roland-JX-03-Dist-Guitar-C4: loss=88.40%</a>"
      ],
      "text/plain": [
       "<IPython.core.display.HTML object>"
      ]
     },
     "metadata": {},
     "output_type": "display_data"
    },
    {
     "data": {
      "text/html": [
       "<a href=\"Results/80s Digital Synth Slow Res Sweep C3 - resynth.wav\" target=\"_blank\">80s Digital Synth Slow Res Sweep C3: loss=88.43%</a>"
      ],
      "text/plain": [
       "<IPython.core.display.HTML object>"
      ]
     },
     "metadata": {},
     "output_type": "display_data"
    },
    {
     "data": {
      "text/html": [
       "<a href=\"Results/Water Harp Bowed 2 C4 - resynth.wav\" target=\"_blank\">Water Harp Bowed 2 C4: loss=88.50%</a>"
      ],
      "text/plain": [
       "<IPython.core.display.HTML object>"
      ]
     },
     "metadata": {},
     "output_type": "display_data"
    },
    {
     "data": {
      "text/html": [
       "<a href=\"Results/Bandura Tremolo A C4 - resynth.wav\" target=\"_blank\">Bandura Tremolo A C4: loss=88.94%</a>"
      ],
      "text/plain": [
       "<IPython.core.display.HTML object>"
      ]
     },
     "metadata": {},
     "output_type": "display_data"
    },
    {
     "data": {
      "text/html": [
       "<a href=\"Results/Vocalize 0003 C3 - resynth.wav\" target=\"_blank\">Vocalize 0003 C3: loss=89.15%</a>"
      ],
      "text/plain": [
       "<IPython.core.display.HTML object>"
      ]
     },
     "metadata": {},
     "output_type": "display_data"
    },
    {
     "data": {
      "text/html": [
       "<a href=\"Results/Cherry Eh 2 C3 - resynth.wav\" target=\"_blank\">Cherry Eh 2 C3: loss=89.39%</a>"
      ],
      "text/plain": [
       "<IPython.core.display.HTML object>"
      ]
     },
     "metadata": {},
     "output_type": "display_data"
    },
    {
     "data": {
      "text/html": [
       "<a href=\"Results/Sine C3 - resynth.wav\" target=\"_blank\">Sine C3: loss=89.44%</a>"
      ],
      "text/plain": [
       "<IPython.core.display.HTML object>"
      ]
     },
     "metadata": {},
     "output_type": "display_data"
    },
    {
     "data": {
      "text/html": [
       "<a href=\"Results/Plastic Organ C3 - resynth.wav\" target=\"_blank\">Plastic Organ C3: loss=89.69%</a>"
      ],
      "text/plain": [
       "<IPython.core.display.HTML object>"
      ]
     },
     "metadata": {},
     "output_type": "display_data"
    },
    {
     "data": {
      "text/html": [
       "<a href=\"Results/FM Saw C3 - resynth.wav\" target=\"_blank\">FM Saw C3: loss=89.75%</a>"
      ],
      "text/plain": [
       "<IPython.core.display.HTML object>"
      ]
     },
     "metadata": {},
     "output_type": "display_data"
    },
    {
     "data": {
      "text/html": [
       "<a href=\"Results/Korg-01W-Alans-Run-C4 - resynth.wav\" target=\"_blank\">Korg-01W-Alans-Run-C4: loss=90.03%</a>"
      ],
      "text/plain": [
       "<IPython.core.display.HTML object>"
      ]
     },
     "metadata": {},
     "output_type": "display_data"
    },
    {
     "data": {
      "text/html": [
       "<a href=\"Results/80s Digital Synth Slow Res Sweep C4 - resynth.wav\" target=\"_blank\">80s Digital Synth Slow Res Sweep C4: loss=90.52%</a>"
      ],
      "text/plain": [
       "<IPython.core.display.HTML object>"
      ]
     },
     "metadata": {},
     "output_type": "display_data"
    },
    {
     "data": {
      "text/html": [
       "<a href=\"Results/E-Mu-Proteus-FX-TenorSax-C3 - resynth.wav\" target=\"_blank\">E-Mu-Proteus-FX-TenorSax-C3: loss=90.99%</a>"
      ],
      "text/plain": [
       "<IPython.core.display.HTML object>"
      ]
     },
     "metadata": {},
     "output_type": "display_data"
    },
    {
     "data": {
      "text/html": [
       "<a href=\"Results/Acoustic Guitar 2 Pchord 2 C3 - resynth.wav\" target=\"_blank\">Acoustic Guitar 2 Pchord 2 C3: loss=91.36%</a>"
      ],
      "text/plain": [
       "<IPython.core.display.HTML object>"
      ]
     },
     "metadata": {},
     "output_type": "display_data"
    },
    {
     "data": {
      "text/html": [
       "<a href=\"Results/Coral Sweep C3 - resynth.wav\" target=\"_blank\">Coral Sweep C3: loss=91.49%</a>"
      ],
      "text/plain": [
       "<IPython.core.display.HTML object>"
      ]
     },
     "metadata": {},
     "output_type": "display_data"
    },
    {
     "data": {
      "text/html": [
       "<a href=\"Results/FM Voice Ob Brass C3 - resynth.wav\" target=\"_blank\">FM Voice Ob Brass C3: loss=91.53%</a>"
      ],
      "text/plain": [
       "<IPython.core.display.HTML object>"
      ]
     },
     "metadata": {},
     "output_type": "display_data"
    },
    {
     "data": {
      "text/html": [
       "<a href=\"Results/Reese or Rise C3 - resynth.wav\" target=\"_blank\">Reese or Rise C3: loss=91.85%</a>"
      ],
      "text/plain": [
       "<IPython.core.display.HTML object>"
      ]
     },
     "metadata": {},
     "output_type": "display_data"
    },
    {
     "data": {
      "text/html": [
       "<a href=\"Results/Glass Guitar C3 - resynth.wav\" target=\"_blank\">Glass Guitar C3: loss=92.23%</a>"
      ],
      "text/plain": [
       "<IPython.core.display.HTML object>"
      ]
     },
     "metadata": {},
     "output_type": "display_data"
    },
    {
     "data": {
      "text/html": [
       "<a href=\"Results/West Coast Synth Wave Multiplier 1 C3 - resynth.wav\" target=\"_blank\">West Coast Synth Wave Multiplier 1 C3: loss=92.75%</a>"
      ],
      "text/plain": [
       "<IPython.core.display.HTML object>"
      ]
     },
     "metadata": {},
     "output_type": "display_data"
    },
    {
     "data": {
      "text/html": [
       "<a href=\"Results/Amanda Stacc Ta 2 C3 - resynth.wav\" target=\"_blank\">Amanda Stacc Ta 2 C3: loss=92.83%</a>"
      ],
      "text/plain": [
       "<IPython.core.display.HTML object>"
      ]
     },
     "metadata": {},
     "output_type": "display_data"
    },
    {
     "data": {
      "text/html": [
       "<a href=\"Results/Vocoder Female C4 - resynth.wav\" target=\"_blank\">Vocoder Female C4: loss=92.92%</a>"
      ],
      "text/plain": [
       "<IPython.core.display.HTML object>"
      ]
     },
     "metadata": {},
     "output_type": "display_data"
    },
    {
     "data": {
      "text/html": [
       "<a href=\"Results/Alesis-S4-Plus-Bag-Pipe-C4 - resynth.wav\" target=\"_blank\">Alesis-S4-Plus-Bag-Pipe-C4: loss=93.94%</a>"
      ],
      "text/plain": [
       "<IPython.core.display.HTML object>"
      ]
     },
     "metadata": {},
     "output_type": "display_data"
    },
    {
     "data": {
      "text/html": [
       "<a href=\"Results/Intro City C3 - resynth.wav\" target=\"_blank\">Intro City C3: loss=93.95%</a>"
      ],
      "text/plain": [
       "<IPython.core.display.HTML object>"
      ]
     },
     "metadata": {},
     "output_type": "display_data"
    },
    {
     "data": {
      "text/html": [
       "<a href=\"Results/Harpsicord C4 - resynth.wav\" target=\"_blank\">Harpsicord C4: loss=95.03%</a>"
      ],
      "text/plain": [
       "<IPython.core.display.HTML object>"
      ]
     },
     "metadata": {},
     "output_type": "display_data"
    },
    {
     "data": {
      "text/html": [
       "<a href=\"Results/Analog Down Sweep C3 - resynth.wav\" target=\"_blank\">Analog Down Sweep C3: loss=95.20%</a>"
      ],
      "text/plain": [
       "<IPython.core.display.HTML object>"
      ]
     },
     "metadata": {},
     "output_type": "display_data"
    },
    {
     "data": {
      "text/html": [
       "<a href=\"Results/Dark Water C3 - resynth.wav\" target=\"_blank\">Dark Water C3: loss=95.35%</a>"
      ],
      "text/plain": [
       "<IPython.core.display.HTML object>"
      ]
     },
     "metadata": {},
     "output_type": "display_data"
    },
    {
     "data": {
      "text/html": [
       "<a href=\"Results/Layer Universe C3 - resynth.wav\" target=\"_blank\">Layer Universe C3: loss=95.43%</a>"
      ],
      "text/plain": [
       "<IPython.core.display.HTML object>"
      ]
     },
     "metadata": {},
     "output_type": "display_data"
    },
    {
     "data": {
      "text/html": [
       "<a href=\"Results/Dream Sweep C4 - resynth.wav\" target=\"_blank\">Dream Sweep C4: loss=95.55%</a>"
      ],
      "text/plain": [
       "<IPython.core.display.HTML object>"
      ]
     },
     "metadata": {},
     "output_type": "display_data"
    },
    {
     "data": {
      "text/html": [
       "<a href=\"Results/Ensoniq-ZR-76-SynBrs-1-GM-C4 - resynth.wav\" target=\"_blank\">Ensoniq-ZR-76-SynBrs-1-GM-C4: loss=95.80%</a>"
      ],
      "text/plain": [
       "<IPython.core.display.HTML object>"
      ]
     },
     "metadata": {},
     "output_type": "display_data"
    },
    {
     "data": {
      "text/html": [
       "<a href=\"Results/Ethnic Wonder C3 - resynth.wav\" target=\"_blank\">Ethnic Wonder C3: loss=95.96%</a>"
      ],
      "text/plain": [
       "<IPython.core.display.HTML object>"
      ]
     },
     "metadata": {},
     "output_type": "display_data"
    },
    {
     "data": {
      "text/html": [
       "<a href=\"Results/Plastic Organ C4 - resynth.wav\" target=\"_blank\">Plastic Organ C4: loss=96.21%</a>"
      ],
      "text/plain": [
       "<IPython.core.display.HTML object>"
      ]
     },
     "metadata": {},
     "output_type": "display_data"
    },
    {
     "data": {
      "text/html": [
       "<a href=\"Results/Handmade Synth 1 C4 - resynth.wav\" target=\"_blank\">Handmade Synth 1 C4: loss=96.49%</a>"
      ],
      "text/plain": [
       "<IPython.core.display.HTML object>"
      ]
     },
     "metadata": {},
     "output_type": "display_data"
    },
    {
     "data": {
      "text/html": [
       "<a href=\"Results/Particle 7 Dim C3 - resynth.wav\" target=\"_blank\">Particle 7 Dim C3: loss=96.57%</a>"
      ],
      "text/plain": [
       "<IPython.core.display.HTML object>"
      ]
     },
     "metadata": {},
     "output_type": "display_data"
    },
    {
     "data": {
      "text/html": [
       "<a href=\"Results/Yamaha-TG100-Banjo-C4 - resynth.wav\" target=\"_blank\">Yamaha-TG100-Banjo-C4: loss=97.21%</a>"
      ],
      "text/plain": [
       "<IPython.core.display.HTML object>"
      ]
     },
     "metadata": {},
     "output_type": "display_data"
    },
    {
     "data": {
      "text/html": [
       "<a href=\"Results/Narrow Pad Saw C4 - resynth.wav\" target=\"_blank\">Narrow Pad Saw C4: loss=97.88%</a>"
      ],
      "text/plain": [
       "<IPython.core.display.HTML object>"
      ]
     },
     "metadata": {},
     "output_type": "display_data"
    },
    {
     "data": {
      "text/html": [
       "<a href=\"Results/Acoustic Guitar 4 Gliss C4 - resynth.wav\" target=\"_blank\">Acoustic Guitar 4 Gliss C4: loss=98.01%</a>"
      ],
      "text/plain": [
       "<IPython.core.display.HTML object>"
      ]
     },
     "metadata": {},
     "output_type": "display_data"
    },
    {
     "data": {
      "text/html": [
       "<a href=\"Results/Casio-MT-600-Synth-Celesta-C4 - resynth.wav\" target=\"_blank\">Casio-MT-600-Synth-Celesta-C4: loss=98.48%</a>"
      ],
      "text/plain": [
       "<IPython.core.display.HTML object>"
      ]
     },
     "metadata": {},
     "output_type": "display_data"
    },
    {
     "data": {
      "text/html": [
       "<a href=\"Results/Wide Trance C3 - resynth.wav\" target=\"_blank\">Wide Trance C3: loss=98.86%</a>"
      ],
      "text/plain": [
       "<IPython.core.display.HTML object>"
      ]
     },
     "metadata": {},
     "output_type": "display_data"
    },
    {
     "data": {
      "text/html": [
       "<a href=\"Results/Many String C4 - resynth.wav\" target=\"_blank\">Many String C4: loss=99.15%</a>"
      ],
      "text/plain": [
       "<IPython.core.display.HTML object>"
      ]
     },
     "metadata": {},
     "output_type": "display_data"
    },
    {
     "data": {
      "text/html": [
       "<a href=\"Results/Amanda Aa 2 C3 - resynth.wav\" target=\"_blank\">Amanda Aa 2 C3: loss=99.19%</a>"
      ],
      "text/plain": [
       "<IPython.core.display.HTML object>"
      ]
     },
     "metadata": {},
     "output_type": "display_data"
    },
    {
     "data": {
      "text/html": [
       "<a href=\"Results/Ensoniq-ESQ-1-Brass-Ensemble-C4 - resynth.wav\" target=\"_blank\">Ensoniq-ESQ-1-Brass-Ensemble-C4: loss=99.40%</a>"
      ],
      "text/plain": [
       "<IPython.core.display.HTML object>"
      ]
     },
     "metadata": {},
     "output_type": "display_data"
    },
    {
     "data": {
      "text/html": [
       "<a href=\"Results/Retro Modular Rich Pulse C3 - resynth.wav\" target=\"_blank\">Retro Modular Rich Pulse C3: loss=99.51%</a>"
      ],
      "text/plain": [
       "<IPython.core.display.HTML object>"
      ]
     },
     "metadata": {},
     "output_type": "display_data"
    },
    {
     "data": {
      "text/html": [
       "<a href=\"Results/Synth Vocal 1 C4 - resynth.wav\" target=\"_blank\">Synth Vocal 1 C4: loss=99.62%</a>"
      ],
      "text/plain": [
       "<IPython.core.display.HTML object>"
      ]
     },
     "metadata": {},
     "output_type": "display_data"
    },
    {
     "data": {
      "text/html": [
       "<a href=\"Results/Fat And Dirty C3 1 - resynth.wav\" target=\"_blank\">Fat And Dirty C3 1: loss=100.05%</a>"
      ],
      "text/plain": [
       "<IPython.core.display.HTML object>"
      ]
     },
     "metadata": {},
     "output_type": "display_data"
    },
    {
     "data": {
      "text/html": [
       "<a href=\"Results/Acoustic Guitar 2 Plect 3 C4 - resynth.wav\" target=\"_blank\">Acoustic Guitar 2 Plect 3 C4: loss=100.54%</a>"
      ],
      "text/plain": [
       "<IPython.core.display.HTML object>"
      ]
     },
     "metadata": {},
     "output_type": "display_data"
    },
    {
     "data": {
      "text/html": [
       "<a href=\"Results/Casio-CZ-5000-Accordion-C4 - resynth.wav\" target=\"_blank\">Casio-CZ-5000-Accordion-C4: loss=101.04%</a>"
      ],
      "text/plain": [
       "<IPython.core.display.HTML object>"
      ]
     },
     "metadata": {},
     "output_type": "display_data"
    },
    {
     "data": {
      "text/html": [
       "<a href=\"Results/Ensoniq-SQ-1-Road-Time-C3 - resynth.wav\" target=\"_blank\">Ensoniq-SQ-1-Road-Time-C3: loss=101.21%</a>"
      ],
      "text/plain": [
       "<IPython.core.display.HTML object>"
      ]
     },
     "metadata": {},
     "output_type": "display_data"
    },
    {
     "data": {
      "text/html": [
       "<a href=\"Results/FM Voice Rounded C4 - resynth.wav\" target=\"_blank\">FM Voice Rounded C4: loss=101.26%</a>"
      ],
      "text/plain": [
       "<IPython.core.display.HTML object>"
      ]
     },
     "metadata": {},
     "output_type": "display_data"
    },
    {
     "data": {
      "text/html": [
       "<a href=\"Results/Vox Trumpet mf C4 - resynth.wav\" target=\"_blank\">Vox Trumpet mf C4: loss=101.53%</a>"
      ],
      "text/plain": [
       "<IPython.core.display.HTML object>"
      ]
     },
     "metadata": {},
     "output_type": "display_data"
    },
    {
     "data": {
      "text/html": [
       "<a href=\"Results/Vintage Synth Horn C4 - resynth.wav\" target=\"_blank\">Vintage Synth Horn C4: loss=101.59%</a>"
      ],
      "text/plain": [
       "<IPython.core.display.HTML object>"
      ]
     },
     "metadata": {},
     "output_type": "display_data"
    },
    {
     "data": {
      "text/html": [
       "<a href=\"Results/Vintage Synth Horn C3 - resynth.wav\" target=\"_blank\">Vintage Synth Horn C3: loss=102.22%</a>"
      ],
      "text/plain": [
       "<IPython.core.display.HTML object>"
      ]
     },
     "metadata": {},
     "output_type": "display_data"
    },
    {
     "data": {
      "text/html": [
       "<a href=\"Results/Amanda Aa 3 C3 - resynth.wav\" target=\"_blank\">Amanda Aa 3 C3: loss=102.31%</a>"
      ],
      "text/plain": [
       "<IPython.core.display.HTML object>"
      ]
     },
     "metadata": {},
     "output_type": "display_data"
    },
    {
     "data": {
      "text/html": [
       "<a href=\"Results/Amanda Eh 2 C3 - resynth.wav\" target=\"_blank\">Amanda Eh 2 C3: loss=102.39%</a>"
      ],
      "text/plain": [
       "<IPython.core.display.HTML object>"
      ]
     },
     "metadata": {},
     "output_type": "display_data"
    },
    {
     "data": {
      "text/html": [
       "<a href=\"Results/Amanda Ha Ee Oh Wa C3 - resynth.wav\" target=\"_blank\">Amanda Ha Ee Oh Wa C3: loss=102.58%</a>"
      ],
      "text/plain": [
       "<IPython.core.display.HTML object>"
      ]
     },
     "metadata": {},
     "output_type": "display_data"
    },
    {
     "data": {
      "text/html": [
       "<a href=\"Results/Handmade Synth 1 C3 - resynth.wav\" target=\"_blank\">Handmade Synth 1 C3: loss=103.31%</a>"
      ],
      "text/plain": [
       "<IPython.core.display.HTML object>"
      ]
     },
     "metadata": {},
     "output_type": "display_data"
    },
    {
     "data": {
      "text/html": [
       "<a href=\"Results/Bass Riser C3 - resynth.wav\" target=\"_blank\">Bass Riser C3: loss=103.54%</a>"
      ],
      "text/plain": [
       "<IPython.core.display.HTML object>"
      ]
     },
     "metadata": {},
     "output_type": "display_data"
    },
    {
     "data": {
      "text/html": [
       "<a href=\"Results/PM Pluck 1 C3 - resynth.wav\" target=\"_blank\">PM Pluck 1 C3: loss=103.65%</a>"
      ],
      "text/plain": [
       "<IPython.core.display.HTML object>"
      ]
     },
     "metadata": {},
     "output_type": "display_data"
    },
    {
     "data": {
      "text/html": [
       "<a href=\"Results/Deep Movement C3 - resynth.wav\" target=\"_blank\">Deep Movement C3: loss=103.74%</a>"
      ],
      "text/plain": [
       "<IPython.core.display.HTML object>"
      ]
     },
     "metadata": {},
     "output_type": "display_data"
    },
    {
     "data": {
      "text/html": [
       "<a href=\"Results/Polyphonic Broad Pulse C4 - resynth.wav\" target=\"_blank\">Polyphonic Broad Pulse C4: loss=104.18%</a>"
      ],
      "text/plain": [
       "<IPython.core.display.HTML object>"
      ]
     },
     "metadata": {},
     "output_type": "display_data"
    },
    {
     "data": {
      "text/html": [
       "<a href=\"Results/AH Sed Hoose C3 - resynth.wav\" target=\"_blank\">AH Sed Hoose C3: loss=104.58%</a>"
      ],
      "text/plain": [
       "<IPython.core.display.HTML object>"
      ]
     },
     "metadata": {},
     "output_type": "display_data"
    },
    {
     "data": {
      "text/html": [
       "<a href=\"Results/FM Human Voice Eh C4 - resynth.wav\" target=\"_blank\">FM Human Voice Eh C4: loss=104.74%</a>"
      ],
      "text/plain": [
       "<IPython.core.display.HTML object>"
      ]
     },
     "metadata": {},
     "output_type": "display_data"
    },
    {
     "data": {
      "text/html": [
       "<a href=\"Results/Noise Pad 13 C3 - resynth.wav\" target=\"_blank\">Noise Pad 13 C3: loss=104.84%</a>"
      ],
      "text/plain": [
       "<IPython.core.display.HTML object>"
      ]
     },
     "metadata": {},
     "output_type": "display_data"
    },
    {
     "data": {
      "text/html": [
       "<a href=\"Results/Detuned Analog Saw C4 - resynth.wav\" target=\"_blank\">Detuned Analog Saw C4: loss=104.92%</a>"
      ],
      "text/plain": [
       "<IPython.core.display.HTML object>"
      ]
     },
     "metadata": {},
     "output_type": "display_data"
    },
    {
     "data": {
      "text/html": [
       "<a href=\"Results/Analog Unison Lead C4 - resynth.wav\" target=\"_blank\">Analog Unison Lead C4: loss=105.02%</a>"
      ],
      "text/plain": [
       "<IPython.core.display.HTML object>"
      ]
     },
     "metadata": {},
     "output_type": "display_data"
    },
    {
     "data": {
      "text/html": [
       "<a href=\"Results/Retro Synth Strings 1 C4 - resynth.wav\" target=\"_blank\">Retro Synth Strings 1 C4: loss=105.17%</a>"
      ],
      "text/plain": [
       "<IPython.core.display.HTML object>"
      ]
     },
     "metadata": {},
     "output_type": "display_data"
    },
    {
     "data": {
      "text/html": [
       "<a href=\"Results/Analog VCO 1 Res Squ C4 - resynth.wav\" target=\"_blank\">Analog VCO 1 Res Squ C4: loss=105.18%</a>"
      ],
      "text/plain": [
       "<IPython.core.display.HTML object>"
      ]
     },
     "metadata": {},
     "output_type": "display_data"
    },
    {
     "data": {
      "text/html": [
       "<a href=\"Results/Analog Wave C3 - resynth.wav\" target=\"_blank\">Analog Wave C3: loss=105.35%</a>"
      ],
      "text/plain": [
       "<IPython.core.display.HTML object>"
      ]
     },
     "metadata": {},
     "output_type": "display_data"
    },
    {
     "data": {
      "text/html": [
       "<a href=\"Results/E-Mu-Proteus-FX-MusicBox-C4 - resynth.wav\" target=\"_blank\">E-Mu-Proteus-FX-MusicBox-C4: loss=105.90%</a>"
      ],
      "text/plain": [
       "<IPython.core.display.HTML object>"
      ]
     },
     "metadata": {},
     "output_type": "display_data"
    },
    {
     "data": {
      "text/html": [
       "<a href=\"Results/Ensoniq-ZR-76-Trans-Bell-C3 - resynth.wav\" target=\"_blank\">Ensoniq-ZR-76-Trans-Bell-C3: loss=106.28%</a>"
      ],
      "text/plain": [
       "<IPython.core.display.HTML object>"
      ]
     },
     "metadata": {},
     "output_type": "display_data"
    },
    {
     "data": {
      "text/html": [
       "<a href=\"Results/Vintage Synth Violin C4 - resynth.wav\" target=\"_blank\">Vintage Synth Violin C4: loss=106.46%</a>"
      ],
      "text/plain": [
       "<IPython.core.display.HTML object>"
      ]
     },
     "metadata": {},
     "output_type": "display_data"
    },
    {
     "data": {
      "text/html": [
       "<a href=\"Results/Electric Fat Gliss 2 C4 - resynth.wav\" target=\"_blank\">Electric Fat Gliss 2 C4: loss=106.55%</a>"
      ],
      "text/plain": [
       "<IPython.core.display.HTML object>"
      ]
     },
     "metadata": {},
     "output_type": "display_data"
    },
    {
     "data": {
      "text/html": [
       "<a href=\"Results/Ensoniq-ZR-76-Bassoon-C3 - resynth.wav\" target=\"_blank\">Ensoniq-ZR-76-Bassoon-C3: loss=107.01%</a>"
      ],
      "text/plain": [
       "<IPython.core.display.HTML object>"
      ]
     },
     "metadata": {},
     "output_type": "display_data"
    },
    {
     "data": {
      "text/html": [
       "<a href=\"Results/Electric Fat Gliss 1 C4 - resynth.wav\" target=\"_blank\">Electric Fat Gliss 1 C4: loss=107.26%</a>"
      ],
      "text/plain": [
       "<IPython.core.display.HTML object>"
      ]
     },
     "metadata": {},
     "output_type": "display_data"
    },
    {
     "data": {
      "text/html": [
       "<a href=\"Results/Chiptone C3 - resynth.wav\" target=\"_blank\">Chiptone C3: loss=108.16%</a>"
      ],
      "text/plain": [
       "<IPython.core.display.HTML object>"
      ]
     },
     "metadata": {},
     "output_type": "display_data"
    },
    {
     "data": {
      "text/html": [
       "<a href=\"Results/Analog Chordy C4 - resynth.wav\" target=\"_blank\">Analog Chordy C4: loss=109.11%</a>"
      ],
      "text/plain": [
       "<IPython.core.display.HTML object>"
      ]
     },
     "metadata": {},
     "output_type": "display_data"
    },
    {
     "data": {
      "text/html": [
       "<a href=\"Results/Mini M Attack Sust Bass C4 - resynth.wav\" target=\"_blank\">Mini M Attack Sust Bass C4: loss=109.33%</a>"
      ],
      "text/plain": [
       "<IPython.core.display.HTML object>"
      ]
     },
     "metadata": {},
     "output_type": "display_data"
    },
    {
     "data": {
      "text/html": [
       "<a href=\"Results/Symp Broken Dreams C3 - resynth.wav\" target=\"_blank\">Symp Broken Dreams C3: loss=109.43%</a>"
      ],
      "text/plain": [
       "<IPython.core.display.HTML object>"
      ]
     },
     "metadata": {},
     "output_type": "display_data"
    },
    {
     "data": {
      "text/html": [
       "<a href=\"Results/Bandura Hard B C4 - resynth.wav\" target=\"_blank\">Bandura Hard B C4: loss=110.70%</a>"
      ],
      "text/plain": [
       "<IPython.core.display.HTML object>"
      ]
     },
     "metadata": {},
     "output_type": "display_data"
    },
    {
     "data": {
      "text/html": [
       "<a href=\"Results/FM Human Voice Eh C3 - resynth.wav\" target=\"_blank\">FM Human Voice Eh C3: loss=110.81%</a>"
      ],
      "text/plain": [
       "<IPython.core.display.HTML object>"
      ]
     },
     "metadata": {},
     "output_type": "display_data"
    },
    {
     "data": {
      "text/html": [
       "<a href=\"Results/Noise Pad 17 C4 - resynth.wav\" target=\"_blank\">Noise Pad 17 C4: loss=111.58%</a>"
      ],
      "text/plain": [
       "<IPython.core.display.HTML object>"
      ]
     },
     "metadata": {},
     "output_type": "display_data"
    },
    {
     "data": {
      "text/html": [
       "<a href=\"Results/80s Digital Synth Aliead C3 - resynth.wav\" target=\"_blank\">80s Digital Synth Aliead C3: loss=111.71%</a>"
      ],
      "text/plain": [
       "<IPython.core.display.HTML object>"
      ]
     },
     "metadata": {},
     "output_type": "display_data"
    },
    {
     "data": {
      "text/html": [
       "<a href=\"Results/Synth Pulser C3 - resynth.wav\" target=\"_blank\">Synth Pulser C3: loss=112.04%</a>"
      ],
      "text/plain": [
       "<IPython.core.display.HTML object>"
      ]
     },
     "metadata": {},
     "output_type": "display_data"
    },
    {
     "data": {
      "text/html": [
       "<a href=\"Results/Dark Background C4 - resynth.wav\" target=\"_blank\">Dark Background C4: loss=113.12%</a>"
      ],
      "text/plain": [
       "<IPython.core.display.HTML object>"
      ]
     },
     "metadata": {},
     "output_type": "display_data"
    },
    {
     "data": {
      "text/html": [
       "<a href=\"Results/E-Mu-Proteus-2-Electric-Guitar-C4 - resynth.wav\" target=\"_blank\">E-Mu-Proteus-2-Electric-Guitar-C4: loss=113.39%</a>"
      ],
      "text/plain": [
       "<IPython.core.display.HTML object>"
      ]
     },
     "metadata": {},
     "output_type": "display_data"
    },
    {
     "data": {
      "text/html": [
       "<a href=\"Results/App Dulcimer Dual Dstring C4 - resynth.wav\" target=\"_blank\">App Dulcimer Dual Dstring C4: loss=113.48%</a>"
      ],
      "text/plain": [
       "<IPython.core.display.HTML object>"
      ]
     },
     "metadata": {},
     "output_type": "display_data"
    },
    {
     "data": {
      "text/html": [
       "<a href=\"Results/Amanda Stacc Aa 1 C3 - resynth.wav\" target=\"_blank\">Amanda Stacc Aa 1 C3: loss=113.59%</a>"
      ],
      "text/plain": [
       "<IPython.core.display.HTML object>"
      ]
     },
     "metadata": {},
     "output_type": "display_data"
    },
    {
     "data": {
      "text/html": [
       "<a href=\"Results/Titanic Saw C3 - resynth.wav\" target=\"_blank\">Titanic Saw C3: loss=113.69%</a>"
      ],
      "text/plain": [
       "<IPython.core.display.HTML object>"
      ]
     },
     "metadata": {},
     "output_type": "display_data"
    },
    {
     "data": {
      "text/html": [
       "<a href=\"Results/Amanda Stacc Da 3 C3 - resynth.wav\" target=\"_blank\">Amanda Stacc Da 3 C3: loss=114.15%</a>"
      ],
      "text/plain": [
       "<IPython.core.display.HTML object>"
      ]
     },
     "metadata": {},
     "output_type": "display_data"
    },
    {
     "data": {
      "text/html": [
       "<a href=\"Results/Detuned Trance C4 - resynth.wav\" target=\"_blank\">Detuned Trance C4: loss=115.18%</a>"
      ],
      "text/plain": [
       "<IPython.core.display.HTML object>"
      ]
     },
     "metadata": {},
     "output_type": "display_data"
    },
    {
     "data": {
      "text/html": [
       "<a href=\"Results/Carrouselle C3 - resynth.wav\" target=\"_blank\">Carrouselle C3: loss=115.63%</a>"
      ],
      "text/plain": [
       "<IPython.core.display.HTML object>"
      ]
     },
     "metadata": {},
     "output_type": "display_data"
    },
    {
     "data": {
      "text/html": [
       "<a href=\"Results/Morph Garden Maj C3 - resynth.wav\" target=\"_blank\">Morph Garden Maj C3: loss=115.99%</a>"
      ],
      "text/plain": [
       "<IPython.core.display.HTML object>"
      ]
     },
     "metadata": {},
     "output_type": "display_data"
    },
    {
     "data": {
      "text/html": [
       "<a href=\"Results/E-Mu-Proteus-FX-BasClrnt-C3 - resynth.wav\" target=\"_blank\">E-Mu-Proteus-FX-BasClrnt-C3: loss=116.26%</a>"
      ],
      "text/plain": [
       "<IPython.core.display.HTML object>"
      ]
     },
     "metadata": {},
     "output_type": "display_data"
    },
    {
     "data": {
      "text/html": [
       "<a href=\"Results/Sunrise Over Iceland C3 - resynth.wav\" target=\"_blank\">Sunrise Over Iceland C3: loss=116.37%</a>"
      ],
      "text/plain": [
       "<IPython.core.display.HTML object>"
      ]
     },
     "metadata": {},
     "output_type": "display_data"
    },
    {
     "data": {
      "text/html": [
       "<a href=\"Results/Ensoniq-VFX-SD-Fat-Brass-C4 - resynth.wav\" target=\"_blank\">Ensoniq-VFX-SD-Fat-Brass-C4: loss=116.52%</a>"
      ],
      "text/plain": [
       "<IPython.core.display.HTML object>"
      ]
     },
     "metadata": {},
     "output_type": "display_data"
    },
    {
     "data": {
      "text/html": [
       "<a href=\"Results/Fault C3 - resynth.wav\" target=\"_blank\">Fault C3: loss=116.81%</a>"
      ],
      "text/plain": [
       "<IPython.core.display.HTML object>"
      ]
     },
     "metadata": {},
     "output_type": "display_data"
    },
    {
     "data": {
      "text/html": [
       "<a href=\"Results/Amanda Eh 3 C3 - resynth.wav\" target=\"_blank\">Amanda Eh 3 C3: loss=117.03%</a>"
      ],
      "text/plain": [
       "<IPython.core.display.HTML object>"
      ]
     },
     "metadata": {},
     "output_type": "display_data"
    },
    {
     "data": {
      "text/html": [
       "<a href=\"Results/Tangerine C3 - resynth.wav\" target=\"_blank\">Tangerine C3: loss=117.09%</a>"
      ],
      "text/plain": [
       "<IPython.core.display.HTML object>"
      ]
     },
     "metadata": {},
     "output_type": "display_data"
    },
    {
     "data": {
      "text/html": [
       "<a href=\"Results/Alesis-Sanctuary-QCard-Harpsichrd-C3 - resynth.wav\" target=\"_blank\">Alesis-Sanctuary-QCard-Harpsichrd-C3: loss=117.32%</a>"
      ],
      "text/plain": [
       "<IPython.core.display.HTML object>"
      ]
     },
     "metadata": {},
     "output_type": "display_data"
    },
    {
     "data": {
      "text/html": [
       "<a href=\"Results/Glissing Resonance 01 C3 - resynth.wav\" target=\"_blank\">Glissing Resonance 01 C3: loss=117.36%</a>"
      ],
      "text/plain": [
       "<IPython.core.display.HTML object>"
      ]
     },
     "metadata": {},
     "output_type": "display_data"
    },
    {
     "data": {
      "text/html": [
       "<a href=\"Results/Ensoniq-SQ-1-Dyno-Keys-C4 - resynth.wav\" target=\"_blank\">Ensoniq-SQ-1-Dyno-Keys-C4: loss=117.45%</a>"
      ],
      "text/plain": [
       "<IPython.core.display.HTML object>"
      ]
     },
     "metadata": {},
     "output_type": "display_data"
    },
    {
     "data": {
      "text/html": [
       "<a href=\"Results/Harpsicord C3 - resynth.wav\" target=\"_blank\">Harpsicord C3: loss=117.68%</a>"
      ],
      "text/plain": [
       "<IPython.core.display.HTML object>"
      ]
     },
     "metadata": {},
     "output_type": "display_data"
    },
    {
     "data": {
      "text/html": [
       "<a href=\"Results/Mellotron Flute C3 - resynth.wav\" target=\"_blank\">Mellotron Flute C3: loss=117.88%</a>"
      ],
      "text/plain": [
       "<IPython.core.display.HTML object>"
      ]
     },
     "metadata": {},
     "output_type": "display_data"
    },
    {
     "data": {
      "text/html": [
       "<a href=\"Results/Beautiful Sky C3 - resynth.wav\" target=\"_blank\">Beautiful Sky C3: loss=118.21%</a>"
      ],
      "text/plain": [
       "<IPython.core.display.HTML object>"
      ]
     },
     "metadata": {},
     "output_type": "display_data"
    },
    {
     "data": {
      "text/html": [
       "<a href=\"Results/Alesis-S4-Plus-Harpsifunk-C3 - resynth.wav\" target=\"_blank\">Alesis-S4-Plus-Harpsifunk-C3: loss=118.31%</a>"
      ],
      "text/plain": [
       "<IPython.core.display.HTML object>"
      ]
     },
     "metadata": {},
     "output_type": "display_data"
    },
    {
     "data": {
      "text/html": [
       "<a href=\"Results/Alesis-S4-Plus-Clean-Gtr-C4 - resynth.wav\" target=\"_blank\">Alesis-S4-Plus-Clean-Gtr-C4: loss=118.72%</a>"
      ],
      "text/plain": [
       "<IPython.core.display.HTML object>"
      ]
     },
     "metadata": {},
     "output_type": "display_data"
    },
    {
     "data": {
      "text/html": [
       "<a href=\"Results/MM Love It Synth C3 128bpm 16bts - resynth.wav\" target=\"_blank\">MM Love It Synth C3 128bpm 16bts: loss=119.12%</a>"
      ],
      "text/plain": [
       "<IPython.core.display.HTML object>"
      ]
     },
     "metadata": {},
     "output_type": "display_data"
    },
    {
     "data": {
      "text/html": [
       "<a href=\"Results/80s Analog Duck Lead C3 - resynth.wav\" target=\"_blank\">80s Analog Duck Lead C3: loss=119.13%</a>"
      ],
      "text/plain": [
       "<IPython.core.display.HTML object>"
      ]
     },
     "metadata": {},
     "output_type": "display_data"
    },
    {
     "data": {
      "text/html": [
       "<a href=\"Results/EPiano FM Hard C3 - resynth.wav\" target=\"_blank\">EPiano FM Hard C3: loss=119.37%</a>"
      ],
      "text/plain": [
       "<IPython.core.display.HTML object>"
      ]
     },
     "metadata": {},
     "output_type": "display_data"
    },
    {
     "data": {
      "text/html": [
       "<a href=\"Results/FM Zing C3 - resynth.wav\" target=\"_blank\">FM Zing C3: loss=119.59%</a>"
      ],
      "text/plain": [
       "<IPython.core.display.HTML object>"
      ]
     },
     "metadata": {},
     "output_type": "display_data"
    },
    {
     "data": {
      "text/html": [
       "<a href=\"Results/Acoustic Guitar 2 Plect 1 C4 - resynth.wav\" target=\"_blank\">Acoustic Guitar 2 Plect 1 C4: loss=119.88%</a>"
      ],
      "text/plain": [
       "<IPython.core.display.HTML object>"
      ]
     },
     "metadata": {},
     "output_type": "display_data"
    },
    {
     "data": {
      "text/html": [
       "<a href=\"Results/Rich Harmonics C3 - resynth.wav\" target=\"_blank\">Rich Harmonics C3: loss=120.46%</a>"
      ],
      "text/plain": [
       "<IPython.core.display.HTML object>"
      ]
     },
     "metadata": {},
     "output_type": "display_data"
    },
    {
     "data": {
      "text/html": [
       "<a href=\"Results/Ether Vent C3 - resynth.wav\" target=\"_blank\">Ether Vent C3: loss=120.87%</a>"
      ],
      "text/plain": [
       "<IPython.core.display.HTML object>"
      ]
     },
     "metadata": {},
     "output_type": "display_data"
    },
    {
     "data": {
      "text/html": [
       "<a href=\"Results/Ensoniq-ZR-76-Bellmen-C4 - resynth.wav\" target=\"_blank\">Ensoniq-ZR-76-Bellmen-C4: loss=122.61%</a>"
      ],
      "text/plain": [
       "<IPython.core.display.HTML object>"
      ]
     },
     "metadata": {},
     "output_type": "display_data"
    },
    {
     "data": {
      "text/html": [
       "<a href=\"Results/Mini M Attack Sust Bass C3 - resynth.wav\" target=\"_blank\">Mini M Attack Sust Bass C3: loss=122.67%</a>"
      ],
      "text/plain": [
       "<IPython.core.display.HTML object>"
      ]
     },
     "metadata": {},
     "output_type": "display_data"
    },
    {
     "data": {
      "text/html": [
       "<a href=\"Results/Bell Attack Pad C4 - resynth.wav\" target=\"_blank\">Bell Attack Pad C4: loss=123.10%</a>"
      ],
      "text/plain": [
       "<IPython.core.display.HTML object>"
      ]
     },
     "metadata": {},
     "output_type": "display_data"
    },
    {
     "data": {
      "text/html": [
       "<a href=\"Results/Chorus f Guitar C3 - resynth.wav\" target=\"_blank\">Chorus f Guitar C3: loss=123.46%</a>"
      ],
      "text/plain": [
       "<IPython.core.display.HTML object>"
      ]
     },
     "metadata": {},
     "output_type": "display_data"
    },
    {
     "data": {
      "text/html": [
       "<a href=\"Results/Yamaha-FS1r-EP-Wide-C4 - resynth.wav\" target=\"_blank\">Yamaha-FS1r-EP-Wide-C4: loss=124.01%</a>"
      ],
      "text/plain": [
       "<IPython.core.display.HTML object>"
      ]
     },
     "metadata": {},
     "output_type": "display_data"
    },
    {
     "data": {
      "text/html": [
       "<a href=\"Results/Analog Chordy C3 - resynth.wav\" target=\"_blank\">Analog Chordy C3: loss=124.07%</a>"
      ],
      "text/plain": [
       "<IPython.core.display.HTML object>"
      ]
     },
     "metadata": {},
     "output_type": "display_data"
    },
    {
     "data": {
      "text/html": [
       "<a href=\"Results/Analog Open Saws C3 - resynth.wav\" target=\"_blank\">Analog Open Saws C3: loss=124.11%</a>"
      ],
      "text/plain": [
       "<IPython.core.display.HTML object>"
      ]
     },
     "metadata": {},
     "output_type": "display_data"
    },
    {
     "data": {
      "text/html": [
       "<a href=\"Results/Smooth FM C3 - resynth.wav\" target=\"_blank\">Smooth FM C3: loss=124.49%</a>"
      ],
      "text/plain": [
       "<IPython.core.display.HTML object>"
      ]
     },
     "metadata": {},
     "output_type": "display_data"
    },
    {
     "data": {
      "text/html": [
       "<a href=\"Results/Key Guitar C3 - resynth.wav\" target=\"_blank\">Key Guitar C3: loss=124.56%</a>"
      ],
      "text/plain": [
       "<IPython.core.display.HTML object>"
      ]
     },
     "metadata": {},
     "output_type": "display_data"
    },
    {
     "data": {
      "text/html": [
       "<a href=\"Results/Slight Buzz Guitar C4 - resynth.wav\" target=\"_blank\">Slight Buzz Guitar C4: loss=124.84%</a>"
      ],
      "text/plain": [
       "<IPython.core.display.HTML object>"
      ]
     },
     "metadata": {},
     "output_type": "display_data"
    },
    {
     "data": {
      "text/html": [
       "<a href=\"Results/Stereo Pwm C3 - resynth.wav\" target=\"_blank\">Stereo Pwm C3: loss=125.00%</a>"
      ],
      "text/plain": [
       "<IPython.core.display.HTML object>"
      ]
     },
     "metadata": {},
     "output_type": "display_data"
    },
    {
     "data": {
      "text/html": [
       "<a href=\"Results/Super Saw C3 - resynth.wav\" target=\"_blank\">Super Saw C3: loss=125.17%</a>"
      ],
      "text/plain": [
       "<IPython.core.display.HTML object>"
      ]
     },
     "metadata": {},
     "output_type": "display_data"
    },
    {
     "data": {
      "text/html": [
       "<a href=\"Results/Square FM Relaxed C3 - resynth.wav\" target=\"_blank\">Square FM Relaxed C3: loss=126.37%</a>"
      ],
      "text/plain": [
       "<IPython.core.display.HTML object>"
      ]
     },
     "metadata": {},
     "output_type": "display_data"
    },
    {
     "data": {
      "text/html": [
       "<a href=\"Results/80s Classic Synth C3 - resynth.wav\" target=\"_blank\">80s Classic Synth C3: loss=126.59%</a>"
      ],
      "text/plain": [
       "<IPython.core.display.HTML object>"
      ]
     },
     "metadata": {},
     "output_type": "display_data"
    },
    {
     "data": {
      "text/html": [
       "<a href=\"Results/FM Guitar C3 - resynth.wav\" target=\"_blank\">FM Guitar C3: loss=126.60%</a>"
      ],
      "text/plain": [
       "<IPython.core.display.HTML object>"
      ]
     },
     "metadata": {},
     "output_type": "display_data"
    },
    {
     "data": {
      "text/html": [
       "<a href=\"Results/Amanda Stacc Aa 2 C3 - resynth.wav\" target=\"_blank\">Amanda Stacc Aa 2 C3: loss=126.67%</a>"
      ],
      "text/plain": [
       "<IPython.core.display.HTML object>"
      ]
     },
     "metadata": {},
     "output_type": "display_data"
    },
    {
     "data": {
      "text/html": [
       "<a href=\"Results/Sonar C4 - resynth.wav\" target=\"_blank\">Sonar C4: loss=127.45%</a>"
      ],
      "text/plain": [
       "<IPython.core.display.HTML object>"
      ]
     },
     "metadata": {},
     "output_type": "display_data"
    },
    {
     "data": {
      "text/html": [
       "<a href=\"Results/Acoustic Guitar 2 Pchord 3 C3 - resynth.wav\" target=\"_blank\">Acoustic Guitar 2 Pchord 3 C3: loss=127.86%</a>"
      ],
      "text/plain": [
       "<IPython.core.display.HTML object>"
      ]
     },
     "metadata": {},
     "output_type": "display_data"
    },
    {
     "data": {
      "text/html": [
       "<a href=\"Results/Beautiful Sky C4 - resynth.wav\" target=\"_blank\">Beautiful Sky C4: loss=127.92%</a>"
      ],
      "text/plain": [
       "<IPython.core.display.HTML object>"
      ]
     },
     "metadata": {},
     "output_type": "display_data"
    },
    {
     "data": {
      "text/html": [
       "<a href=\"Results/Coral Sweep C4 - resynth.wav\" target=\"_blank\">Coral Sweep C4: loss=128.66%</a>"
      ],
      "text/plain": [
       "<IPython.core.display.HTML object>"
      ]
     },
     "metadata": {},
     "output_type": "display_data"
    },
    {
     "data": {
      "text/html": [
       "<a href=\"Results/Tech Saw 17 C4 - resynth.wav\" target=\"_blank\">Tech Saw 17 C4: loss=128.81%</a>"
      ],
      "text/plain": [
       "<IPython.core.display.HTML object>"
      ]
     },
     "metadata": {},
     "output_type": "display_data"
    },
    {
     "data": {
      "text/html": [
       "<a href=\"Results/Layer Universe C4 - resynth.wav\" target=\"_blank\">Layer Universe C4: loss=129.04%</a>"
      ],
      "text/plain": [
       "<IPython.core.display.HTML object>"
      ]
     },
     "metadata": {},
     "output_type": "display_data"
    },
    {
     "data": {
      "text/html": [
       "<a href=\"Results/Tubular Bell C3 - resynth.wav\" target=\"_blank\">Tubular Bell C3: loss=129.24%</a>"
      ],
      "text/plain": [
       "<IPython.core.display.HTML object>"
      ]
     },
     "metadata": {},
     "output_type": "display_data"
    },
    {
     "data": {
      "text/html": [
       "<a href=\"Results/String Bell C3 - resynth.wav\" target=\"_blank\">String Bell C3: loss=129.42%</a>"
      ],
      "text/plain": [
       "<IPython.core.display.HTML object>"
      ]
     },
     "metadata": {},
     "output_type": "display_data"
    },
    {
     "data": {
      "text/html": [
       "<a href=\"Results/Orch Upright Bass C3 - resynth.wav\" target=\"_blank\">Orch Upright Bass C3: loss=132.06%</a>"
      ],
      "text/plain": [
       "<IPython.core.display.HTML object>"
      ]
     },
     "metadata": {},
     "output_type": "display_data"
    },
    {
     "data": {
      "text/html": [
       "<a href=\"Results/Chiptone C4 - resynth.wav\" target=\"_blank\">Chiptone C4: loss=132.24%</a>"
      ],
      "text/plain": [
       "<IPython.core.display.HTML object>"
      ]
     },
     "metadata": {},
     "output_type": "display_data"
    },
    {
     "data": {
      "text/html": [
       "<a href=\"Results/Polyphonic Ensemble C4 - resynth.wav\" target=\"_blank\">Polyphonic Ensemble C4: loss=132.72%</a>"
      ],
      "text/plain": [
       "<IPython.core.display.HTML object>"
      ]
     },
     "metadata": {},
     "output_type": "display_data"
    },
    {
     "data": {
      "text/html": [
       "<a href=\"Results/Cherry Aa 3 C3 - resynth.wav\" target=\"_blank\">Cherry Aa 3 C3: loss=132.87%</a>"
      ],
      "text/plain": [
       "<IPython.core.display.HTML object>"
      ]
     },
     "metadata": {},
     "output_type": "display_data"
    },
    {
     "data": {
      "text/html": [
       "<a href=\"Results/West Coast Synth Stereo Soft Sync 2 C3 - resynth.wav\" target=\"_blank\">West Coast Synth Stereo Soft Sync 2 C3: loss=133.63%</a>"
      ],
      "text/plain": [
       "<IPython.core.display.HTML object>"
      ]
     },
     "metadata": {},
     "output_type": "display_data"
    },
    {
     "data": {
      "text/html": [
       "<a href=\"Results/Ensoniq-ZR-76-B-Psaltery-C4 - resynth.wav\" target=\"_blank\">Ensoniq-ZR-76-B-Psaltery-C4: loss=134.50%</a>"
      ],
      "text/plain": [
       "<IPython.core.display.HTML object>"
      ]
     },
     "metadata": {},
     "output_type": "display_data"
    },
    {
     "data": {
      "text/html": [
       "<a href=\"Results/Amanda Eh 1 C3 - resynth.wav\" target=\"_blank\">Amanda Eh 1 C3: loss=134.71%</a>"
      ],
      "text/plain": [
       "<IPython.core.display.HTML object>"
      ]
     },
     "metadata": {},
     "output_type": "display_data"
    },
    {
     "data": {
      "text/html": [
       "<a href=\"Results/FM Human Voice Hoo C4 - resynth.wav\" target=\"_blank\">FM Human Voice Hoo C4: loss=135.96%</a>"
      ],
      "text/plain": [
       "<IPython.core.display.HTML object>"
      ]
     },
     "metadata": {},
     "output_type": "display_data"
    },
    {
     "data": {
      "text/html": [
       "<a href=\"Results/Brass Blast C4 - resynth.wav\" target=\"_blank\">Brass Blast C4: loss=136.36%</a>"
      ],
      "text/plain": [
       "<IPython.core.display.HTML object>"
      ]
     },
     "metadata": {},
     "output_type": "display_data"
    },
    {
     "data": {
      "text/html": [
       "<a href=\"Results/Filter Resonance 01 C3 - resynth.wav\" target=\"_blank\">Filter Resonance 01 C3: loss=136.95%</a>"
      ],
      "text/plain": [
       "<IPython.core.display.HTML object>"
      ]
     },
     "metadata": {},
     "output_type": "display_data"
    },
    {
     "data": {
      "text/html": [
       "<a href=\"Results/Analog Unison Lead C3 - resynth.wav\" target=\"_blank\">Analog Unison Lead C3: loss=137.45%</a>"
      ],
      "text/plain": [
       "<IPython.core.display.HTML object>"
      ]
     },
     "metadata": {},
     "output_type": "display_data"
    },
    {
     "data": {
      "text/html": [
       "<a href=\"Results/Vintage String Synth C4 - resynth.wav\" target=\"_blank\">Vintage String Synth C4: loss=138.65%</a>"
      ],
      "text/plain": [
       "<IPython.core.display.HTML object>"
      ]
     },
     "metadata": {},
     "output_type": "display_data"
    },
    {
     "data": {
      "text/html": [
       "<a href=\"Results/Techno Bass 1 C3 127 - resynth.wav\" target=\"_blank\">Techno Bass 1 C3 127: loss=139.23%</a>"
      ],
      "text/plain": [
       "<IPython.core.display.HTML object>"
      ]
     },
     "metadata": {},
     "output_type": "display_data"
    },
    {
     "data": {
      "text/html": [
       "<a href=\"Results/Casio-MT-600-Double-Reed-C3 - resynth.wav\" target=\"_blank\">Casio-MT-600-Double-Reed-C3: loss=139.79%</a>"
      ],
      "text/plain": [
       "<IPython.core.display.HTML object>"
      ]
     },
     "metadata": {},
     "output_type": "display_data"
    },
    {
     "data": {
      "text/html": [
       "<a href=\"Results/PM Bass C3 - resynth.wav\" target=\"_blank\">PM Bass C3: loss=140.71%</a>"
      ],
      "text/plain": [
       "<IPython.core.display.HTML object>"
      ]
     },
     "metadata": {},
     "output_type": "display_data"
    },
    {
     "data": {
      "text/html": [
       "<a href=\"Results/Ring Mod C3 - resynth.wav\" target=\"_blank\">Ring Mod C3: loss=140.89%</a>"
      ],
      "text/plain": [
       "<IPython.core.display.HTML object>"
      ]
     },
     "metadata": {},
     "output_type": "display_data"
    },
    {
     "data": {
      "text/html": [
       "<a href=\"Results/Analog Sync Buzz C4 - resynth.wav\" target=\"_blank\">Analog Sync Buzz C4: loss=142.12%</a>"
      ],
      "text/plain": [
       "<IPython.core.display.HTML object>"
      ]
     },
     "metadata": {},
     "output_type": "display_data"
    },
    {
     "data": {
      "text/html": [
       "<a href=\"Results/Analog Sweep C4 - resynth.wav\" target=\"_blank\">Analog Sweep C4: loss=143.22%</a>"
      ],
      "text/plain": [
       "<IPython.core.display.HTML object>"
      ]
     },
     "metadata": {},
     "output_type": "display_data"
    },
    {
     "data": {
      "text/html": [
       "<a href=\"Results/Wave Table Pad C3 - resynth.wav\" target=\"_blank\">Wave Table Pad C3: loss=143.95%</a>"
      ],
      "text/plain": [
       "<IPython.core.display.HTML object>"
      ]
     },
     "metadata": {},
     "output_type": "display_data"
    },
    {
     "data": {
      "text/html": [
       "<a href=\"Results/Mallet C4 - resynth.wav\" target=\"_blank\">Mallet C4: loss=145.03%</a>"
      ],
      "text/plain": [
       "<IPython.core.display.HTML object>"
      ]
     },
     "metadata": {},
     "output_type": "display_data"
    },
    {
     "data": {
      "text/html": [
       "<a href=\"Results/Analog Open Saws C4 - resynth.wav\" target=\"_blank\">Analog Open Saws C4: loss=145.33%</a>"
      ],
      "text/plain": [
       "<IPython.core.display.HTML object>"
      ]
     },
     "metadata": {},
     "output_type": "display_data"
    },
    {
     "data": {
      "text/html": [
       "<a href=\"Results/Cherry Aa 1 C3 - resynth.wav\" target=\"_blank\">Cherry Aa 1 C3: loss=145.44%</a>"
      ],
      "text/plain": [
       "<IPython.core.display.HTML object>"
      ]
     },
     "metadata": {},
     "output_type": "display_data"
    },
    {
     "data": {
      "text/html": [
       "<a href=\"Results/Wide Trance C4 - resynth.wav\" target=\"_blank\">Wide Trance C4: loss=145.99%</a>"
      ],
      "text/plain": [
       "<IPython.core.display.HTML object>"
      ]
     },
     "metadata": {},
     "output_type": "display_data"
    },
    {
     "data": {
      "text/html": [
       "<a href=\"Results/Mini m Attack Sweep C3 - resynth.wav\" target=\"_blank\">Mini m Attack Sweep C3: loss=146.24%</a>"
      ],
      "text/plain": [
       "<IPython.core.display.HTML object>"
      ]
     },
     "metadata": {},
     "output_type": "display_data"
    },
    {
     "data": {
      "text/html": [
       "<a href=\"Results/FM Human Voice Hoo C3 - resynth.wav\" target=\"_blank\">FM Human Voice Hoo C3: loss=146.70%</a>"
      ],
      "text/plain": [
       "<IPython.core.display.HTML object>"
      ]
     },
     "metadata": {},
     "output_type": "display_data"
    },
    {
     "data": {
      "text/html": [
       "<a href=\"Results/Sitar C3 - resynth.wav\" target=\"_blank\">Sitar C3: loss=148.15%</a>"
      ],
      "text/plain": [
       "<IPython.core.display.HTML object>"
      ]
     },
     "metadata": {},
     "output_type": "display_data"
    },
    {
     "data": {
      "text/html": [
       "<a href=\"Results/Kick Bass C3 - resynth.wav\" target=\"_blank\">Kick Bass C3: loss=149.55%</a>"
      ],
      "text/plain": [
       "<IPython.core.display.HTML object>"
      ]
     },
     "metadata": {},
     "output_type": "display_data"
    },
    {
     "data": {
      "text/html": [
       "<a href=\"Results/West Coast Synth Stereo Soft Sync 1 C3 - resynth.wav\" target=\"_blank\">West Coast Synth Stereo Soft Sync 1 C3: loss=149.75%</a>"
      ],
      "text/plain": [
       "<IPython.core.display.HTML object>"
      ]
     },
     "metadata": {},
     "output_type": "display_data"
    },
    {
     "data": {
      "text/html": [
       "<a href=\"Results/Cherry Aa 2 C3 - resynth.wav\" target=\"_blank\">Cherry Aa 2 C3: loss=149.85%</a>"
      ],
      "text/plain": [
       "<IPython.core.display.HTML object>"
      ]
     },
     "metadata": {},
     "output_type": "display_data"
    },
    {
     "data": {
      "text/html": [
       "<a href=\"Results/Grainy Pad C3 - resynth.wav\" target=\"_blank\">Grainy Pad C3: loss=151.93%</a>"
      ],
      "text/plain": [
       "<IPython.core.display.HTML object>"
      ]
     },
     "metadata": {},
     "output_type": "display_data"
    },
    {
     "data": {
      "text/html": [
       "<a href=\"Results/Throaty Bass C4 - resynth.wav\" target=\"_blank\">Throaty Bass C4: loss=152.69%</a>"
      ],
      "text/plain": [
       "<IPython.core.display.HTML object>"
      ]
     },
     "metadata": {},
     "output_type": "display_data"
    },
    {
     "data": {
      "text/html": [
       "<a href=\"Results/Chime Pad C3 - resynth.wav\" target=\"_blank\">Chime Pad C3: loss=153.46%</a>"
      ],
      "text/plain": [
       "<IPython.core.display.HTML object>"
      ]
     },
     "metadata": {},
     "output_type": "display_data"
    },
    {
     "data": {
      "text/html": [
       "<a href=\"Results/Extreme Voco C4 - resynth.wav\" target=\"_blank\">Extreme Voco C4: loss=155.36%</a>"
      ],
      "text/plain": [
       "<IPython.core.display.HTML object>"
      ]
     },
     "metadata": {},
     "output_type": "display_data"
    },
    {
     "data": {
      "text/html": [
       "<a href=\"Results/Analog Sync Buzz C3 - resynth.wav\" target=\"_blank\">Analog Sync Buzz C3: loss=155.38%</a>"
      ],
      "text/plain": [
       "<IPython.core.display.HTML object>"
      ]
     },
     "metadata": {},
     "output_type": "display_data"
    },
    {
     "data": {
      "text/html": [
       "<a href=\"Results/Hi Modulating Sines C3 - resynth.wav\" target=\"_blank\">Hi Modulating Sines C3: loss=156.54%</a>"
      ],
      "text/plain": [
       "<IPython.core.display.HTML object>"
      ]
     },
     "metadata": {},
     "output_type": "display_data"
    },
    {
     "data": {
      "text/html": [
       "<a href=\"Results/80s Analog Brass C4 - resynth.wav\" target=\"_blank\">80s Analog Brass C4: loss=156.99%</a>"
      ],
      "text/plain": [
       "<IPython.core.display.HTML object>"
      ]
     },
     "metadata": {},
     "output_type": "display_data"
    },
    {
     "data": {
      "text/html": [
       "<a href=\"Results/FM Human Voice Oh C3 - resynth.wav\" target=\"_blank\">FM Human Voice Oh C3: loss=157.37%</a>"
      ],
      "text/plain": [
       "<IPython.core.display.HTML object>"
      ]
     },
     "metadata": {},
     "output_type": "display_data"
    },
    {
     "data": {
      "text/html": [
       "<a href=\"Results/Squelch Bass C3 - resynth.wav\" target=\"_blank\">Squelch Bass C3: loss=157.69%</a>"
      ],
      "text/plain": [
       "<IPython.core.display.HTML object>"
      ]
     },
     "metadata": {},
     "output_type": "display_data"
    },
    {
     "data": {
      "text/html": [
       "<a href=\"Results/Amber Cheese Horror C4 - resynth.wav\" target=\"_blank\">Amber Cheese Horror C4: loss=159.04%</a>"
      ],
      "text/plain": [
       "<IPython.core.display.HTML object>"
      ]
     },
     "metadata": {},
     "output_type": "display_data"
    },
    {
     "data": {
      "text/html": [
       "<a href=\"Results/Sitar C4 - resynth.wav\" target=\"_blank\">Sitar C4: loss=159.92%</a>"
      ],
      "text/plain": [
       "<IPython.core.display.HTML object>"
      ]
     },
     "metadata": {},
     "output_type": "display_data"
    },
    {
     "data": {
      "text/html": [
       "<a href=\"Results/Mellotron Flute C4 - resynth.wav\" target=\"_blank\">Mellotron Flute C4: loss=160.35%</a>"
      ],
      "text/plain": [
       "<IPython.core.display.HTML object>"
      ]
     },
     "metadata": {},
     "output_type": "display_data"
    },
    {
     "data": {
      "text/html": [
       "<a href=\"Results/Alesis-Fusion-Sitar-C4 - resynth.wav\" target=\"_blank\">Alesis-Fusion-Sitar-C4: loss=160.53%</a>"
      ],
      "text/plain": [
       "<IPython.core.display.HTML object>"
      ]
     },
     "metadata": {},
     "output_type": "display_data"
    },
    {
     "data": {
      "text/html": [
       "<a href=\"Results/E-Mu-Proteus-FX-StereoSax-C4 - resynth.wav\" target=\"_blank\">E-Mu-Proteus-FX-StereoSax-C4: loss=161.32%</a>"
      ],
      "text/plain": [
       "<IPython.core.display.HTML object>"
      ]
     },
     "metadata": {},
     "output_type": "display_data"
    },
    {
     "data": {
      "text/html": [
       "<a href=\"Results/Three Saw Buzz C3 - resynth.wav\" target=\"_blank\">Three Saw Buzz C3: loss=162.21%</a>"
      ],
      "text/plain": [
       "<IPython.core.display.HTML object>"
      ]
     },
     "metadata": {},
     "output_type": "display_data"
    },
    {
     "data": {
      "text/html": [
       "<a href=\"Results/Throaty Bass C3 - resynth.wav\" target=\"_blank\">Throaty Bass C3: loss=162.25%</a>"
      ],
      "text/plain": [
       "<IPython.core.display.HTML object>"
      ]
     },
     "metadata": {},
     "output_type": "display_data"
    },
    {
     "data": {
      "text/html": [
       "<a href=\"Results/Choir Ooh C4 - resynth.wav\" target=\"_blank\">Choir Ooh C4: loss=164.34%</a>"
      ],
      "text/plain": [
       "<IPython.core.display.HTML object>"
      ]
     },
     "metadata": {},
     "output_type": "display_data"
    },
    {
     "data": {
      "text/html": [
       "<a href=\"Results/80s Digital Synth Cinematic 5th C3 - resynth.wav\" target=\"_blank\">80s Digital Synth Cinematic 5th C3: loss=164.63%</a>"
      ],
      "text/plain": [
       "<IPython.core.display.HTML object>"
      ]
     },
     "metadata": {},
     "output_type": "display_data"
    },
    {
     "data": {
      "text/html": [
       "<a href=\"Results/Easetern Wind Pad C3 - resynth.wav\" target=\"_blank\">Easetern Wind Pad C3: loss=164.75%</a>"
      ],
      "text/plain": [
       "<IPython.core.display.HTML object>"
      ]
     },
     "metadata": {},
     "output_type": "display_data"
    },
    {
     "data": {
      "text/html": [
       "<a href=\"Results/FM Voice Raw C3 - resynth.wav\" target=\"_blank\">FM Voice Raw C3: loss=166.07%</a>"
      ],
      "text/plain": [
       "<IPython.core.display.HTML object>"
      ]
     },
     "metadata": {},
     "output_type": "display_data"
    },
    {
     "data": {
      "text/html": [
       "<a href=\"Results/Casio-CZ-5000-Violin-C4 - resynth.wav\" target=\"_blank\">Casio-CZ-5000-Violin-C4: loss=166.43%</a>"
      ],
      "text/plain": [
       "<IPython.core.display.HTML object>"
      ]
     },
     "metadata": {},
     "output_type": "display_data"
    },
    {
     "data": {
      "text/html": [
       "<a href=\"Results/Doctor C3 - resynth.wav\" target=\"_blank\">Doctor C3: loss=166.44%</a>"
      ],
      "text/plain": [
       "<IPython.core.display.HTML object>"
      ]
     },
     "metadata": {},
     "output_type": "display_data"
    },
    {
     "data": {
      "text/html": [
       "<a href=\"Results/Analog Wow Bass C3 - resynth.wav\" target=\"_blank\">Analog Wow Bass C3: loss=171.68%</a>"
      ],
      "text/plain": [
       "<IPython.core.display.HTML object>"
      ]
     },
     "metadata": {},
     "output_type": "display_data"
    },
    {
     "data": {
      "text/html": [
       "<a href=\"Results/Filter Resonance 02 C3 - resynth.wav\" target=\"_blank\">Filter Resonance 02 C3: loss=176.20%</a>"
      ],
      "text/plain": [
       "<IPython.core.display.HTML object>"
      ]
     },
     "metadata": {},
     "output_type": "display_data"
    },
    {
     "data": {
      "text/html": [
       "<a href=\"Results/FM Tubular Bells C3 - resynth.wav\" target=\"_blank\">FM Tubular Bells C3: loss=176.48%</a>"
      ],
      "text/plain": [
       "<IPython.core.display.HTML object>"
      ]
     },
     "metadata": {},
     "output_type": "display_data"
    },
    {
     "data": {
      "text/html": [
       "<a href=\"Results/Ambient Drift f 3 C4 - resynth.wav\" target=\"_blank\">Ambient Drift f 3 C4: loss=177.08%</a>"
      ],
      "text/plain": [
       "<IPython.core.display.HTML object>"
      ]
     },
     "metadata": {},
     "output_type": "display_data"
    },
    {
     "data": {
      "text/html": [
       "<a href=\"Results/Cherry Ha Ee Oh Wa Swarm FX C3 - resynth.wav\" target=\"_blank\">Cherry Ha Ee Oh Wa Swarm FX C3: loss=177.21%</a>"
      ],
      "text/plain": [
       "<IPython.core.display.HTML object>"
      ]
     },
     "metadata": {},
     "output_type": "display_data"
    },
    {
     "data": {
      "text/html": [
       "<a href=\"Results/FM Zing C4 - resynth.wav\" target=\"_blank\">FM Zing C4: loss=177.41%</a>"
      ],
      "text/plain": [
       "<IPython.core.display.HTML object>"
      ]
     },
     "metadata": {},
     "output_type": "display_data"
    },
    {
     "data": {
      "text/html": [
       "<a href=\"Results/Mellotron Choir C4 - resynth.wav\" target=\"_blank\">Mellotron Choir C4: loss=177.67%</a>"
      ],
      "text/plain": [
       "<IPython.core.display.HTML object>"
      ]
     },
     "metadata": {},
     "output_type": "display_data"
    },
    {
     "data": {
      "text/html": [
       "<a href=\"Results/80s Analog Sqw Ow C3 - resynth.wav\" target=\"_blank\">80s Analog Sqw Ow C3: loss=179.00%</a>"
      ],
      "text/plain": [
       "<IPython.core.display.HTML object>"
      ]
     },
     "metadata": {},
     "output_type": "display_data"
    },
    {
     "data": {
      "text/html": [
       "<a href=\"Results/Mini 3 VCO Saws C4 - resynth.wav\" target=\"_blank\">Mini 3 VCO Saws C4: loss=180.38%</a>"
      ],
      "text/plain": [
       "<IPython.core.display.HTML object>"
      ]
     },
     "metadata": {},
     "output_type": "display_data"
    },
    {
     "data": {
      "text/html": [
       "<a href=\"Results/Aqua Sonic Klang C3 1 - resynth.wav\" target=\"_blank\">Aqua Sonic Klang C3 1: loss=180.39%</a>"
      ],
      "text/plain": [
       "<IPython.core.display.HTML object>"
      ]
     },
     "metadata": {},
     "output_type": "display_data"
    },
    {
     "data": {
      "text/html": [
       "<a href=\"Results/Mini m Attack Sweep C4 - resynth.wav\" target=\"_blank\">Mini m Attack Sweep C4: loss=180.55%</a>"
      ],
      "text/plain": [
       "<IPython.core.display.HTML object>"
      ]
     },
     "metadata": {},
     "output_type": "display_data"
    },
    {
     "data": {
      "text/html": [
       "<a href=\"Results/Classic Wavetables C4 - resynth.wav\" target=\"_blank\">Classic Wavetables C4: loss=180.81%</a>"
      ],
      "text/plain": [
       "<IPython.core.display.HTML object>"
      ]
     },
     "metadata": {},
     "output_type": "display_data"
    },
    {
     "data": {
      "text/html": [
       "<a href=\"Results/Mallet C3 - resynth.wav\" target=\"_blank\">Mallet C3: loss=180.83%</a>"
      ],
      "text/plain": [
       "<IPython.core.display.HTML object>"
      ]
     },
     "metadata": {},
     "output_type": "display_data"
    },
    {
     "data": {
      "text/html": [
       "<a href=\"Results/80s Digital Synth 5th Lead C3 - resynth.wav\" target=\"_blank\">80s Digital Synth 5th Lead C3: loss=181.17%</a>"
      ],
      "text/plain": [
       "<IPython.core.display.HTML object>"
      ]
     },
     "metadata": {},
     "output_type": "display_data"
    },
    {
     "data": {
      "text/html": [
       "<a href=\"Results/Analog Wave C4 - resynth.wav\" target=\"_blank\">Analog Wave C4: loss=181.76%</a>"
      ],
      "text/plain": [
       "<IPython.core.display.HTML object>"
      ]
     },
     "metadata": {},
     "output_type": "display_data"
    },
    {
     "data": {
      "text/html": [
       "<a href=\"Results/Retro Modular Rich Pulse C4 - resynth.wav\" target=\"_blank\">Retro Modular Rich Pulse C4: loss=182.04%</a>"
      ],
      "text/plain": [
       "<IPython.core.display.HTML object>"
      ]
     },
     "metadata": {},
     "output_type": "display_data"
    },
    {
     "data": {
      "text/html": [
       "<a href=\"Results/FM Guitar C4 - resynth.wav\" target=\"_blank\">FM Guitar C4: loss=182.21%</a>"
      ],
      "text/plain": [
       "<IPython.core.display.HTML object>"
      ]
     },
     "metadata": {},
     "output_type": "display_data"
    },
    {
     "data": {
      "text/html": [
       "<a href=\"Results/80s Analog Raspy Trem C4 - resynth.wav\" target=\"_blank\">80s Analog Raspy Trem C4: loss=182.37%</a>"
      ],
      "text/plain": [
       "<IPython.core.display.HTML object>"
      ]
     },
     "metadata": {},
     "output_type": "display_data"
    },
    {
     "data": {
      "text/html": [
       "<a href=\"Results/Analog Pulse Lead C3 - resynth.wav\" target=\"_blank\">Analog Pulse Lead C3: loss=183.38%</a>"
      ],
      "text/plain": [
       "<IPython.core.display.HTML object>"
      ]
     },
     "metadata": {},
     "output_type": "display_data"
    },
    {
     "data": {
      "text/html": [
       "<a href=\"Results/Voxtron ff C3 - resynth.wav\" target=\"_blank\">Voxtron ff C3: loss=185.52%</a>"
      ],
      "text/plain": [
       "<IPython.core.display.HTML object>"
      ]
     },
     "metadata": {},
     "output_type": "display_data"
    },
    {
     "data": {
      "text/html": [
       "<a href=\"Results/Fat And Dirty C3 2 - resynth.wav\" target=\"_blank\">Fat And Dirty C3 2: loss=185.94%</a>"
      ],
      "text/plain": [
       "<IPython.core.display.HTML object>"
      ]
     },
     "metadata": {},
     "output_type": "display_data"
    },
    {
     "data": {
      "text/html": [
       "<a href=\"Results/Distorted Sonar C4 - resynth.wav\" target=\"_blank\">Distorted Sonar C4: loss=188.88%</a>"
      ],
      "text/plain": [
       "<IPython.core.display.HTML object>"
      ]
     },
     "metadata": {},
     "output_type": "display_data"
    },
    {
     "data": {
      "text/html": [
       "<a href=\"Results/Retro Synth Strings 3 C4 - resynth.wav\" target=\"_blank\">Retro Synth Strings 3 C4: loss=190.39%</a>"
      ],
      "text/plain": [
       "<IPython.core.display.HTML object>"
      ]
     },
     "metadata": {},
     "output_type": "display_data"
    },
    {
     "data": {
      "text/html": [
       "<a href=\"Results/Three Saw Buzz C4 - resynth.wav\" target=\"_blank\">Three Saw Buzz C4: loss=192.53%</a>"
      ],
      "text/plain": [
       "<IPython.core.display.HTML object>"
      ]
     },
     "metadata": {},
     "output_type": "display_data"
    },
    {
     "data": {
      "text/html": [
       "<a href=\"Results/Super Saw C4 - resynth.wav\" target=\"_blank\">Super Saw C4: loss=193.97%</a>"
      ],
      "text/plain": [
       "<IPython.core.display.HTML object>"
      ]
     },
     "metadata": {},
     "output_type": "display_data"
    },
    {
     "data": {
      "text/html": [
       "<a href=\"Results/Analog Saw Mod Wave C3 - resynth.wav\" target=\"_blank\">Analog Saw Mod Wave C3: loss=194.47%</a>"
      ],
      "text/plain": [
       "<IPython.core.display.HTML object>"
      ]
     },
     "metadata": {},
     "output_type": "display_data"
    },
    {
     "data": {
      "text/html": [
       "<a href=\"Results/80s Digital Synth Cinematic 5th C4 - resynth.wav\" target=\"_blank\">80s Digital Synth Cinematic 5th C4: loss=194.63%</a>"
      ],
      "text/plain": [
       "<IPython.core.display.HTML object>"
      ]
     },
     "metadata": {},
     "output_type": "display_data"
    },
    {
     "data": {
      "text/html": [
       "<a href=\"Results/FM Bass C3 - resynth.wav\" target=\"_blank\">FM Bass C3: loss=194.95%</a>"
      ],
      "text/plain": [
       "<IPython.core.display.HTML object>"
      ]
     },
     "metadata": {},
     "output_type": "display_data"
    },
    {
     "data": {
      "text/html": [
       "<a href=\"Results/VP 330 Male Choir C3 - resynth.wav\" target=\"_blank\">VP 330 Male Choir C3: loss=195.19%</a>"
      ],
      "text/plain": [
       "<IPython.core.display.HTML object>"
      ]
     },
     "metadata": {},
     "output_type": "display_data"
    },
    {
     "data": {
      "text/html": [
       "<a href=\"Results/Analog Deep C3 - resynth.wav\" target=\"_blank\">Analog Deep C3: loss=195.85%</a>"
      ],
      "text/plain": [
       "<IPython.core.display.HTML object>"
      ]
     },
     "metadata": {},
     "output_type": "display_data"
    },
    {
     "data": {
      "text/html": [
       "<a href=\"Results/80s Analog Hoover C3 - resynth.wav\" target=\"_blank\">80s Analog Hoover C3: loss=195.93%</a>"
      ],
      "text/plain": [
       "<IPython.core.display.HTML object>"
      ]
     },
     "metadata": {},
     "output_type": "display_data"
    },
    {
     "data": {
      "text/html": [
       "<a href=\"Results/Chorus f Guitar C4 - resynth.wav\" target=\"_blank\">Chorus f Guitar C4: loss=198.22%</a>"
      ],
      "text/plain": [
       "<IPython.core.display.HTML object>"
      ]
     },
     "metadata": {},
     "output_type": "display_data"
    },
    {
     "data": {
      "text/html": [
       "<a href=\"Results/Dirty Swell Bass C3 - resynth.wav\" target=\"_blank\">Dirty Swell Bass C3: loss=198.96%</a>"
      ],
      "text/plain": [
       "<IPython.core.display.HTML object>"
      ]
     },
     "metadata": {},
     "output_type": "display_data"
    },
    {
     "data": {
      "text/html": [
       "<a href=\"Results/Casio-CZ-5000-Synth-Glockensp-C4 - resynth.wav\" target=\"_blank\">Casio-CZ-5000-Synth-Glockensp-C4: loss=200.51%</a>"
      ],
      "text/plain": [
       "<IPython.core.display.HTML object>"
      ]
     },
     "metadata": {},
     "output_type": "display_data"
    },
    {
     "data": {
      "text/html": [
       "<a href=\"Results/Sitar 2 C4 - resynth.wav\" target=\"_blank\">Sitar 2 C4: loss=200.63%</a>"
      ],
      "text/plain": [
       "<IPython.core.display.HTML object>"
      ]
     },
     "metadata": {},
     "output_type": "display_data"
    },
    {
     "data": {
      "text/html": [
       "<a href=\"Results/Vibrato Guitar C4 - resynth.wav\" target=\"_blank\">Vibrato Guitar C4: loss=202.46%</a>"
      ],
      "text/plain": [
       "<IPython.core.display.HTML object>"
      ]
     },
     "metadata": {},
     "output_type": "display_data"
    },
    {
     "data": {
      "text/html": [
       "<a href=\"Results/Analog VCO 1 Res Saw C4 - resynth.wav\" target=\"_blank\">Analog VCO 1 Res Saw C4: loss=203.47%</a>"
      ],
      "text/plain": [
       "<IPython.core.display.HTML object>"
      ]
     },
     "metadata": {},
     "output_type": "display_data"
    },
    {
     "data": {
      "text/html": [
       "<a href=\"Results/80s Digital Synth Aliead C4 - resynth.wav\" target=\"_blank\">80s Digital Synth Aliead C4: loss=205.18%</a>"
      ],
      "text/plain": [
       "<IPython.core.display.HTML object>"
      ]
     },
     "metadata": {},
     "output_type": "display_data"
    },
    {
     "data": {
      "text/html": [
       "<a href=\"Results/Titanic Saw C4 - resynth.wav\" target=\"_blank\">Titanic Saw C4: loss=205.54%</a>"
      ],
      "text/plain": [
       "<IPython.core.display.HTML object>"
      ]
     },
     "metadata": {},
     "output_type": "display_data"
    },
    {
     "data": {
      "text/html": [
       "<a href=\"Results/Dirty Flange C3 - resynth.wav\" target=\"_blank\">Dirty Flange C3: loss=206.34%</a>"
      ],
      "text/plain": [
       "<IPython.core.display.HTML object>"
      ]
     },
     "metadata": {},
     "output_type": "display_data"
    },
    {
     "data": {
      "text/html": [
       "<a href=\"Results/Classic Sync C4 - resynth.wav\" target=\"_blank\">Classic Sync C4: loss=206.69%</a>"
      ],
      "text/plain": [
       "<IPython.core.display.HTML object>"
      ]
     },
     "metadata": {},
     "output_type": "display_data"
    },
    {
     "data": {
      "text/html": [
       "<a href=\"Results/Digital Vox C4 - resynth.wav\" target=\"_blank\">Digital Vox C4: loss=207.82%</a>"
      ],
      "text/plain": [
       "<IPython.core.display.HTML object>"
      ]
     },
     "metadata": {},
     "output_type": "display_data"
    },
    {
     "data": {
      "text/html": [
       "<a href=\"Results/Tass Vox Pad C4 - resynth.wav\" target=\"_blank\">Tass Vox Pad C4: loss=209.26%</a>"
      ],
      "text/plain": [
       "<IPython.core.display.HTML object>"
      ]
     },
     "metadata": {},
     "output_type": "display_data"
    },
    {
     "data": {
      "text/html": [
       "<a href=\"Results/FM Bass FM Slap C3 - resynth.wav\" target=\"_blank\">FM Bass FM Slap C3: loss=210.86%</a>"
      ],
      "text/plain": [
       "<IPython.core.display.HTML object>"
      ]
     },
     "metadata": {},
     "output_type": "display_data"
    },
    {
     "data": {
      "text/html": [
       "<a href=\"Results/Acoustic Guitar 2 Pchord 4 C3 - resynth.wav\" target=\"_blank\">Acoustic Guitar 2 Pchord 4 C3: loss=212.96%</a>"
      ],
      "text/plain": [
       "<IPython.core.display.HTML object>"
      ]
     },
     "metadata": {},
     "output_type": "display_data"
    },
    {
     "data": {
      "text/html": [
       "<a href=\"Results/Phased Beauty 02 C3 - resynth.wav\" target=\"_blank\">Phased Beauty 02 C3: loss=213.72%</a>"
      ],
      "text/plain": [
       "<IPython.core.display.HTML object>"
      ]
     },
     "metadata": {},
     "output_type": "display_data"
    },
    {
     "data": {
      "text/html": [
       "<a href=\"Results/Ensoniq-ZR-76-Anarez-Bell-C4 - resynth.wav\" target=\"_blank\">Ensoniq-ZR-76-Anarez-Bell-C4: loss=214.99%</a>"
      ],
      "text/plain": [
       "<IPython.core.display.HTML object>"
      ]
     },
     "metadata": {},
     "output_type": "display_data"
    },
    {
     "data": {
      "text/html": [
       "<a href=\"Results/Phase Guitar C4 - resynth.wav\" target=\"_blank\">Phase Guitar C4: loss=216.05%</a>"
      ],
      "text/plain": [
       "<IPython.core.display.HTML object>"
      ]
     },
     "metadata": {},
     "output_type": "display_data"
    },
    {
     "data": {
      "text/html": [
       "<a href=\"Results/Dirty Swell Bass C4 - resynth.wav\" target=\"_blank\">Dirty Swell Bass C4: loss=216.64%</a>"
      ],
      "text/plain": [
       "<IPython.core.display.HTML object>"
      ]
     },
     "metadata": {},
     "output_type": "display_data"
    },
    {
     "data": {
      "text/html": [
       "<a href=\"Results/Classic Sync C3 - resynth.wav\" target=\"_blank\">Classic Sync C3: loss=219.15%</a>"
      ],
      "text/plain": [
       "<IPython.core.display.HTML object>"
      ]
     },
     "metadata": {},
     "output_type": "display_data"
    },
    {
     "data": {
      "text/html": [
       "<a href=\"Results/Huge Saw C3 - resynth.wav\" target=\"_blank\">Huge Saw C3: loss=219.20%</a>"
      ],
      "text/plain": [
       "<IPython.core.display.HTML object>"
      ]
     },
     "metadata": {},
     "output_type": "display_data"
    },
    {
     "data": {
      "text/html": [
       "<a href=\"Results/Mellotron Choir C3 - resynth.wav\" target=\"_blank\">Mellotron Choir C3: loss=220.02%</a>"
      ],
      "text/plain": [
       "<IPython.core.display.HTML object>"
      ]
     },
     "metadata": {},
     "output_type": "display_data"
    },
    {
     "data": {
      "text/html": [
       "<a href=\"Results/Chemicalhorror C3 - resynth.wav\" target=\"_blank\">Chemicalhorror C3: loss=220.84%</a>"
      ],
      "text/plain": [
       "<IPython.core.display.HTML object>"
      ]
     },
     "metadata": {},
     "output_type": "display_data"
    },
    {
     "data": {
      "text/html": [
       "<a href=\"Results/Distorted 5th C4 - resynth.wav\" target=\"_blank\">Distorted 5th C4: loss=225.67%</a>"
      ],
      "text/plain": [
       "<IPython.core.display.HTML object>"
      ]
     },
     "metadata": {},
     "output_type": "display_data"
    },
    {
     "data": {
      "text/html": [
       "<a href=\"Results/Vocoder Jangle C3 8bts - resynth.wav\" target=\"_blank\">Vocoder Jangle C3 8bts: loss=226.91%</a>"
      ],
      "text/plain": [
       "<IPython.core.display.HTML object>"
      ]
     },
     "metadata": {},
     "output_type": "display_data"
    },
    {
     "data": {
      "text/html": [
       "<a href=\"Results/80s Analog Sqw Ow C4 - resynth.wav\" target=\"_blank\">80s Analog Sqw Ow C4: loss=227.11%</a>"
      ],
      "text/plain": [
       "<IPython.core.display.HTML object>"
      ]
     },
     "metadata": {},
     "output_type": "display_data"
    },
    {
     "data": {
      "text/html": [
       "<a href=\"Results/Alesis-S4-Plus-Charang-C4 - resynth.wav\" target=\"_blank\">Alesis-S4-Plus-Charang-C4: loss=228.82%</a>"
      ],
      "text/plain": [
       "<IPython.core.display.HTML object>"
      ]
     },
     "metadata": {},
     "output_type": "display_data"
    },
    {
     "data": {
      "text/html": [
       "<a href=\"Results/Stereo Pwm C4 - resynth.wav\" target=\"_blank\">Stereo Pwm C4: loss=230.55%</a>"
      ],
      "text/plain": [
       "<IPython.core.display.HTML object>"
      ]
     },
     "metadata": {},
     "output_type": "display_data"
    },
    {
     "data": {
      "text/html": [
       "<a href=\"Results/80s Digital Synth 5th Lead C4 - resynth.wav\" target=\"_blank\">80s Digital Synth 5th Lead C4: loss=231.86%</a>"
      ],
      "text/plain": [
       "<IPython.core.display.HTML object>"
      ]
     },
     "metadata": {},
     "output_type": "display_data"
    },
    {
     "data": {
      "text/html": [
       "<a href=\"Results/PM Pluck 1 C4 - resynth.wav\" target=\"_blank\">PM Pluck 1 C4: loss=234.77%</a>"
      ],
      "text/plain": [
       "<IPython.core.display.HTML object>"
      ]
     },
     "metadata": {},
     "output_type": "display_data"
    },
    {
     "data": {
      "text/html": [
       "<a href=\"Results/Casio-VZ-10M-Bright-Phaze-C4 - resynth.wav\" target=\"_blank\">Casio-VZ-10M-Bright-Phaze-C4: loss=237.23%</a>"
      ],
      "text/plain": [
       "<IPython.core.display.HTML object>"
      ]
     },
     "metadata": {},
     "output_type": "display_data"
    },
    {
     "data": {
      "text/html": [
       "<a href=\"Results/Layer Ceres C3 - resynth.wav\" target=\"_blank\">Layer Ceres C3: loss=237.23%</a>"
      ],
      "text/plain": [
       "<IPython.core.display.HTML object>"
      ]
     },
     "metadata": {},
     "output_type": "display_data"
    },
    {
     "data": {
      "text/html": [
       "<a href=\"Results/FM Saw C4 - resynth.wav\" target=\"_blank\">FM Saw C4: loss=238.39%</a>"
      ],
      "text/plain": [
       "<IPython.core.display.HTML object>"
      ]
     },
     "metadata": {},
     "output_type": "display_data"
    },
    {
     "data": {
      "text/html": [
       "<a href=\"Results/Analog Sample Hold C3 - resynth.wav\" target=\"_blank\">Analog Sample Hold C3: loss=238.88%</a>"
      ],
      "text/plain": [
       "<IPython.core.display.HTML object>"
      ]
     },
     "metadata": {},
     "output_type": "display_data"
    },
    {
     "data": {
      "text/html": [
       "<a href=\"Results/Alto Sax PM C3 - resynth.wav\" target=\"_blank\">Alto Sax PM C3: loss=239.50%</a>"
      ],
      "text/plain": [
       "<IPython.core.display.HTML object>"
      ]
     },
     "metadata": {},
     "output_type": "display_data"
    },
    {
     "data": {
      "text/html": [
       "<a href=\"Results/Choir Ah C4 - resynth.wav\" target=\"_blank\">Choir Ah C4: loss=241.31%</a>"
      ],
      "text/plain": [
       "<IPython.core.display.HTML object>"
      ]
     },
     "metadata": {},
     "output_type": "display_data"
    },
    {
     "data": {
      "text/html": [
       "<a href=\"Results/Eguitar C4 - resynth.wav\" target=\"_blank\">Eguitar C4: loss=246.57%</a>"
      ],
      "text/plain": [
       "<IPython.core.display.HTML object>"
      ]
     },
     "metadata": {},
     "output_type": "display_data"
    },
    {
     "data": {
      "text/html": [
       "<a href=\"Results/60s Transistor Organ C4 - resynth.wav\" target=\"_blank\">60s Transistor Organ C4: loss=249.28%</a>"
      ],
      "text/plain": [
       "<IPython.core.display.HTML object>"
      ]
     },
     "metadata": {},
     "output_type": "display_data"
    },
    {
     "data": {
      "text/html": [
       "<a href=\"Results/Phased Beauty 01 C3 - resynth.wav\" target=\"_blank\">Phased Beauty 01 C3: loss=249.61%</a>"
      ],
      "text/plain": [
       "<IPython.core.display.HTML object>"
      ]
     },
     "metadata": {},
     "output_type": "display_data"
    },
    {
     "data": {
      "text/html": [
       "<a href=\"Results/Amped Lead C4 - resynth.wav\" target=\"_blank\">Amped Lead C4: loss=251.19%</a>"
      ],
      "text/plain": [
       "<IPython.core.display.HTML object>"
      ]
     },
     "metadata": {},
     "output_type": "display_data"
    },
    {
     "data": {
      "text/html": [
       "<a href=\"Results/FM Human Voice Oh C4 - resynth.wav\" target=\"_blank\">FM Human Voice Oh C4: loss=252.60%</a>"
      ],
      "text/plain": [
       "<IPython.core.display.HTML object>"
      ]
     },
     "metadata": {},
     "output_type": "display_data"
    },
    {
     "data": {
      "text/html": [
       "<a href=\"Results/Mini 3 VCO Squares C4 - resynth.wav\" target=\"_blank\">Mini 3 VCO Squares C4: loss=256.03%</a>"
      ],
      "text/plain": [
       "<IPython.core.display.HTML object>"
      ]
     },
     "metadata": {},
     "output_type": "display_data"
    },
    {
     "data": {
      "text/html": [
       "<a href=\"Results/Big Buzz Guitar C3 - resynth.wav\" target=\"_blank\">Big Buzz Guitar C3: loss=258.24%</a>"
      ],
      "text/plain": [
       "<IPython.core.display.HTML object>"
      ]
     },
     "metadata": {},
     "output_type": "display_data"
    },
    {
     "data": {
      "text/html": [
       "<a href=\"Results/Amped Lead C3 - resynth.wav\" target=\"_blank\">Amped Lead C3: loss=266.03%</a>"
      ],
      "text/plain": [
       "<IPython.core.display.HTML object>"
      ]
     },
     "metadata": {},
     "output_type": "display_data"
    },
    {
     "data": {
      "text/html": [
       "<a href=\"Results/Cheap Bell 17 C4 - resynth.wav\" target=\"_blank\">Cheap Bell 17 C4: loss=266.40%</a>"
      ],
      "text/plain": [
       "<IPython.core.display.HTML object>"
      ]
     },
     "metadata": {},
     "output_type": "display_data"
    },
    {
     "data": {
      "text/html": [
       "<a href=\"Results/FM Tinker Bell C3 - resynth.wav\" target=\"_blank\">FM Tinker Bell C3: loss=267.29%</a>"
      ],
      "text/plain": [
       "<IPython.core.display.HTML object>"
      ]
     },
     "metadata": {},
     "output_type": "display_data"
    },
    {
     "data": {
      "text/html": [
       "<a href=\"Results/Cheap Bell 13 C3 - resynth.wav\" target=\"_blank\">Cheap Bell 13 C3: loss=269.43%</a>"
      ],
      "text/plain": [
       "<IPython.core.display.HTML object>"
      ]
     },
     "metadata": {},
     "output_type": "display_data"
    },
    {
     "data": {
      "text/html": [
       "<a href=\"Results/Metallic Plastic C3 - resynth.wav\" target=\"_blank\">Metallic Plastic C3: loss=269.47%</a>"
      ],
      "text/plain": [
       "<IPython.core.display.HTML object>"
      ]
     },
     "metadata": {},
     "output_type": "display_data"
    },
    {
     "data": {
      "text/html": [
       "<a href=\"Results/Chime Pad C4 - resynth.wav\" target=\"_blank\">Chime Pad C4: loss=271.24%</a>"
      ],
      "text/plain": [
       "<IPython.core.display.HTML object>"
      ]
     },
     "metadata": {},
     "output_type": "display_data"
    },
    {
     "data": {
      "text/html": [
       "<a href=\"Results/80s Analog Hoover C4 - resynth.wav\" target=\"_blank\">80s Analog Hoover C4: loss=274.61%</a>"
      ],
      "text/plain": [
       "<IPython.core.display.HTML object>"
      ]
     },
     "metadata": {},
     "output_type": "display_data"
    },
    {
     "data": {
      "text/html": [
       "<a href=\"Results/Sitar 2 C3 - resynth.wav\" target=\"_blank\">Sitar 2 C3: loss=275.18%</a>"
      ],
      "text/plain": [
       "<IPython.core.display.HTML object>"
      ]
     },
     "metadata": {},
     "output_type": "display_data"
    },
    {
     "data": {
      "text/html": [
       "<a href=\"Results/Analog Down Sweep C4 - resynth.wav\" target=\"_blank\">Analog Down Sweep C4: loss=278.03%</a>"
      ],
      "text/plain": [
       "<IPython.core.display.HTML object>"
      ]
     },
     "metadata": {},
     "output_type": "display_data"
    },
    {
     "data": {
      "text/html": [
       "<a href=\"Results/Chrono Chime ff C4 - resynth.wav\" target=\"_blank\">Chrono Chime ff C4: loss=283.04%</a>"
      ],
      "text/plain": [
       "<IPython.core.display.HTML object>"
      ]
     },
     "metadata": {},
     "output_type": "display_data"
    },
    {
     "data": {
      "text/html": [
       "<a href=\"Results/Loose And Floppy 01 C3 - resynth.wav\" target=\"_blank\">Loose And Floppy 01 C3: loss=283.21%</a>"
      ],
      "text/plain": [
       "<IPython.core.display.HTML object>"
      ]
     },
     "metadata": {},
     "output_type": "display_data"
    },
    {
     "data": {
      "text/html": [
       "<a href=\"Results/Soft Flange C3 - resynth.wav\" target=\"_blank\">Soft Flange C3: loss=284.55%</a>"
      ],
      "text/plain": [
       "<IPython.core.display.HTML object>"
      ]
     },
     "metadata": {},
     "output_type": "display_data"
    },
    {
     "data": {
      "text/html": [
       "<a href=\"Results/Mellotron Violins C3 - resynth.wav\" target=\"_blank\">Mellotron Violins C3: loss=287.92%</a>"
      ],
      "text/plain": [
       "<IPython.core.display.HTML object>"
      ]
     },
     "metadata": {},
     "output_type": "display_data"
    },
    {
     "data": {
      "text/html": [
       "<a href=\"Results/Extreme Voco C3 - resynth.wav\" target=\"_blank\">Extreme Voco C3: loss=289.85%</a>"
      ],
      "text/plain": [
       "<IPython.core.display.HTML object>"
      ]
     },
     "metadata": {},
     "output_type": "display_data"
    },
    {
     "data": {
      "text/html": [
       "<a href=\"Results/Chrono Chime ff C3 - resynth.wav\" target=\"_blank\">Chrono Chime ff C3: loss=289.91%</a>"
      ],
      "text/plain": [
       "<IPython.core.display.HTML object>"
      ]
     },
     "metadata": {},
     "output_type": "display_data"
    },
    {
     "data": {
      "text/html": [
       "<a href=\"Results/80s Analog Duck Lead C4 - resynth.wav\" target=\"_blank\">80s Analog Duck Lead C4: loss=297.35%</a>"
      ],
      "text/plain": [
       "<IPython.core.display.HTML object>"
      ]
     },
     "metadata": {},
     "output_type": "display_data"
    },
    {
     "data": {
      "text/html": [
       "<a href=\"Results/Wavetable 02 8 C3 - resynth.wav\" target=\"_blank\">Wavetable 02 8 C3: loss=299.92%</a>"
      ],
      "text/plain": [
       "<IPython.core.display.HTML object>"
      ]
     },
     "metadata": {},
     "output_type": "display_data"
    },
    {
     "data": {
      "text/html": [
       "<a href=\"Results/Huge Saw C4 - resynth.wav\" target=\"_blank\">Huge Saw C4: loss=310.58%</a>"
      ],
      "text/plain": [
       "<IPython.core.display.HTML object>"
      ]
     },
     "metadata": {},
     "output_type": "display_data"
    },
    {
     "data": {
      "text/html": [
       "<a href=\"Results/Analog Future C3 - resynth.wav\" target=\"_blank\">Analog Future C3: loss=314.84%</a>"
      ],
      "text/plain": [
       "<IPython.core.display.HTML object>"
      ]
     },
     "metadata": {},
     "output_type": "display_data"
    },
    {
     "data": {
      "text/html": [
       "<a href=\"Results/Analog Wow Bass C4 - resynth.wav\" target=\"_blank\">Analog Wow Bass C4: loss=315.00%</a>"
      ],
      "text/plain": [
       "<IPython.core.display.HTML object>"
      ]
     },
     "metadata": {},
     "output_type": "display_data"
    },
    {
     "data": {
      "text/html": [
       "<a href=\"Results/Vibrato Guitar C3 - resynth.wav\" target=\"_blank\">Vibrato Guitar C3: loss=315.94%</a>"
      ],
      "text/plain": [
       "<IPython.core.display.HTML object>"
      ]
     },
     "metadata": {},
     "output_type": "display_data"
    },
    {
     "data": {
      "text/html": [
       "<a href=\"Results/80s Analog Res Decay 1 C4 - resynth.wav\" target=\"_blank\">80s Analog Res Decay 1 C4: loss=316.56%</a>"
      ],
      "text/plain": [
       "<IPython.core.display.HTML object>"
      ]
     },
     "metadata": {},
     "output_type": "display_data"
    },
    {
     "data": {
      "text/html": [
       "<a href=\"Results/Analog Epic C3 - resynth.wav\" target=\"_blank\">Analog Epic C3: loss=318.18%</a>"
      ],
      "text/plain": [
       "<IPython.core.display.HTML object>"
      ]
     },
     "metadata": {},
     "output_type": "display_data"
    },
    {
     "data": {
      "text/html": [
       "<a href=\"Results/Alesis-Fusion-Bass-C3 - resynth.wav\" target=\"_blank\">Alesis-Fusion-Bass-C3: loss=320.69%</a>"
      ],
      "text/plain": [
       "<IPython.core.display.HTML object>"
      ]
     },
     "metadata": {},
     "output_type": "display_data"
    },
    {
     "data": {
      "text/html": [
       "<a href=\"Results/80s Analog Res Decay 1 C3 - resynth.wav\" target=\"_blank\">80s Analog Res Decay 1 C3: loss=330.94%</a>"
      ],
      "text/plain": [
       "<IPython.core.display.HTML object>"
      ]
     },
     "metadata": {},
     "output_type": "display_data"
    },
    {
     "data": {
      "text/html": [
       "<a href=\"Results/FM Tubular Bells C4 - resynth.wav\" target=\"_blank\">FM Tubular Bells C4: loss=332.82%</a>"
      ],
      "text/plain": [
       "<IPython.core.display.HTML object>"
      ]
     },
     "metadata": {},
     "output_type": "display_data"
    },
    {
     "data": {
      "text/html": [
       "<a href=\"Results/Pulse Spike C3 - resynth.wav\" target=\"_blank\">Pulse Spike C3: loss=339.39%</a>"
      ],
      "text/plain": [
       "<IPython.core.display.HTML object>"
      ]
     },
     "metadata": {},
     "output_type": "display_data"
    },
    {
     "data": {
      "text/html": [
       "<a href=\"Results/Cilia Sitar C4 - resynth.wav\" target=\"_blank\">Cilia Sitar C4: loss=344.38%</a>"
      ],
      "text/plain": [
       "<IPython.core.display.HTML object>"
      ]
     },
     "metadata": {},
     "output_type": "display_data"
    },
    {
     "data": {
      "text/html": [
       "<a href=\"Results/Choom Bass C3 - resynth.wav\" target=\"_blank\">Choom Bass C3: loss=345.13%</a>"
      ],
      "text/plain": [
       "<IPython.core.display.HTML object>"
      ]
     },
     "metadata": {},
     "output_type": "display_data"
    },
    {
     "data": {
      "text/html": [
       "<a href=\"Results/Former Bell Guita C4 - resynth.wav\" target=\"_blank\">Former Bell Guita C4: loss=348.14%</a>"
      ],
      "text/plain": [
       "<IPython.core.display.HTML object>"
      ]
     },
     "metadata": {},
     "output_type": "display_data"
    },
    {
     "data": {
      "text/html": [
       "<a href=\"Results/Analog Saturation C4 - resynth.wav\" target=\"_blank\">Analog Saturation C4: loss=357.81%</a>"
      ],
      "text/plain": [
       "<IPython.core.display.HTML object>"
      ]
     },
     "metadata": {},
     "output_type": "display_data"
    },
    {
     "data": {
      "text/html": [
       "<a href=\"Results/Sync Decay Pulse C3 - resynth.wav\" target=\"_blank\">Sync Decay Pulse C3: loss=359.06%</a>"
      ],
      "text/plain": [
       "<IPython.core.display.HTML object>"
      ]
     },
     "metadata": {},
     "output_type": "display_data"
    },
    {
     "data": {
      "text/html": [
       "<a href=\"Results/Eguitar C3 - resynth.wav\" target=\"_blank\">Eguitar C3: loss=363.89%</a>"
      ],
      "text/plain": [
       "<IPython.core.display.HTML object>"
      ]
     },
     "metadata": {},
     "output_type": "display_data"
    },
    {
     "data": {
      "text/html": [
       "<a href=\"Results/FM Human Voice Ih C3 - resynth.wav\" target=\"_blank\">FM Human Voice Ih C3: loss=371.82%</a>"
      ],
      "text/plain": [
       "<IPython.core.display.HTML object>"
      ]
     },
     "metadata": {},
     "output_type": "display_data"
    },
    {
     "data": {
      "text/html": [
       "<a href=\"Results/Big Buzz Guitar C4 - resynth.wav\" target=\"_blank\">Big Buzz Guitar C4: loss=375.23%</a>"
      ],
      "text/plain": [
       "<IPython.core.display.HTML object>"
      ]
     },
     "metadata": {},
     "output_type": "display_data"
    },
    {
     "data": {
      "text/html": [
       "<a href=\"Results/Electric Guitar - Drive C3 - resynth.wav\" target=\"_blank\">Electric Guitar - Drive C3: loss=384.94%</a>"
      ],
      "text/plain": [
       "<IPython.core.display.HTML object>"
      ]
     },
     "metadata": {},
     "output_type": "display_data"
    },
    {
     "data": {
      "text/html": [
       "<a href=\"Results/Chrono Chime mf C3 - resynth.wav\" target=\"_blank\">Chrono Chime mf C3: loss=387.81%</a>"
      ],
      "text/plain": [
       "<IPython.core.display.HTML object>"
      ]
     },
     "metadata": {},
     "output_type": "display_data"
    },
    {
     "data": {
      "text/html": [
       "<a href=\"Results/West Coast Synth Wave Multiplier 2 C3 - resynth.wav\" target=\"_blank\">West Coast Synth Wave Multiplier 2 C3: loss=393.79%</a>"
      ],
      "text/plain": [
       "<IPython.core.display.HTML object>"
      ]
     },
     "metadata": {},
     "output_type": "display_data"
    },
    {
     "data": {
      "text/html": [
       "<a href=\"Results/FM Tinker Bell C4 - resynth.wav\" target=\"_blank\">FM Tinker Bell C4: loss=393.92%</a>"
      ],
      "text/plain": [
       "<IPython.core.display.HTML object>"
      ]
     },
     "metadata": {},
     "output_type": "display_data"
    },
    {
     "data": {
      "text/html": [
       "<a href=\"Results/Mellotron Violins C4 - resynth.wav\" target=\"_blank\">Mellotron Violins C4: loss=395.83%</a>"
      ],
      "text/plain": [
       "<IPython.core.display.HTML object>"
      ]
     },
     "metadata": {},
     "output_type": "display_data"
    },
    {
     "data": {
      "text/html": [
       "<a href=\"Results/Roland-U-220-Unconvincing-Guitar-C4 - resynth.wav\" target=\"_blank\">Roland-U-220-Unconvincing-Guitar-C4: loss=404.69%</a>"
      ],
      "text/plain": [
       "<IPython.core.display.HTML object>"
      ]
     },
     "metadata": {},
     "output_type": "display_data"
    },
    {
     "data": {
      "text/html": [
       "<a href=\"Results/Analog Sample Hold C4 - resynth.wav\" target=\"_blank\">Analog Sample Hold C4: loss=414.22%</a>"
      ],
      "text/plain": [
       "<IPython.core.display.HTML object>"
      ]
     },
     "metadata": {},
     "output_type": "display_data"
    },
    {
     "data": {
      "text/html": [
       "<a href=\"Results/Pulse Spike C4 - resynth.wav\" target=\"_blank\">Pulse Spike C4: loss=426.14%</a>"
      ],
      "text/plain": [
       "<IPython.core.display.HTML object>"
      ]
     },
     "metadata": {},
     "output_type": "display_data"
    },
    {
     "data": {
      "text/html": [
       "<a href=\"Results/Analog Squ Osc Reset C4 - resynth.wav\" target=\"_blank\">Analog Squ Osc Reset C4: loss=434.00%</a>"
      ],
      "text/plain": [
       "<IPython.core.display.HTML object>"
      ]
     },
     "metadata": {},
     "output_type": "display_data"
    },
    {
     "data": {
      "text/html": [
       "<a href=\"Results/Distorted 5th C3 - resynth.wav\" target=\"_blank\">Distorted 5th C3: loss=446.61%</a>"
      ],
      "text/plain": [
       "<IPython.core.display.HTML object>"
      ]
     },
     "metadata": {},
     "output_type": "display_data"
    },
    {
     "data": {
      "text/html": [
       "<a href=\"Results/Analog Conquest C3 - resynth.wav\" target=\"_blank\">Analog Conquest C3: loss=480.06%</a>"
      ],
      "text/plain": [
       "<IPython.core.display.HTML object>"
      ]
     },
     "metadata": {},
     "output_type": "display_data"
    },
    {
     "data": {
      "text/html": [
       "<a href=\"Results/Sync Decay Pulse C4 - resynth.wav\" target=\"_blank\">Sync Decay Pulse C4: loss=518.50%</a>"
      ],
      "text/plain": [
       "<IPython.core.display.HTML object>"
      ]
     },
     "metadata": {},
     "output_type": "display_data"
    },
    {
     "data": {
      "text/html": [
       "<a href=\"Results/Modulated Synth C3 - resynth.wav\" target=\"_blank\">Modulated Synth C3: loss=521.65%</a>"
      ],
      "text/plain": [
       "<IPython.core.display.HTML object>"
      ]
     },
     "metadata": {},
     "output_type": "display_data"
    },
    {
     "data": {
      "text/html": [
       "<a href=\"Results/M-Audio-Venom-Disintegr8-C3 - resynth.wav\" target=\"_blank\">M-Audio-Venom-Disintegr8-C3: loss=526.12%</a>"
      ],
      "text/plain": [
       "<IPython.core.display.HTML object>"
      ]
     },
     "metadata": {},
     "output_type": "display_data"
    },
    {
     "data": {
      "text/html": [
       "<a href=\"Results/FM Human Voice Ih C4 - resynth.wav\" target=\"_blank\">FM Human Voice Ih C4: loss=536.38%</a>"
      ],
      "text/plain": [
       "<IPython.core.display.HTML object>"
      ]
     },
     "metadata": {},
     "output_type": "display_data"
    },
    {
     "data": {
      "text/html": [
       "<a href=\"Results/80s Classic Synth C4 - resynth.wav\" target=\"_blank\">80s Classic Synth C4: loss=536.62%</a>"
      ],
      "text/plain": [
       "<IPython.core.display.HTML object>"
      ]
     },
     "metadata": {},
     "output_type": "display_data"
    },
    {
     "data": {
      "text/html": [
       "<a href=\"Results/Dive In C3 128bpm 8bts - resynth.wav\" target=\"_blank\">Dive In C3 128bpm 8bts: loss=541.39%</a>"
      ],
      "text/plain": [
       "<IPython.core.display.HTML object>"
      ]
     },
     "metadata": {},
     "output_type": "display_data"
    },
    {
     "data": {
      "text/html": [
       "<a href=\"Results/Modulated Synth C4 - resynth.wav\" target=\"_blank\">Modulated Synth C4: loss=556.40%</a>"
      ],
      "text/plain": [
       "<IPython.core.display.HTML object>"
      ]
     },
     "metadata": {},
     "output_type": "display_data"
    },
    {
     "data": {
      "text/html": [
       "<a href=\"Results/Analog Saturation C3 - resynth.wav\" target=\"_blank\">Analog Saturation C3: loss=577.06%</a>"
      ],
      "text/plain": [
       "<IPython.core.display.HTML object>"
      ]
     },
     "metadata": {},
     "output_type": "display_data"
    },
    {
     "data": {
      "text/html": [
       "<a href=\"Results/E-Mu-Proteus-FX-Shanai-C4 - resynth.wav\" target=\"_blank\">E-Mu-Proteus-FX-Shanai-C4: loss=602.71%</a>"
      ],
      "text/plain": [
       "<IPython.core.display.HTML object>"
      ]
     },
     "metadata": {},
     "output_type": "display_data"
    },
    {
     "data": {
      "text/html": [
       "<a href=\"Results/Music Box C3 - resynth.wav\" target=\"_blank\">Music Box C3: loss=625.23%</a>"
      ],
      "text/plain": [
       "<IPython.core.display.HTML object>"
      ]
     },
     "metadata": {},
     "output_type": "display_data"
    },
    {
     "data": {
      "text/html": [
       "<a href=\"Results/Analog VCO 1 Squ C4 - resynth.wav\" target=\"_blank\">Analog VCO 1 Squ C4: loss=667.37%</a>"
      ],
      "text/plain": [
       "<IPython.core.display.HTML object>"
      ]
     },
     "metadata": {},
     "output_type": "display_data"
    },
    {
     "data": {
      "text/html": [
       "<a href=\"Results/Music Box C4 - resynth.wav\" target=\"_blank\">Music Box C4: loss=669.88%</a>"
      ],
      "text/plain": [
       "<IPython.core.display.HTML object>"
      ]
     },
     "metadata": {},
     "output_type": "display_data"
    },
    {
     "data": {
      "text/html": [
       "<a href=\"Results/Electric Guitar - Drive C4 - resynth.wav\" target=\"_blank\">Electric Guitar - Drive C4: loss=801.79%</a>"
      ],
      "text/plain": [
       "<IPython.core.display.HTML object>"
      ]
     },
     "metadata": {},
     "output_type": "display_data"
    },
    {
     "data": {
      "text/html": [
       "<a href=\"Results/M-Audio-Venom-8Bit-Tremo-C4 - resynth.wav\" target=\"_blank\">M-Audio-Venom-8Bit-Tremo-C4: loss=892.01%</a>"
      ],
      "text/plain": [
       "<IPython.core.display.HTML object>"
      ]
     },
     "metadata": {},
     "output_type": "display_data"
    },
    {
     "data": {
      "text/html": [
       "<a href=\"Results/Analog Epic C4 - resynth.wav\" target=\"_blank\">Analog Epic C4: loss=907.14%</a>"
      ],
      "text/plain": [
       "<IPython.core.display.HTML object>"
      ]
     },
     "metadata": {},
     "output_type": "display_data"
    },
    {
     "data": {
      "text/html": [
       "<a href=\"Results/Rich Sync C3 - resynth.wav\" target=\"_blank\">Rich Sync C3: loss=1224.13%</a>"
      ],
      "text/plain": [
       "<IPython.core.display.HTML object>"
      ]
     },
     "metadata": {},
     "output_type": "display_data"
    },
    {
     "data": {
      "text/html": [
       "<a href=\"Results/Rich Sync C4 - resynth.wav\" target=\"_blank\">Rich Sync C4: loss=1527.47%</a>"
      ],
      "text/plain": [
       "<IPython.core.display.HTML object>"
      ]
     },
     "metadata": {},
     "output_type": "display_data"
    },
    {
     "data": {
      "text/html": [
       "<a href=\"Results/Hard Sync C4 - resynth.wav\" target=\"_blank\">Hard Sync C4: loss=2871.89%</a>"
      ],
      "text/plain": [
       "<IPython.core.display.HTML object>"
      ]
     },
     "metadata": {},
     "output_type": "display_data"
    },
    {
     "data": {
      "text/html": [
       "<a href=\"Results/Hard Sync C3 - resynth.wav\" target=\"_blank\">Hard Sync C3: loss=3772.28%</a>"
      ],
      "text/plain": [
       "<IPython.core.display.HTML object>"
      ]
     },
     "metadata": {},
     "output_type": "display_data"
    },
    {
     "name": "stderr",
     "output_type": "stream",
     "text": [
      "/Users/Richard/Coding/SampleGen/AudioUtils.py:75: WavFileWarning: Chunk (non-data) not understood, skipping it.\n",
      "  sr, data = wavfile.read(file_name)\n",
      "/Users/Richard/Coding/SampleGen/AudioUtils.py:75: WavFileWarning: Chunk (non-data) not understood, skipping it.\n",
      "  sr, data = wavfile.read(file_name)\n"
     ]
    },
    {
     "name": "stdout",
     "output_type": "stream",
     "text": [
      "PlotVideoMaker: AudioConv_AE - variations, auto-save=False\n",
      "Encoded EPiano Mrk II C3 to torch.Size([1, 25, 61])\n",
      "Encoded EPiano Mrk II C3 to torch.Size([1, 25, 61])\n",
      "Encoded EPiano Mrk II C3 to torch.Size([1, 25, 61])\n",
      "Encoded EPiano Mrk II C3 to torch.Size([1, 25, 61])\n",
      "Encoded EPiano Mrk II C3 to torch.Size([1, 25, 61])\n",
      "Encoded EPiano Mrk II C3 to torch.Size([1, 25, 61])\n",
      "Encoded High Granular Harmonic C3 to torch.Size([1, 25, 61])\n",
      "Encoded High Granular Harmonic C3 to torch.Size([1, 25, 61])\n",
      "Encoded High Granular Harmonic C3 to torch.Size([1, 25, 61])\n",
      "Encoded High Granular Harmonic C3 to torch.Size([1, 25, 61])\n",
      "Encoded High Granular Harmonic C3 to torch.Size([1, 25, 61])\n",
      "Encoded High Granular Harmonic C3 to torch.Size([1, 25, 61])\n",
      "Encoded Kawai-K11-Dulcimer-C4 to torch.Size([1, 25, 61])\n",
      "Encoded Kawai-K11-Dulcimer-C4 to torch.Size([1, 25, 61])\n",
      "Encoded Kawai-K11-Dulcimer-C4 to torch.Size([1, 25, 61])\n",
      "Encoded Kawai-K11-Dulcimer-C4 to torch.Size([1, 25, 61])\n",
      "Encoded Kawai-K11-Dulcimer-C4 to torch.Size([1, 25, 61])\n",
      "Encoded Kawai-K11-Dulcimer-C4 to torch.Size([1, 25, 61])\n",
      "Encoded Electric Fat Plect 1 C4 to torch.Size([1, 25, 61])\n",
      "Encoded Electric Fat Plect 1 C4 to torch.Size([1, 25, 61])\n",
      "Encoded Electric Fat Plect 1 C4 to torch.Size([1, 25, 61])\n",
      "Encoded Electric Fat Plect 1 C4 to torch.Size([1, 25, 61])\n",
      "Encoded Electric Fat Plect 1 C4 to torch.Size([1, 25, 61])\n",
      "Encoded Electric Fat Plect 1 C4 to torch.Size([1, 25, 61])\n",
      "Encoded E-Mu-Proteus-FX-Kalimba-C4 to torch.Size([1, 25, 61])\n",
      "Encoded E-Mu-Proteus-FX-Kalimba-C4 to torch.Size([1, 25, 61])\n",
      "Encoded E-Mu-Proteus-FX-Kalimba-C4 to torch.Size([1, 25, 61])\n",
      "Encoded E-Mu-Proteus-FX-Kalimba-C4 to torch.Size([1, 25, 61])\n",
      "Encoded E-Mu-Proteus-FX-Kalimba-C4 to torch.Size([1, 25, 61])\n",
      "Encoded E-Mu-Proteus-FX-Kalimba-C4 to torch.Size([1, 25, 61])\n",
      "PlotVideoMaker: AudioConv_AE - morphs, auto-save=False\n",
      "Encoded EPiano Mrk II C3 to torch.Size([1, 25, 61])\n",
      "Encoded High Granular Harmonic C3 to torch.Size([1, 25, 61])\n"
     ]
    },
    {
     "ename": "ValueError",
     "evalue": "shape mismatch: objects cannot be broadcast to a single shape.  Mismatch is between arg 0 with shape (25,) and arg 1 with shape (25, 61).",
     "output_type": "error",
     "traceback": [
      "\u001b[0;31m---------------------------------------------------------------------------\u001b[0m",
      "\u001b[0;31mValueError\u001b[0m                                Traceback (most recent call last)",
      "Cell \u001b[0;32mIn[5], line 14\u001b[0m\n\u001b[1;32m      8\u001b[0m test_all()\n\u001b[1;32m     10\u001b[0m \u001b[38;5;66;03m# Print some pretty pictures of the samples and their encodings\u001b[39;00m\n\u001b[1;32m     11\u001b[0m \u001b[38;5;66;03m#demo_encodings()\u001b[39;00m\n\u001b[1;32m     12\u001b[0m \n\u001b[1;32m     13\u001b[0m \u001b[38;5;66;03m# Generate samples, interpolate, morph etc.\u001b[39;00m\n\u001b[0;32m---> 14\u001b[0m demo_sounds()\n",
      "File \u001b[0;32m~/Coding/SampleGen/Generate.py:457\u001b[0m, in \u001b[0;36mdemo_sounds\u001b[0;34m()\u001b[0m\n\u001b[1;32m    455\u001b[0m \u001b[38;5;66;03m#g.generate_main_encodings([-2, -1, 0, +1, +2])\u001b[39;00m\n\u001b[1;32m    456\u001b[0m generate_variations()\n\u001b[0;32m--> 457\u001b[0m generate_morphs()\n",
      "File \u001b[0;32m~/Coding/SampleGen/Generate.py:413\u001b[0m, in \u001b[0;36mgenerate_morphs\u001b[0;34m()\u001b[0m\n\u001b[1;32m    410\u001b[0m start_new_stft_video(\u001b[38;5;124mf\u001b[39m\u001b[38;5;124m\"\u001b[39m\u001b[38;5;132;01m{\u001b[39;00mg\u001b[38;5;241m.\u001b[39mmodel_name\u001b[38;5;132;01m}\u001b[39;00m\u001b[38;5;124m - morphs\u001b[39m\u001b[38;5;124m\"\u001b[39m, \u001b[38;5;28;01mFalse\u001b[39;00m)\n\u001b[1;32m    412\u001b[0m \u001b[38;5;28;01mfor\u001b[39;00m i \u001b[38;5;129;01min\u001b[39;00m \u001b[38;5;28mrange\u001b[39m(\u001b[38;5;241m0\u001b[39m, \u001b[38;5;28mlen\u001b[39m(examples)\u001b[38;5;241m-\u001b[39m\u001b[38;5;241m1\u001b[39m, \u001b[38;5;241m2\u001b[39m):\n\u001b[0;32m--> 413\u001b[0m     g\u001b[38;5;241m.\u001b[39minterpolate_vae(examples[i], examples[i\u001b[38;5;241m+\u001b[39m\u001b[38;5;241m1\u001b[39m])\n",
      "File \u001b[0;32m~/Coding/SampleGen/Generate.py:118\u001b[0m, in \u001b[0;36mSample_Generator.interpolate_vae\u001b[0;34m(self, pattern1, pattern2, play_sound, steps)\u001b[0m\n\u001b[1;32m    115\u001b[0m name1, stft1, encode1 \u001b[38;5;241m=\u001b[39m \u001b[38;5;28mself\u001b[39m\u001b[38;5;241m.\u001b[39mencode_sample_matching(pattern1, \u001b[38;5;241m0.0\u001b[39m)\n\u001b[1;32m    116\u001b[0m name2, stft2, encode2 \u001b[38;5;241m=\u001b[39m \u001b[38;5;28mself\u001b[39m\u001b[38;5;241m.\u001b[39mencode_sample_matching(pattern2, \u001b[38;5;241m0.0\u001b[39m)\n\u001b[0;32m--> 118\u001b[0m plot_bar_charts([numpify(encode1), numpify(encode2)], [name1, name2], \u001b[38;5;28mself\u001b[39m\u001b[38;5;241m.\u001b[39mmodel_name \u001b[38;5;241m+\u001b[39m \u001b[38;5;124m\"\u001b[39m\u001b[38;5;124m encodings\u001b[39m\u001b[38;5;124m\"\u001b[39m)\n\u001b[1;32m    120\u001b[0m \u001b[38;5;28;01mif\u001b[39;00m \u001b[38;5;28mself\u001b[39m\u001b[38;5;241m.\u001b[39muse_stfts:\n\u001b[1;32m    121\u001b[0m     plot_stft(name1, stft1, sample_rate, stft_hop)\n",
      "File \u001b[0;32m~/Coding/SampleGen/Graph.py:392\u001b[0m, in \u001b[0;36mplot_bar_charts\u001b[0;34m(encodings, names, title)\u001b[0m\n\u001b[1;32m    390\u001b[0m \u001b[38;5;28;01mfor\u001b[39;00m i \u001b[38;5;129;01min\u001b[39;00m \u001b[38;5;28mrange\u001b[39m(count):\n\u001b[1;32m    391\u001b[0m     bx \u001b[38;5;241m=\u001b[39m x \u001b[38;5;241m+\u001b[39m i \u001b[38;5;241m*\u001b[39m bar_width\n\u001b[0;32m--> 392\u001b[0m     plt\u001b[38;5;241m.\u001b[39mbar(bx, encodings[i], width\u001b[38;5;241m=\u001b[39mbar_width, label\u001b[38;5;241m=\u001b[39mnames[i])\n\u001b[1;32m    394\u001b[0m \u001b[38;5;66;03m# Calculate and display mean & std for each dimension across all groups\u001b[39;00m\n\u001b[1;32m    395\u001b[0m \u001b[38;5;28;01mif\u001b[39;00m \u001b[38;5;28mlen\u001b[39m(encodings) \u001b[38;5;241m>\u001b[39m \u001b[38;5;241m1\u001b[39m:\n",
      "File \u001b[0;32m~/anaconda3/lib/python3.11/site-packages/matplotlib/pyplot.py:2439\u001b[0m, in \u001b[0;36mbar\u001b[0;34m(x, height, width, bottom, align, data, **kwargs)\u001b[0m\n\u001b[1;32m   2435\u001b[0m \u001b[38;5;129m@_copy_docstring_and_deprecators\u001b[39m(Axes\u001b[38;5;241m.\u001b[39mbar)\n\u001b[1;32m   2436\u001b[0m \u001b[38;5;28;01mdef\u001b[39;00m \u001b[38;5;21mbar\u001b[39m(\n\u001b[1;32m   2437\u001b[0m         x, height, width\u001b[38;5;241m=\u001b[39m\u001b[38;5;241m0.8\u001b[39m, bottom\u001b[38;5;241m=\u001b[39m\u001b[38;5;28;01mNone\u001b[39;00m, \u001b[38;5;241m*\u001b[39m, align\u001b[38;5;241m=\u001b[39m\u001b[38;5;124m'\u001b[39m\u001b[38;5;124mcenter\u001b[39m\u001b[38;5;124m'\u001b[39m,\n\u001b[1;32m   2438\u001b[0m         data\u001b[38;5;241m=\u001b[39m\u001b[38;5;28;01mNone\u001b[39;00m, \u001b[38;5;241m*\u001b[39m\u001b[38;5;241m*\u001b[39mkwargs):\n\u001b[0;32m-> 2439\u001b[0m     \u001b[38;5;28;01mreturn\u001b[39;00m gca()\u001b[38;5;241m.\u001b[39mbar(\n\u001b[1;32m   2440\u001b[0m         x, height, width\u001b[38;5;241m=\u001b[39mwidth, bottom\u001b[38;5;241m=\u001b[39mbottom, align\u001b[38;5;241m=\u001b[39malign,\n\u001b[1;32m   2441\u001b[0m         \u001b[38;5;241m*\u001b[39m\u001b[38;5;241m*\u001b[39m({\u001b[38;5;124m\"\u001b[39m\u001b[38;5;124mdata\u001b[39m\u001b[38;5;124m\"\u001b[39m: data} \u001b[38;5;28;01mif\u001b[39;00m data \u001b[38;5;129;01mis\u001b[39;00m \u001b[38;5;129;01mnot\u001b[39;00m \u001b[38;5;28;01mNone\u001b[39;00m \u001b[38;5;28;01melse\u001b[39;00m {}), \u001b[38;5;241m*\u001b[39m\u001b[38;5;241m*\u001b[39mkwargs)\n",
      "File \u001b[0;32m~/anaconda3/lib/python3.11/site-packages/matplotlib/__init__.py:1446\u001b[0m, in \u001b[0;36m_preprocess_data.<locals>.inner\u001b[0;34m(ax, data, *args, **kwargs)\u001b[0m\n\u001b[1;32m   1443\u001b[0m \u001b[38;5;129m@functools\u001b[39m\u001b[38;5;241m.\u001b[39mwraps(func)\n\u001b[1;32m   1444\u001b[0m \u001b[38;5;28;01mdef\u001b[39;00m \u001b[38;5;21minner\u001b[39m(ax, \u001b[38;5;241m*\u001b[39margs, data\u001b[38;5;241m=\u001b[39m\u001b[38;5;28;01mNone\u001b[39;00m, \u001b[38;5;241m*\u001b[39m\u001b[38;5;241m*\u001b[39mkwargs):\n\u001b[1;32m   1445\u001b[0m     \u001b[38;5;28;01mif\u001b[39;00m data \u001b[38;5;129;01mis\u001b[39;00m \u001b[38;5;28;01mNone\u001b[39;00m:\n\u001b[0;32m-> 1446\u001b[0m         \u001b[38;5;28;01mreturn\u001b[39;00m func(ax, \u001b[38;5;241m*\u001b[39m\u001b[38;5;28mmap\u001b[39m(sanitize_sequence, args), \u001b[38;5;241m*\u001b[39m\u001b[38;5;241m*\u001b[39mkwargs)\n\u001b[1;32m   1448\u001b[0m     bound \u001b[38;5;241m=\u001b[39m new_sig\u001b[38;5;241m.\u001b[39mbind(ax, \u001b[38;5;241m*\u001b[39margs, \u001b[38;5;241m*\u001b[39m\u001b[38;5;241m*\u001b[39mkwargs)\n\u001b[1;32m   1449\u001b[0m     auto_label \u001b[38;5;241m=\u001b[39m (bound\u001b[38;5;241m.\u001b[39marguments\u001b[38;5;241m.\u001b[39mget(label_namer)\n\u001b[1;32m   1450\u001b[0m                   \u001b[38;5;129;01mor\u001b[39;00m bound\u001b[38;5;241m.\u001b[39mkwargs\u001b[38;5;241m.\u001b[39mget(label_namer))\n",
      "File \u001b[0;32m~/anaconda3/lib/python3.11/site-packages/matplotlib/axes/_axes.py:2409\u001b[0m, in \u001b[0;36mAxes.bar\u001b[0;34m(self, x, height, width, bottom, align, **kwargs)\u001b[0m\n\u001b[1;32m   2406\u001b[0m     \u001b[38;5;28;01mif\u001b[39;00m yerr \u001b[38;5;129;01mis\u001b[39;00m \u001b[38;5;129;01mnot\u001b[39;00m \u001b[38;5;28;01mNone\u001b[39;00m:\n\u001b[1;32m   2407\u001b[0m         yerr \u001b[38;5;241m=\u001b[39m \u001b[38;5;28mself\u001b[39m\u001b[38;5;241m.\u001b[39m_convert_dx(yerr, y0, y, \u001b[38;5;28mself\u001b[39m\u001b[38;5;241m.\u001b[39mconvert_yunits)\n\u001b[0;32m-> 2409\u001b[0m x, height, width, y, linewidth, hatch \u001b[38;5;241m=\u001b[39m np\u001b[38;5;241m.\u001b[39mbroadcast_arrays(\n\u001b[1;32m   2410\u001b[0m     \u001b[38;5;66;03m# Make args iterable too.\u001b[39;00m\n\u001b[1;32m   2411\u001b[0m     np\u001b[38;5;241m.\u001b[39matleast_1d(x), height, width, y, linewidth, hatch)\n\u001b[1;32m   2413\u001b[0m \u001b[38;5;66;03m# Now that units have been converted, set the tick locations.\u001b[39;00m\n\u001b[1;32m   2414\u001b[0m \u001b[38;5;28;01mif\u001b[39;00m orientation \u001b[38;5;241m==\u001b[39m \u001b[38;5;124m'\u001b[39m\u001b[38;5;124mvertical\u001b[39m\u001b[38;5;124m'\u001b[39m:\n",
      "File \u001b[0;32m<__array_function__ internals>:200\u001b[0m, in \u001b[0;36mbroadcast_arrays\u001b[0;34m(*args, **kwargs)\u001b[0m\n",
      "File \u001b[0;32m~/anaconda3/lib/python3.11/site-packages/numpy/lib/stride_tricks.py:540\u001b[0m, in \u001b[0;36mbroadcast_arrays\u001b[0;34m(subok, *args)\u001b[0m\n\u001b[1;32m    533\u001b[0m \u001b[38;5;66;03m# nditer is not used here to avoid the limit of 32 arrays.\u001b[39;00m\n\u001b[1;32m    534\u001b[0m \u001b[38;5;66;03m# Otherwise, something like the following one-liner would suffice:\u001b[39;00m\n\u001b[1;32m    535\u001b[0m \u001b[38;5;66;03m# return np.nditer(args, flags=['multi_index', 'zerosize_ok'],\u001b[39;00m\n\u001b[1;32m    536\u001b[0m \u001b[38;5;66;03m#                  order='C').itviews\u001b[39;00m\n\u001b[1;32m    538\u001b[0m args \u001b[38;5;241m=\u001b[39m [np\u001b[38;5;241m.\u001b[39marray(_m, copy\u001b[38;5;241m=\u001b[39m\u001b[38;5;28;01mFalse\u001b[39;00m, subok\u001b[38;5;241m=\u001b[39msubok) \u001b[38;5;28;01mfor\u001b[39;00m _m \u001b[38;5;129;01min\u001b[39;00m args]\n\u001b[0;32m--> 540\u001b[0m shape \u001b[38;5;241m=\u001b[39m _broadcast_shape(\u001b[38;5;241m*\u001b[39margs)\n\u001b[1;32m    542\u001b[0m \u001b[38;5;28;01mif\u001b[39;00m \u001b[38;5;28mall\u001b[39m(array\u001b[38;5;241m.\u001b[39mshape \u001b[38;5;241m==\u001b[39m shape \u001b[38;5;28;01mfor\u001b[39;00m array \u001b[38;5;129;01min\u001b[39;00m args):\n\u001b[1;32m    543\u001b[0m     \u001b[38;5;66;03m# Common case where nothing needs to be broadcasted.\u001b[39;00m\n\u001b[1;32m    544\u001b[0m     \u001b[38;5;28;01mreturn\u001b[39;00m args\n",
      "File \u001b[0;32m~/anaconda3/lib/python3.11/site-packages/numpy/lib/stride_tricks.py:422\u001b[0m, in \u001b[0;36m_broadcast_shape\u001b[0;34m(*args)\u001b[0m\n\u001b[1;32m    417\u001b[0m \u001b[38;5;250m\u001b[39m\u001b[38;5;124;03m\"\"\"Returns the shape of the arrays that would result from broadcasting the\u001b[39;00m\n\u001b[1;32m    418\u001b[0m \u001b[38;5;124;03msupplied arrays against each other.\u001b[39;00m\n\u001b[1;32m    419\u001b[0m \u001b[38;5;124;03m\"\"\"\u001b[39;00m\n\u001b[1;32m    420\u001b[0m \u001b[38;5;66;03m# use the old-iterator because np.nditer does not handle size 0 arrays\u001b[39;00m\n\u001b[1;32m    421\u001b[0m \u001b[38;5;66;03m# consistently\u001b[39;00m\n\u001b[0;32m--> 422\u001b[0m b \u001b[38;5;241m=\u001b[39m np\u001b[38;5;241m.\u001b[39mbroadcast(\u001b[38;5;241m*\u001b[39margs[:\u001b[38;5;241m32\u001b[39m])\n\u001b[1;32m    423\u001b[0m \u001b[38;5;66;03m# unfortunately, it cannot handle 32 or more arguments directly\u001b[39;00m\n\u001b[1;32m    424\u001b[0m \u001b[38;5;28;01mfor\u001b[39;00m pos \u001b[38;5;129;01min\u001b[39;00m \u001b[38;5;28mrange\u001b[39m(\u001b[38;5;241m32\u001b[39m, \u001b[38;5;28mlen\u001b[39m(args), \u001b[38;5;241m31\u001b[39m):\n\u001b[1;32m    425\u001b[0m     \u001b[38;5;66;03m# ironically, np.broadcast does not properly handle np.broadcast\u001b[39;00m\n\u001b[1;32m    426\u001b[0m     \u001b[38;5;66;03m# objects (it treats them as scalars)\u001b[39;00m\n\u001b[1;32m    427\u001b[0m     \u001b[38;5;66;03m# use broadcasting to avoid allocating the full array\u001b[39;00m\n",
      "\u001b[0;31mValueError\u001b[0m: shape mismatch: objects cannot be broadcast to a single shape.  Mismatch is between arg 0 with shape (25,) and arg 1 with shape (25, 61)."
     ]
    },
    {
     "data": {
      "image/png": "[encoded data removed]",
      "text/plain": [
       "<Figure size 1200x600 with 1 Axes>"
      ]
     },
     "metadata": {},
     "output_type": "display_data"
    }
   ],
   "source": [
    "# Test and Generate new samples\n",
    "from Generate import *\n",
    "\n",
    "use_model(model)\n",
    "\n",
    "\n",
    "# Test the accuracy of the model: lists all samples by decreasing accuracy\n",
    "test_all()\n",
    "\n",
    "# Print some pretty pictures of the samples and their encodings\n",
    "#demo_encodings()\n",
    "\n",
    "# Generate samples, interpolate, morph etc.\n",
    "demo_sounds()\n",
    "\n",
    "\n"
   ]
  },
  {
   "cell_type": "code",
   "execution_count": null,
   "id": "8d5a2ac9",
   "metadata": {},
   "outputs": [],
   "source": []
  },
  {
   "cell_type": "markdown",
   "id": "3ef24e5c",
   "metadata": {},
   "source": [
    "### "
   ]
  }
 ],
 "metadata": {
  "kernelspec": {
   "display_name": "Python 3 (ipykernel)",
   "language": "python",
   "name": "python3"
  },
  "language_info": {
   "codemirror_mode": {
    "name": "ipython",
    "version": 3
   },
   "file_extension": ".py",
   "mimetype": "text/x-python",
   "name": "python",
   "nbconvert_exporter": "python",
   "pygments_lexer": "ipython3",
   "version": "3.11.5"
  }
 },
 "nbformat": 4,
 "nbformat_minor": 5
}
